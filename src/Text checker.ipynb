{
 "cells": [
  {
   "cell_type": "code",
   "execution_count": null,
   "id": "93ddb86c",
   "metadata": {},
   "outputs": [],
   "source": [
    "I've love Waffles INC a long time--since their New Brighton location and am SO excited for them to have a move convenient for me location."
   ]
  },
  {
   "cell_type": "code",
   "execution_count": 1,
   "id": "a418608e",
   "metadata": {},
   "outputs": [
    {
     "name": "stdout",
     "output_type": "stream",
     "text": [
      "Collecting gingerit\n",
      "  Downloading gingerit-0.8.2-py3-none-any.whl (3.3 kB)\n",
      "Requirement already satisfied: requests<3.0.0,>=2.25.1 in /Users/cecilialee/miniconda3/lib/python3.9/site-packages (from gingerit) (2.25.1)\n",
      "Requirement already satisfied: urllib3<1.27,>=1.21.1 in /Users/cecilialee/miniconda3/lib/python3.9/site-packages (from requests<3.0.0,>=2.25.1->gingerit) (1.26.6)\n",
      "Requirement already satisfied: chardet<5,>=3.0.2 in /Users/cecilialee/miniconda3/lib/python3.9/site-packages (from requests<3.0.0,>=2.25.1->gingerit) (4.0.0)\n",
      "Requirement already satisfied: idna<3,>=2.5 in /Users/cecilialee/miniconda3/lib/python3.9/site-packages (from requests<3.0.0,>=2.25.1->gingerit) (2.10)\n",
      "Requirement already satisfied: certifi>=2017.4.17 in /Users/cecilialee/miniconda3/lib/python3.9/site-packages (from requests<3.0.0,>=2.25.1->gingerit) (2021.5.30)\n",
      "Installing collected packages: gingerit\n",
      "Successfully installed gingerit-0.8.2\n",
      "Note: you may need to restart the kernel to use updated packages.\n"
     ]
    }
   ],
   "source": [
    "pip install gingerit"
   ]
  },
  {
   "cell_type": "code",
   "execution_count": null,
   "id": "1267d997",
   "metadata": {},
   "outputs": [],
   "source": []
  },
  {
   "cell_type": "code",
   "execution_count": null,
   "id": "b236d4b2",
   "metadata": {},
   "outputs": [],
   "source": []
  },
  {
   "cell_type": "code",
   "execution_count": null,
   "id": "0ef53687",
   "metadata": {},
   "outputs": [],
   "source": []
  },
  {
   "cell_type": "code",
   "execution_count": null,
   "id": "601cf46b",
   "metadata": {},
   "outputs": [],
   "source": []
  },
  {
   "cell_type": "code",
   "execution_count": null,
   "id": "1ada03e9",
   "metadata": {},
   "outputs": [],
   "source": []
  }
 ],
 "metadata": {
  "kernelspec": {
   "display_name": "Python 3",
   "language": "python",
   "name": "python3"
  },
  "language_info": {
   "codemirror_mode": {
    "name": "ipython",
    "version": 3
   },
   "file_extension": ".py",
   "mimetype": "text/x-python",
   "name": "python",
   "nbconvert_exporter": "python",
   "pygments_lexer": "ipython3",
   "version": "3.9.5"
  }
 },
 "nbformat": 4,
 "nbformat_minor": 5
}
