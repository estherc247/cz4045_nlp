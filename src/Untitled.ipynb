{
 "cells": [
  {
   "cell_type": "code",
   "execution_count": 2,
   "id": "2847a34d",
   "metadata": {},
   "outputs": [],
   "source": [
    "import pandas as pd\n",
    "import spacy\n",
    "import en_core_web_sm\n",
    "import random\n",
    "from spacy import displacy\n",
    "import benepar\n",
    "\n",
    "# parse\n",
    "from collections import deque"
   ]
  },
  {
   "cell_type": "code",
   "execution_count": 15,
   "id": "0d6862a7",
   "metadata": {},
   "outputs": [
    {
     "name": "stdout",
     "output_type": "stream",
     "text": [
      "and even worse..expensive.\n",
      "our son got a kids meal..7.99$ and says comes with dessert , a choice of mac and cheese or mini burger ...few choices and a drink and a toy..\n",
      "we got mac and cheese ..\n",
      "disgusting, i felt bad letting my son eat that garbage for dinner.\n",
      "looked like no name.\n",
      "KD made poorly..the noodles were clumped together cheese in clumps..just gross..came with side of sweet potato fries, and by side i mean 5 fries...\n",
      "the dessert theres no choice unless you pay extra ..its a pre packaged cookie in a bag..again gross.. then for the toy we literally asked the waitress 4 times for our son to get his toy and she said on the way out he can pick one out of a chest..instead of bringing us the chest..anyways..on our way out we asked again can he pick his toy?\n",
      "the response we got was \"its in the back of restaurant near the kitchen\" so now we have our one year old all packed up and we have to mission back threw a busy bar..\n",
      "no thanks forget it.\n",
      "we had wings, a boneless chicken wing meal ( with a garden salad) and a kids meal , a beer, and a cocktail..\n",
      "70$.. the food was actually gross.\n",
      "wings dry.\n",
      "totally.\n",
      "NOT worth 70$. everything taste frozen from a bag deep fried.\n",
      "This is definitely a new destination for dinner out I highly recommend it take the negatives again with a grain of salt I don't know why everyone has to be such an *^%#% when reviewing somewhere new..\n",
      "Was sad that they were closed or so long but was so happy to hear they reopened so I can enjoy my Large Chicken Strips sub with Ranch on the side.\n",
      "Just ridiculous to take 20 min in the drive thru and have one person I front of me , will not come back hereOur last meal in Montreal was at Eggspectation and it was really nice..\n",
      "Everything was cooked well and although our server was new, she was really good and kept my coffee as full as I wanted..\n"
     ]
    },
    {
     "data": {
      "text/plain": [
       "[This is definitely a new destination for dinner out I highly recommend it take the negatives again with a grain of salt I don't know why everyone has to be such an *^%#% when reviewing somewhere new..,\n",
       " Was sad that they were closed or so long but was so happy to hear they reopened so I can enjoy my Large Chicken Strips sub with Ranch on the side.,\n",
       " Just ridiculous to take 20 min in the drive thru and have one person I front of me , will not come back hereOur last meal in Montreal was at Eggspectation and it was really nice..,\n",
       " Everything was cooked well and although our server was new, she was really good and kept my coffee as full as I wanted..]"
      ]
     },
     "execution_count": 15,
     "metadata": {},
     "output_type": "execute_result"
    }
   ],
   "source": [
    "nlp = spacy.load('en_core_web_sm')\n",
    "# text = df['text'].astype('str')\n",
    "# adjp_dict = {}\n",
    "# count = 0\n",
    "# num_sentences = 0\n",
    "# for t in text:\n",
    "#     if count == 20:\n",
    "#         break\n",
    "#     if count%10 == 0:\n",
    "#         print(count)\n",
    "#     count += 1\n",
    "t = 'and even worse..expensive. our son got a kids meal..7.99$ and says comes with dessert , a choice of mac and cheese or mini burger ...few choices and a drink and a toy..we got mac and cheese ..disgusting, i felt bad letting my son eat that garbage for dinner. looked like no name. KD made poorly..the noodles were clumped together cheese in clumps..just gross..came with side of sweet potato fries, and by side i mean 5 fries...the dessert theres no choice unless you pay extra ..its a pre packaged cookie in a bag..again gross.. then for the toy we literally asked the waitress 4 times for our son to get his toy and she said on the way out he can pick one out of a chest..instead of bringing us the chest..anyways..on our way out we asked again can he pick his toy? the response we got was \"its in the back of restaurant near the kitchen\" so now we have our one year old all packed up and we have to mission back threw a busy bar..no thanks forget it. we had wings, a boneless chicken wing meal ( with a garden salad) and a kids meal , a beer, and a cocktail..70$.. the food was actually gross. wings dry. totally. NOT worth 70$. everything taste frozen from a bag deep fried.'\n",
    "doc = nlp(t)\n",
    "for sent in doc.sents:\n",
    "    print(sent.text)\n",
    "\n",
    "t = \"This is definitely a new destination for dinner out I highly recommend it take the negatives again with a grain of salt I don't know why everyone has to be such an *^%#% when reviewing somewhere new..Was sad that they were closed or so long but was so happy to hear they reopened so I can enjoy my Large Chicken Strips sub with Ranch on the side.Just ridiculous to take 20 min in the drive thru and have one person I front of me , will not come back hereOur last meal in Montreal was at Eggspectation and it was really nice..Everything was cooked well and although our server was new, she was really good and kept my coffee as full as I wanted..\"\n",
    "doc = nlp(t)\n",
    "for sent in doc.sents:\n",
    "    print(sent.text)\n",
    "\n",
    "list(doc.sents)\n"
   ]
  },
  {
   "cell_type": "code",
   "execution_count": 18,
   "id": "75017846",
   "metadata": {},
   "outputs": [
    {
     "ename": "AttributeError",
     "evalue": "'generator' object has no attribute 'text'",
     "output_type": "error",
     "traceback": [
      "\u001b[0;31m---------------------------------------------------------------------------\u001b[0m",
      "\u001b[0;31mAttributeError\u001b[0m                            Traceback (most recent call last)",
      "\u001b[0;32m<ipython-input-18-74b8e4147813>\u001b[0m in \u001b[0;36m<module>\u001b[0;34m\u001b[0m\n\u001b[0;32m----> 1\u001b[0;31m \u001b[0mtype\u001b[0m\u001b[0;34m(\u001b[0m\u001b[0mlist\u001b[0m\u001b[0;34m(\u001b[0m\u001b[0mdoc\u001b[0m\u001b[0;34m.\u001b[0m\u001b[0msents\u001b[0m\u001b[0;34m.\u001b[0m\u001b[0mtext\u001b[0m\u001b[0;34m)\u001b[0m\u001b[0;34m[\u001b[0m\u001b[0;36m0\u001b[0m\u001b[0;34m]\u001b[0m\u001b[0;34m.\u001b[0m\u001b[0mtext\u001b[0m\u001b[0;34m)\u001b[0m\u001b[0;34m\u001b[0m\u001b[0;34m\u001b[0m\u001b[0m\n\u001b[0m",
      "\u001b[0;31mAttributeError\u001b[0m: 'generator' object has no attribute 'text'"
     ]
    }
   ],
   "source": [
    "type(list(doc.sents.text)[0].text)"
   ]
  },
  {
   "cell_type": "code",
   "execution_count": 19,
   "id": "03477aa5",
   "metadata": {},
   "outputs": [
    {
     "data": {
      "text/plain": [
       "[\"This is definitely a new destination for dinner out I highly recommend it take the negatives again with a grain of salt I don't know why everyone has to be such an *^%#% when reviewing somewhere new..\",\n",
       " 'Was sad that they were closed or so long but was so happy to hear they reopened so I can enjoy my Large Chicken Strips sub with Ranch on the side.',\n",
       " 'Just ridiculous to take 20 min in the drive thru and have one person I front of me , will not come back hereOur last meal in Montreal was at Eggspectation and it was really nice..',\n",
       " 'Everything was cooked well and although our server was new, she was really good and kept my coffee as full as I wanted..']"
      ]
     },
     "execution_count": 19,
     "metadata": {},
     "output_type": "execute_result"
    }
   ],
   "source": [
    "generator = list(doc.sents)\n",
    "sentence_tuple = [i.text for i in doc.sents]\n",
    "sentence_tuple"
   ]
  },
  {
   "cell_type": "code",
   "execution_count": 20,
   "id": "8e434adf",
   "metadata": {},
   "outputs": [
    {
     "data": {
      "text/plain": [
       "str"
      ]
     },
     "execution_count": 20,
     "metadata": {},
     "output_type": "execute_result"
    }
   ],
   "source": [
    "type(sentence_tuple[0])"
   ]
  },
  {
   "cell_type": "code",
   "execution_count": 21,
   "id": "50002d97",
   "metadata": {},
   "outputs": [
    {
     "data": {
      "text/plain": [
       "(\"This is definitely a new destination for dinner out I highly recommend it take the negatives again with a grain of salt I don't know why everyone has to be such an *^%#% when reviewing somewhere new..\",\n",
       " 'Was sad that they were closed or so long but was so happy to hear they reopened so I can enjoy my Large Chicken Strips sub with Ranch on the side.',\n",
       " 'Just ridiculous to take 20 min in the drive thru and have one person I front of me , will not come back hereOur last meal in Montreal was at Eggspectation and it was really nice..',\n",
       " 'Everything was cooked well and although our server was new, she was really good and kept my coffee as full as I wanted..')"
      ]
     },
     "execution_count": 21,
     "metadata": {},
     "output_type": "execute_result"
    }
   ],
   "source": [
    "tuple(sentence_tuple)"
   ]
  },
  {
   "cell_type": "code",
   "execution_count": null,
   "id": "3382754d",
   "metadata": {},
   "outputs": [],
   "source": []
  }
 ],
 "metadata": {
  "kernelspec": {
   "display_name": "Python 3",
   "language": "python",
   "name": "python3"
  },
  "language_info": {
   "codemirror_mode": {
    "name": "ipython",
    "version": 3
   },
   "file_extension": ".py",
   "mimetype": "text/x-python",
   "name": "python",
   "nbconvert_exporter": "python",
   "pygments_lexer": "ipython3",
   "version": "3.9.5"
  }
 },
 "nbformat": 4,
 "nbformat_minor": 5
}
