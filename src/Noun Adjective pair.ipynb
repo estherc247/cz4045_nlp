{
 "cells": [
  {
   "cell_type": "markdown",
   "id": "8cedc5f2",
   "metadata": {},
   "source": [
    "# Import libraries"
   ]
  },
  {
   "cell_type": "code",
   "execution_count": 26,
   "id": "1b144fd6",
   "metadata": {},
   "outputs": [],
   "source": [
    "import pandas as pd\n",
    "import spacy\n",
    "import en_core_web_sm\n",
    "import random\n",
    "from spacy import displacy"
   ]
  },
  {
   "cell_type": "markdown",
   "id": "60d62a53",
   "metadata": {},
   "source": [
    "# Explore data"
   ]
  },
  {
   "cell_type": "code",
   "execution_count": 11,
   "id": "5469c08b",
   "metadata": {},
   "outputs": [],
   "source": [
    "df = pd.read_json('../data/reviewSelected100.json', lines=True, encoding = \"ISO-8859-1\")"
   ]
  },
  {
   "cell_type": "code",
   "execution_count": 12,
   "id": "a2e66d75",
   "metadata": {},
   "outputs": [
    {
     "data": {
      "text/html": [
       "<div>\n",
       "<style scoped>\n",
       "    .dataframe tbody tr th:only-of-type {\n",
       "        vertical-align: middle;\n",
       "    }\n",
       "\n",
       "    .dataframe tbody tr th {\n",
       "        vertical-align: top;\n",
       "    }\n",
       "\n",
       "    .dataframe thead th {\n",
       "        text-align: right;\n",
       "    }\n",
       "</style>\n",
       "<table border=\"1\" class=\"dataframe\">\n",
       "  <thead>\n",
       "    <tr style=\"text-align: right;\">\n",
       "      <th></th>\n",
       "      <th>stars</th>\n",
       "      <th>useful</th>\n",
       "      <th>funny</th>\n",
       "      <th>cool</th>\n",
       "    </tr>\n",
       "  </thead>\n",
       "  <tbody>\n",
       "    <tr>\n",
       "      <th>count</th>\n",
       "      <td>15300.000000</td>\n",
       "      <td>15300.000000</td>\n",
       "      <td>15300.000000</td>\n",
       "      <td>15300.000000</td>\n",
       "    </tr>\n",
       "    <tr>\n",
       "      <th>mean</th>\n",
       "      <td>3.646601</td>\n",
       "      <td>1.292745</td>\n",
       "      <td>0.430000</td>\n",
       "      <td>0.514575</td>\n",
       "    </tr>\n",
       "    <tr>\n",
       "      <th>std</th>\n",
       "      <td>1.455130</td>\n",
       "      <td>3.241261</td>\n",
       "      <td>1.866658</td>\n",
       "      <td>2.334050</td>\n",
       "    </tr>\n",
       "    <tr>\n",
       "      <th>min</th>\n",
       "      <td>1.000000</td>\n",
       "      <td>0.000000</td>\n",
       "      <td>0.000000</td>\n",
       "      <td>0.000000</td>\n",
       "    </tr>\n",
       "    <tr>\n",
       "      <th>25%</th>\n",
       "      <td>3.000000</td>\n",
       "      <td>0.000000</td>\n",
       "      <td>0.000000</td>\n",
       "      <td>0.000000</td>\n",
       "    </tr>\n",
       "    <tr>\n",
       "      <th>50%</th>\n",
       "      <td>4.000000</td>\n",
       "      <td>0.000000</td>\n",
       "      <td>0.000000</td>\n",
       "      <td>0.000000</td>\n",
       "    </tr>\n",
       "    <tr>\n",
       "      <th>75%</th>\n",
       "      <td>5.000000</td>\n",
       "      <td>1.000000</td>\n",
       "      <td>0.000000</td>\n",
       "      <td>0.000000</td>\n",
       "    </tr>\n",
       "    <tr>\n",
       "      <th>max</th>\n",
       "      <td>5.000000</td>\n",
       "      <td>191.000000</td>\n",
       "      <td>122.000000</td>\n",
       "      <td>180.000000</td>\n",
       "    </tr>\n",
       "  </tbody>\n",
       "</table>\n",
       "</div>"
      ],
      "text/plain": [
       "              stars        useful         funny          cool\n",
       "count  15300.000000  15300.000000  15300.000000  15300.000000\n",
       "mean       3.646601      1.292745      0.430000      0.514575\n",
       "std        1.455130      3.241261      1.866658      2.334050\n",
       "min        1.000000      0.000000      0.000000      0.000000\n",
       "25%        3.000000      0.000000      0.000000      0.000000\n",
       "50%        4.000000      0.000000      0.000000      0.000000\n",
       "75%        5.000000      1.000000      0.000000      0.000000\n",
       "max        5.000000    191.000000    122.000000    180.000000"
      ]
     },
     "execution_count": 12,
     "metadata": {},
     "output_type": "execute_result"
    }
   ],
   "source": [
    "df.describe()"
   ]
  },
  {
   "cell_type": "code",
   "execution_count": 13,
   "id": "4171253c",
   "metadata": {},
   "outputs": [
    {
     "data": {
      "text/html": [
       "<div>\n",
       "<style scoped>\n",
       "    .dataframe tbody tr th:only-of-type {\n",
       "        vertical-align: middle;\n",
       "    }\n",
       "\n",
       "    .dataframe tbody tr th {\n",
       "        vertical-align: top;\n",
       "    }\n",
       "\n",
       "    .dataframe thead th {\n",
       "        text-align: right;\n",
       "    }\n",
       "</style>\n",
       "<table border=\"1\" class=\"dataframe\">\n",
       "  <thead>\n",
       "    <tr style=\"text-align: right;\">\n",
       "      <th></th>\n",
       "      <th>review_id</th>\n",
       "      <th>user_id</th>\n",
       "      <th>business_id</th>\n",
       "      <th>stars</th>\n",
       "      <th>useful</th>\n",
       "      <th>funny</th>\n",
       "      <th>cool</th>\n",
       "      <th>text</th>\n",
       "      <th>date</th>\n",
       "    </tr>\n",
       "  </thead>\n",
       "  <tbody>\n",
       "    <tr>\n",
       "      <th>0</th>\n",
       "      <td>8aoJJdKEO3ypoZNszpPu7Q</td>\n",
       "      <td>bGgAL09pxLnV_FFgR4ZADg</td>\n",
       "      <td>ZBE-H_aUlicix_9vUGQPIQ</td>\n",
       "      <td>5</td>\n",
       "      <td>0</td>\n",
       "      <td>0</td>\n",
       "      <td>0</td>\n",
       "      <td>We had my Mother's Birthday Party here on 10/2...</td>\n",
       "      <td>2016-11-09 20:07:25</td>\n",
       "    </tr>\n",
       "    <tr>\n",
       "      <th>1</th>\n",
       "      <td>J5NOCLdhuhor7USRhtYZ8w</td>\n",
       "      <td>pFCb-1j6oI3TDjr26h2cJQ</td>\n",
       "      <td>e-YnECeZNt8ngm0tu4X9mQ</td>\n",
       "      <td>4</td>\n",
       "      <td>0</td>\n",
       "      <td>0</td>\n",
       "      <td>0</td>\n",
       "      <td>Good Korean grill near Eaton Centre. The marin...</td>\n",
       "      <td>2015-12-05 05:06:43</td>\n",
       "    </tr>\n",
       "    <tr>\n",
       "      <th>2</th>\n",
       "      <td>PXiLWAYRt3xnHaJ8MB4rzw</td>\n",
       "      <td>mEzc6LeTNiQgIVsq3poMbg</td>\n",
       "      <td>j7HO1YeMQGYo3KibMXZ5vg</td>\n",
       "      <td>5</td>\n",
       "      <td>2</td>\n",
       "      <td>1</td>\n",
       "      <td>3</td>\n",
       "      <td>Was recommended to try this place by few peopl...</td>\n",
       "      <td>2014-10-11 05:16:15</td>\n",
       "    </tr>\n",
       "    <tr>\n",
       "      <th>3</th>\n",
       "      <td>VrLarvxZYJm74yAqtpe9PQ</td>\n",
       "      <td>o-zUN2WEZgjQS7jnNsec0g</td>\n",
       "      <td>7e3PZzUpG5FYOTGt3O3ePA</td>\n",
       "      <td>3</td>\n",
       "      <td>0</td>\n",
       "      <td>0</td>\n",
       "      <td>0</td>\n",
       "      <td>Ambience: Would not expect something this nice...</td>\n",
       "      <td>2016-07-25 03:45:26</td>\n",
       "    </tr>\n",
       "    <tr>\n",
       "      <th>4</th>\n",
       "      <td>C1CUpidlVFprUCkApqzCmA</td>\n",
       "      <td>Wlx0iBXJvk4x0EeOt2Bz1Q</td>\n",
       "      <td>vuHzLZ7nAeT-EiecOkS5Og</td>\n",
       "      <td>1</td>\n",
       "      <td>11</td>\n",
       "      <td>0</td>\n",
       "      <td>3</td>\n",
       "      <td>Absolutely the WORST pool company that I have ...</td>\n",
       "      <td>2016-04-11 18:49:11</td>\n",
       "    </tr>\n",
       "  </tbody>\n",
       "</table>\n",
       "</div>"
      ],
      "text/plain": [
       "                review_id                 user_id             business_id  \\\n",
       "0  8aoJJdKEO3ypoZNszpPu7Q  bGgAL09pxLnV_FFgR4ZADg  ZBE-H_aUlicix_9vUGQPIQ   \n",
       "1  J5NOCLdhuhor7USRhtYZ8w  pFCb-1j6oI3TDjr26h2cJQ  e-YnECeZNt8ngm0tu4X9mQ   \n",
       "2  PXiLWAYRt3xnHaJ8MB4rzw  mEzc6LeTNiQgIVsq3poMbg  j7HO1YeMQGYo3KibMXZ5vg   \n",
       "3  VrLarvxZYJm74yAqtpe9PQ  o-zUN2WEZgjQS7jnNsec0g  7e3PZzUpG5FYOTGt3O3ePA   \n",
       "4  C1CUpidlVFprUCkApqzCmA  Wlx0iBXJvk4x0EeOt2Bz1Q  vuHzLZ7nAeT-EiecOkS5Og   \n",
       "\n",
       "   stars  useful  funny  cool  \\\n",
       "0      5       0      0     0   \n",
       "1      4       0      0     0   \n",
       "2      5       2      1     3   \n",
       "3      3       0      0     0   \n",
       "4      1      11      0     3   \n",
       "\n",
       "                                                text                date  \n",
       "0  We had my Mother's Birthday Party here on 10/2... 2016-11-09 20:07:25  \n",
       "1  Good Korean grill near Eaton Centre. The marin... 2015-12-05 05:06:43  \n",
       "2  Was recommended to try this place by few peopl... 2014-10-11 05:16:15  \n",
       "3  Ambience: Would not expect something this nice... 2016-07-25 03:45:26  \n",
       "4  Absolutely the WORST pool company that I have ... 2016-04-11 18:49:11  "
      ]
     },
     "execution_count": 13,
     "metadata": {},
     "output_type": "execute_result"
    }
   ],
   "source": [
    "df.head()"
   ]
  },
  {
   "cell_type": "markdown",
   "id": "12f99ab8",
   "metadata": {},
   "source": [
    "# Implement extractor"
   ]
  },
  {
   "cell_type": "markdown",
   "id": "1e545508",
   "metadata": {},
   "source": [
    "Most frequent ⟨ Noun - Adjective ⟩ pairs for each rating. Each review has a “star” rating in the range of\n",
    "1 to 5. Randomly select 50 reviews (one from each business) of rating 1, extract the top-10 most frequent\n",
    "noun-adjective pairs from the sentences in these selected reviews. Example noun-adjective pairs are servicegreat,\n",
    "food-delicious, that appear in the same sentence. Do the same for 20 reviews of ratings 2, 3, 4, and 5,\n",
    "respectively. Discuss your results and limitations of your method."
   ]
  },
  {
   "cell_type": "markdown",
   "id": "7ce8ce91",
   "metadata": {},
   "source": [
    "### Functions to get random 20 reviews from random business that have a certain rating"
   ]
  },
  {
   "cell_type": "code",
   "execution_count": 20,
   "id": "c4dce716",
   "metadata": {},
   "outputs": [],
   "source": [
    "# random 50 reviews (not the same biz) from rating 1\n",
    "# just get 50 random review, then if there is any other biz that overlap then find random again, repeat until all\n",
    "# review is from different biz (this)\n",
    "\n",
    "\n",
    "def get_all_biz(df):\n",
    "    biz = df['business_id'].unique()\n",
    "    sorted(biz)\n",
    "    return biz\n",
    "\n",
    "def get_random(df_len, seed=10086):\n",
    "    return random.randint(0,df_len)    \n",
    "\n",
    "def extract_random_reviews_from_different_biz(num_reviews, star_rating, df):\n",
    "    # filter star rating\n",
    "    filter_df = df.loc[df['stars'] == star_rating]\n",
    "    \n",
    "    # get random review\n",
    "    random_review = {}\n",
    "    while (len(random_review.keys()) < num_reviews):\n",
    "        random_index = get_random(len(filter_df)-1)\n",
    "        biz_name = filter_df.iloc[[random_index]]['business_id'].values[0]\n",
    "        if biz_name in random_review:\n",
    "            continue\n",
    "        else:\n",
    "            random_review[biz_name] = filter_df.iloc[[random_index]]['text'].values[0]\n",
    "            #filter_df = filter_df.drop([filter_df.index[random_index]])\n",
    "    \n",
    "    \n",
    "    # convert to list\n",
    "    return list(random_review.values())\n",
    "\n",
    "# descending\n",
    "def sort_dict(data_dict):\n",
    "    return {k: v for k, v in sorted(data_dict.items(), key=lambda item: item[1], reverse=True)}\n"
   ]
  },
  {
   "cell_type": "markdown",
   "id": "b9bef395",
   "metadata": {},
   "source": [
    "### Function to extract adj-noun pair"
   ]
  },
  {
   "cell_type": "code",
   "execution_count": 4,
   "id": "c7d88909",
   "metadata": {},
   "outputs": [],
   "source": [
    "nlp = spacy.load('en_core_web_sm')"
   ]
  },
  {
   "cell_type": "code",
   "execution_count": 6,
   "id": "c2eb211e",
   "metadata": {},
   "outputs": [],
   "source": [
    "def get_noun_adj_pair(reviews):\n",
    "    noun_adj_pair_dict = {}\n",
    "    for review in reviews:\n",
    "        doc = nlp(review)\n",
    "        for np in doc.noun_chunks: # np refers to noun phrases\n",
    "            np_adj = []\n",
    "            np_noun_only = []\n",
    "            extracted_np_adj_temp = []   # before adding to the noun_adj_pair_dict\n",
    "\n",
    "            # start extraction of noun adj pair\n",
    "\n",
    "            # adjective right before noun eg 'good food'\n",
    "            for token in np:\n",
    "                if token.pos_ in (\"ADV\",\"ADJ\",\"PART\"):\n",
    "                    extracted_np_adj_temp.append(token)\n",
    "                elif (token.pos_ in (\"NOUN\", \"PROPN\") and str(token) != 'one'):   # track those with noun/pronoun\n",
    "                    np_noun_only.append(token)\n",
    "            if len(extracted_np_adj_temp)>0:\n",
    "                np_adj.append(extracted_np_adj_temp)\n",
    "\n",
    "        \n",
    "            # sentences with auxiliary words such as \"food was good\"\n",
    "            extracted_np_adj_temp = []\n",
    "\n",
    "            # find \"was, were, is, are\"\n",
    "            for j in range(token.i+1,len(doc)): \n",
    "                if doc[j].pos_ in ('AUX'):\n",
    "                    aux_found = False\n",
    "                    neg_conj_found = False\n",
    "\n",
    "                    # find in the children of the aux\n",
    "                    for child in list(doc[j].children): \n",
    "                        if neg_conj_found == False:\n",
    "                            extracted_np_adj_temp = []\n",
    "                        else:\n",
    "                            neg_conj_found = False\n",
    "                        if child.pos_ in (\"PART\",\"CCONJ\"):\n",
    "                            neg_conj_found = True\n",
    "                        if (child.pos_ in (\"NOUN\",\"PROPN\") and str(child) != 'one') and (child in np):\n",
    "                            aux_found = True \n",
    "                            \n",
    "                        # find corresponding adjective for the noun\n",
    "                        if aux_found == True and child.pos_ in (\"ADJ\",\"ADV\",\"PART\"): # PART refers to negation\n",
    "                            for grandchild in child.children: # extracts the \"very\" in \"very happy atmosphere\"\n",
    "                                if grandchild.pos_ in (\"ADJ\",\"ADV\",\"PART\") and grandchild.i<child.i:\n",
    "                                    extracted_np_adj_temp.append(grandchild)\n",
    "                            extracted_np_adj_temp.append(child)\n",
    "                            if extracted_np_adj_temp not in np_adj:\n",
    "                                np_adj.append(extracted_np_adj_temp)\n",
    "\n",
    "            if (len(np_noun_only)!=0 and len(np_adj)!=0):\n",
    "                for extracted_np_adj_temp in np_adj:\n",
    "                    noun_adj_pair = (\" \".join([str(x).lower() for x in np_noun_only]),\" \".join([str(x).lower() for x in extracted_np_adj_temp]))\n",
    "                    if noun_adj_pair in noun_adj_pair_dict:\n",
    "                        noun_adj_pair_dict[noun_adj_pair] += 1\n",
    "                    else:\n",
    "                        noun_adj_pair_dict[noun_adj_pair] = 1\n",
    "                        \n",
    "    return noun_adj_pair_dict"
   ]
  },
  {
   "cell_type": "code",
   "execution_count": 72,
   "id": "78634023",
   "metadata": {},
   "outputs": [],
   "source": [
    "def preprocessing(reviews):\n",
    "    return [i.lower() for i in reviews]"
   ]
  },
  {
   "cell_type": "code",
   "execution_count": 43,
   "id": "ecee93d9",
   "metadata": {},
   "outputs": [],
   "source": [
    "def postprocessing(data_dict):\n",
    "    new_dict = {}\n",
    "    # k is tuple, (noun, adj)\n",
    "    for k,v in data_dict.items():\n",
    "#         print(k)\n",
    "        doc = nlp(k[0])\n",
    "        lemma = [token.lemma_.lower() for token in doc]\n",
    "        new_tuple = tuple([' '.join(lemma), k[1].lower()])\n",
    "#         print(new_tuple)\n",
    "        if new_tuple in new_dict:\n",
    "            new_dict[new_tuple] += v\n",
    "        else:\n",
    "            new_dict[new_tuple] = v\n",
    "    return new_dict\n",
    "        "
   ]
  },
  {
   "cell_type": "markdown",
   "id": "6f8b8c15",
   "metadata": {},
   "source": [
    "# Run on data"
   ]
  },
  {
   "cell_type": "code",
   "execution_count": 73,
   "id": "33257533",
   "metadata": {},
   "outputs": [],
   "source": [
    "## Rating 1, 50 random data from different business\n",
    "\n",
    "def extract_adj_noun_pair(rating, num_review, df, top_n_most_frequent):\n",
    "    # get random reviews\n",
    "    random_reviews = extract_random_reviews_from_different_biz(num_review, rating, df)\n",
    "    \n",
    "    # preprocessing\n",
    "    random_reviews = preprocessing(random_reviews)\n",
    "    \n",
    "    # extract noun-adj pair\n",
    "    noun_adj_pairs = get_noun_adj_pair(random_reviews)\n",
    "    \n",
    "    # postprocessing\n",
    "    print('count before postprocessing {}'.format(len(noun_adj_pairs)))\n",
    "    noun_adj_pairs = postprocessing(noun_adj_pairs)\n",
    "    noun_adj_pairs = sort_dict(noun_adj_pairs)\n",
    "    print('count after postprocessing {}'.format(len(noun_adj_pairs)))\n",
    "    \n",
    "    # convert & return to dataframe\n",
    "    noun_adj_pairs_df = pd.DataFrame(noun_adj_pairs, index=['count']).transpose()\n",
    "    return noun_adj_pairs_df.head(10)"
   ]
  },
  {
   "cell_type": "markdown",
   "id": "b9d98f96",
   "metadata": {},
   "source": [
    "## Rating 1, 50 random reviews"
   ]
  },
  {
   "cell_type": "code",
   "execution_count": 74,
   "id": "fea2e0df",
   "metadata": {},
   "outputs": [
    {
     "name": "stdout",
     "output_type": "stream",
     "text": [
      "count before postprocessing 298\n",
      "count after postprocessing 298\n"
     ]
    },
    {
     "data": {
      "text/html": [
       "<div>\n",
       "<style scoped>\n",
       "    .dataframe tbody tr th:only-of-type {\n",
       "        vertical-align: middle;\n",
       "    }\n",
       "\n",
       "    .dataframe tbody tr th {\n",
       "        vertical-align: top;\n",
       "    }\n",
       "\n",
       "    .dataframe thead th {\n",
       "        text-align: right;\n",
       "    }\n",
       "</style>\n",
       "<table border=\"1\" class=\"dataframe\">\n",
       "  <thead>\n",
       "    <tr style=\"text-align: right;\">\n",
       "      <th></th>\n",
       "      <th></th>\n",
       "      <th>count</th>\n",
       "    </tr>\n",
       "  </thead>\n",
       "  <tbody>\n",
       "    <tr>\n",
       "      <th>people</th>\n",
       "      <th>other</th>\n",
       "      <td>3</td>\n",
       "    </tr>\n",
       "    <tr>\n",
       "      <th>service</th>\n",
       "      <th>terrible</th>\n",
       "      <td>3</td>\n",
       "    </tr>\n",
       "    <tr>\n",
       "      <th>minute</th>\n",
       "      <th>several</th>\n",
       "      <td>3</td>\n",
       "    </tr>\n",
       "    <tr>\n",
       "      <th>soup</th>\n",
       "      <th>hot sour</th>\n",
       "      <td>3</td>\n",
       "    </tr>\n",
       "    <tr>\n",
       "      <th>chance</th>\n",
       "      <th>second</th>\n",
       "      <td>2</td>\n",
       "    </tr>\n",
       "    <tr>\n",
       "      <th>cheese</th>\n",
       "      <th>big</th>\n",
       "      <td>2</td>\n",
       "    </tr>\n",
       "    <tr>\n",
       "      <th>minute</th>\n",
       "      <th>few</th>\n",
       "      <td>2</td>\n",
       "    </tr>\n",
       "    <tr>\n",
       "      <th>visit</th>\n",
       "      <th>last</th>\n",
       "      <td>2</td>\n",
       "    </tr>\n",
       "    <tr>\n",
       "      <th>fry</th>\n",
       "      <th>french</th>\n",
       "      <td>2</td>\n",
       "    </tr>\n",
       "    <tr>\n",
       "      <th>service</th>\n",
       "      <th>good</th>\n",
       "      <td>2</td>\n",
       "    </tr>\n",
       "  </tbody>\n",
       "</table>\n",
       "</div>"
      ],
      "text/plain": [
       "                  count\n",
       "people  other         3\n",
       "service terrible      3\n",
       "minute  several       3\n",
       "soup    hot sour      3\n",
       "chance  second        2\n",
       "cheese  big           2\n",
       "minute  few           2\n",
       "visit   last          2\n",
       "fry     french        2\n",
       "service good          2"
      ]
     },
     "execution_count": 74,
     "metadata": {},
     "output_type": "execute_result"
    }
   ],
   "source": [
    "extract_adj_noun_pair(1, 50, df, 10)"
   ]
  },
  {
   "cell_type": "markdown",
   "id": "d3e0d7ab",
   "metadata": {},
   "source": [
    "## Rating 2, 20 random reviews"
   ]
  },
  {
   "cell_type": "code",
   "execution_count": 75,
   "id": "873f04fa",
   "metadata": {},
   "outputs": [
    {
     "name": "stdout",
     "output_type": "stream",
     "text": [
      "count before postprocessing 131\n",
      "count after postprocessing 130\n"
     ]
    },
    {
     "data": {
      "text/html": [
       "<div>\n",
       "<style scoped>\n",
       "    .dataframe tbody tr th:only-of-type {\n",
       "        vertical-align: middle;\n",
       "    }\n",
       "\n",
       "    .dataframe tbody tr th {\n",
       "        vertical-align: top;\n",
       "    }\n",
       "\n",
       "    .dataframe thead th {\n",
       "        text-align: right;\n",
       "    }\n",
       "</style>\n",
       "<table border=\"1\" class=\"dataframe\">\n",
       "  <thead>\n",
       "    <tr style=\"text-align: right;\">\n",
       "      <th></th>\n",
       "      <th></th>\n",
       "      <th>count</th>\n",
       "    </tr>\n",
       "  </thead>\n",
       "  <tbody>\n",
       "    <tr>\n",
       "      <th>service</th>\n",
       "      <th>horrible</th>\n",
       "      <td>2</td>\n",
       "    </tr>\n",
       "    <tr>\n",
       "      <th>thing</th>\n",
       "      <th>only</th>\n",
       "      <td>2</td>\n",
       "    </tr>\n",
       "    <tr>\n",
       "      <th rowspan=\"2\" valign=\"top\">decor</th>\n",
       "      <th>nice</th>\n",
       "      <td>2</td>\n",
       "    </tr>\n",
       "    <tr>\n",
       "      <th>best</th>\n",
       "      <td>2</td>\n",
       "    </tr>\n",
       "    <tr>\n",
       "      <th>option</th>\n",
       "      <th>ayce</th>\n",
       "      <td>2</td>\n",
       "    </tr>\n",
       "    <tr>\n",
       "      <th>flavor</th>\n",
       "      <th>little</th>\n",
       "      <td>2</td>\n",
       "    </tr>\n",
       "    <tr>\n",
       "      <th>side</th>\n",
       "      <th>east</th>\n",
       "      <td>2</td>\n",
       "    </tr>\n",
       "    <tr>\n",
       "      <th>food</th>\n",
       "      <th>bland</th>\n",
       "      <td>1</td>\n",
       "    </tr>\n",
       "    <tr>\n",
       "      <th>maple syrup</th>\n",
       "      <th>real</th>\n",
       "      <td>1</td>\n",
       "    </tr>\n",
       "    <tr>\n",
       "      <th>problem</th>\n",
       "      <th>real</th>\n",
       "      <td>1</td>\n",
       "    </tr>\n",
       "  </tbody>\n",
       "</table>\n",
       "</div>"
      ],
      "text/plain": [
       "                      count\n",
       "service     horrible      2\n",
       "thing       only          2\n",
       "decor       nice          2\n",
       "            best          2\n",
       "option      ayce          2\n",
       "flavor      little        2\n",
       "side        east          2\n",
       "food        bland         1\n",
       "maple syrup real          1\n",
       "problem     real          1"
      ]
     },
     "execution_count": 75,
     "metadata": {},
     "output_type": "execute_result"
    }
   ],
   "source": [
    "extract_adj_noun_pair(2, 20, df, 10)"
   ]
  },
  {
   "cell_type": "markdown",
   "id": "bacf4b95",
   "metadata": {},
   "source": [
    "## Rating 3, 20 random reviews"
   ]
  },
  {
   "cell_type": "code",
   "execution_count": 76,
   "id": "1624a090",
   "metadata": {},
   "outputs": [
    {
     "name": "stdout",
     "output_type": "stream",
     "text": [
      "count before postprocessing 113\n",
      "count after postprocessing 112\n"
     ]
    },
    {
     "data": {
      "text/html": [
       "<div>\n",
       "<style scoped>\n",
       "    .dataframe tbody tr th:only-of-type {\n",
       "        vertical-align: middle;\n",
       "    }\n",
       "\n",
       "    .dataframe tbody tr th {\n",
       "        vertical-align: top;\n",
       "    }\n",
       "\n",
       "    .dataframe thead th {\n",
       "        text-align: right;\n",
       "    }\n",
       "</style>\n",
       "<table border=\"1\" class=\"dataframe\">\n",
       "  <thead>\n",
       "    <tr style=\"text-align: right;\">\n",
       "      <th></th>\n",
       "      <th></th>\n",
       "      <th>count</th>\n",
       "    </tr>\n",
       "  </thead>\n",
       "  <tbody>\n",
       "    <tr>\n",
       "      <th>service</th>\n",
       "      <th>great</th>\n",
       "      <td>2</td>\n",
       "    </tr>\n",
       "    <tr>\n",
       "      <th>time</th>\n",
       "      <th>first</th>\n",
       "      <td>2</td>\n",
       "    </tr>\n",
       "    <tr>\n",
       "      <th>home</th>\n",
       "      <th>nice</th>\n",
       "      <td>2</td>\n",
       "    </tr>\n",
       "    <tr>\n",
       "      <th rowspan=\"2\" valign=\"top\">place</th>\n",
       "      <th>great</th>\n",
       "      <td>2</td>\n",
       "    </tr>\n",
       "    <tr>\n",
       "      <th>other</th>\n",
       "      <td>1</td>\n",
       "    </tr>\n",
       "    <tr>\n",
       "      <th>check process</th>\n",
       "      <th>slower</th>\n",
       "      <td>1</td>\n",
       "    </tr>\n",
       "    <tr>\n",
       "      <th>hour</th>\n",
       "      <th>less</th>\n",
       "      <td>1</td>\n",
       "    </tr>\n",
       "    <tr>\n",
       "      <th>nurse</th>\n",
       "      <th>nice</th>\n",
       "      <td>1</td>\n",
       "    </tr>\n",
       "    <tr>\n",
       "      <th>menu</th>\n",
       "      <th>full</th>\n",
       "      <td>1</td>\n",
       "    </tr>\n",
       "    <tr>\n",
       "      <th>bakery</th>\n",
       "      <th>other</th>\n",
       "      <td>1</td>\n",
       "    </tr>\n",
       "  </tbody>\n",
       "</table>\n",
       "</div>"
      ],
      "text/plain": [
       "                      count\n",
       "service       great       2\n",
       "time          first       2\n",
       "home          nice        2\n",
       "place         great       2\n",
       "              other       1\n",
       "check process slower      1\n",
       "hour          less        1\n",
       "nurse         nice        1\n",
       "menu          full        1\n",
       "bakery        other       1"
      ]
     },
     "execution_count": 76,
     "metadata": {},
     "output_type": "execute_result"
    }
   ],
   "source": [
    "extract_adj_noun_pair(3, 20, df, 10)"
   ]
  },
  {
   "cell_type": "markdown",
   "id": "84c9ab5d",
   "metadata": {},
   "source": [
    "## Rating 4, 20 random reviews"
   ]
  },
  {
   "cell_type": "code",
   "execution_count": 77,
   "id": "cf6d126d",
   "metadata": {},
   "outputs": [
    {
     "name": "stdout",
     "output_type": "stream",
     "text": [
      "count before postprocessing 141\n",
      "count after postprocessing 140\n"
     ]
    },
    {
     "data": {
      "text/html": [
       "<div>\n",
       "<style scoped>\n",
       "    .dataframe tbody tr th:only-of-type {\n",
       "        vertical-align: middle;\n",
       "    }\n",
       "\n",
       "    .dataframe tbody tr th {\n",
       "        vertical-align: top;\n",
       "    }\n",
       "\n",
       "    .dataframe thead th {\n",
       "        text-align: right;\n",
       "    }\n",
       "</style>\n",
       "<table border=\"1\" class=\"dataframe\">\n",
       "  <thead>\n",
       "    <tr style=\"text-align: right;\">\n",
       "      <th></th>\n",
       "      <th></th>\n",
       "      <th>count</th>\n",
       "    </tr>\n",
       "  </thead>\n",
       "  <tbody>\n",
       "    <tr>\n",
       "      <th>service</th>\n",
       "      <th>great</th>\n",
       "      <td>3</td>\n",
       "    </tr>\n",
       "    <tr>\n",
       "      <th>pot</th>\n",
       "      <th>hot</th>\n",
       "      <td>2</td>\n",
       "    </tr>\n",
       "    <tr>\n",
       "      <th>breakfast</th>\n",
       "      <th>delicious</th>\n",
       "      <td>1</td>\n",
       "    </tr>\n",
       "    <tr>\n",
       "      <th>puppy</th>\n",
       "      <th>hush</th>\n",
       "      <td>1</td>\n",
       "    </tr>\n",
       "    <tr>\n",
       "      <th>option</th>\n",
       "      <th>many</th>\n",
       "      <td>1</td>\n",
       "    </tr>\n",
       "    <tr>\n",
       "      <th>egg</th>\n",
       "      <th>large</th>\n",
       "      <td>1</td>\n",
       "    </tr>\n",
       "    <tr>\n",
       "      <th>food price</th>\n",
       "      <th>great good</th>\n",
       "      <td>1</td>\n",
       "    </tr>\n",
       "    <tr>\n",
       "      <th>thing</th>\n",
       "      <th>good</th>\n",
       "      <td>1</td>\n",
       "    </tr>\n",
       "    <tr>\n",
       "      <th>setup</th>\n",
       "      <th>kind of</th>\n",
       "      <td>1</td>\n",
       "    </tr>\n",
       "    <tr>\n",
       "      <th>bar area</th>\n",
       "      <th>actual</th>\n",
       "      <td>1</td>\n",
       "    </tr>\n",
       "  </tbody>\n",
       "</table>\n",
       "</div>"
      ],
      "text/plain": [
       "                       count\n",
       "service    great           3\n",
       "pot        hot             2\n",
       "breakfast  delicious       1\n",
       "puppy      hush            1\n",
       "option     many            1\n",
       "egg        large           1\n",
       "food price great good      1\n",
       "thing      good            1\n",
       "setup      kind of         1\n",
       "bar area   actual          1"
      ]
     },
     "execution_count": 77,
     "metadata": {},
     "output_type": "execute_result"
    }
   ],
   "source": [
    "extract_adj_noun_pair(4, 20, df, 10)"
   ]
  },
  {
   "cell_type": "markdown",
   "id": "fe8c5a85",
   "metadata": {},
   "source": [
    "## Rating 5, 20 random reviews"
   ]
  },
  {
   "cell_type": "code",
   "execution_count": 79,
   "id": "abcd072f",
   "metadata": {},
   "outputs": [
    {
     "name": "stdout",
     "output_type": "stream",
     "text": [
      "count before postprocessing 96\n",
      "count after postprocessing 96\n"
     ]
    },
    {
     "data": {
      "text/html": [
       "<div>\n",
       "<style scoped>\n",
       "    .dataframe tbody tr th:only-of-type {\n",
       "        vertical-align: middle;\n",
       "    }\n",
       "\n",
       "    .dataframe tbody tr th {\n",
       "        vertical-align: top;\n",
       "    }\n",
       "\n",
       "    .dataframe thead th {\n",
       "        text-align: right;\n",
       "    }\n",
       "</style>\n",
       "<table border=\"1\" class=\"dataframe\">\n",
       "  <thead>\n",
       "    <tr style=\"text-align: right;\">\n",
       "      <th></th>\n",
       "      <th></th>\n",
       "      <th>count</th>\n",
       "    </tr>\n",
       "  </thead>\n",
       "  <tbody>\n",
       "    <tr>\n",
       "      <th>tire</th>\n",
       "      <th>new</th>\n",
       "      <td>2</td>\n",
       "    </tr>\n",
       "    <tr>\n",
       "      <th>service</th>\n",
       "      <th>great</th>\n",
       "      <td>2</td>\n",
       "    </tr>\n",
       "    <tr>\n",
       "      <th>experience</th>\n",
       "      <th>great</th>\n",
       "      <td>2</td>\n",
       "    </tr>\n",
       "    <tr>\n",
       "      <th>food</th>\n",
       "      <th>great</th>\n",
       "      <td>2</td>\n",
       "    </tr>\n",
       "    <tr>\n",
       "      <th>shop</th>\n",
       "      <th>best</th>\n",
       "      <td>1</td>\n",
       "    </tr>\n",
       "    <tr>\n",
       "      <th>michelle</th>\n",
       "      <th>best</th>\n",
       "      <td>1</td>\n",
       "    </tr>\n",
       "    <tr>\n",
       "      <th>vip admission</th>\n",
       "      <th>free</th>\n",
       "      <td>1</td>\n",
       "    </tr>\n",
       "    <tr>\n",
       "      <th>club</th>\n",
       "      <th>other</th>\n",
       "      <td>1</td>\n",
       "    </tr>\n",
       "    <tr>\n",
       "      <th>hour wait</th>\n",
       "      <th>ridiculous</th>\n",
       "      <td>1</td>\n",
       "    </tr>\n",
       "    <tr>\n",
       "      <th>entry</th>\n",
       "      <th>extremely fast</th>\n",
       "      <td>1</td>\n",
       "    </tr>\n",
       "  </tbody>\n",
       "</table>\n",
       "</div>"
      ],
      "text/plain": [
       "                              count\n",
       "tire          new                 2\n",
       "service       great               2\n",
       "experience    great               2\n",
       "food          great               2\n",
       "shop          best                1\n",
       "michelle      best                1\n",
       "vip admission free                1\n",
       "club          other               1\n",
       "hour wait     ridiculous          1\n",
       "entry         extremely fast      1"
      ]
     },
     "execution_count": 79,
     "metadata": {},
     "output_type": "execute_result"
    }
   ],
   "source": [
    "extract_adj_noun_pair(5, 20, df, 10)"
   ]
  },
  {
   "cell_type": "markdown",
   "id": "66ed1f2e",
   "metadata": {},
   "source": [
    "## Testing extractor"
   ]
  },
  {
   "cell_type": "code",
   "execution_count": 80,
   "id": "9386fcdb",
   "metadata": {},
   "outputs": [],
   "source": [
    "noun_adj_pairs = get_noun_adj_pair(['Environment, and atmosphere was thoroughly enjoyable.'])"
   ]
  },
  {
   "cell_type": "code",
   "execution_count": 81,
   "id": "9d859b2d",
   "metadata": {},
   "outputs": [
    {
     "data": {
      "text/plain": [
       "{('environment', 'thoroughly enjoyable'): 1,\n",
       " ('atmosphere', 'thoroughly enjoyable'): 1}"
      ]
     },
     "execution_count": 81,
     "metadata": {},
     "output_type": "execute_result"
    }
   ],
   "source": [
    "noun_adj_pairs"
   ]
  },
  {
   "cell_type": "code",
   "execution_count": 84,
   "id": "09234a3b",
   "metadata": {},
   "outputs": [],
   "source": [
    "noun_adj_pairs = get_noun_adj_pair(['Quick and attentive service, despite being continuously busy.'])"
   ]
  },
  {
   "cell_type": "code",
   "execution_count": 85,
   "id": "1eac158c",
   "metadata": {},
   "outputs": [
    {
     "data": {
      "text/plain": [
       "{('service', 'attentive'): 1}"
      ]
     },
     "execution_count": 85,
     "metadata": {},
     "output_type": "execute_result"
    }
   ],
   "source": [
    "noun_adj_pairs"
   ]
  },
  {
   "cell_type": "code",
   "execution_count": 101,
   "id": "019b9065",
   "metadata": {},
   "outputs": [],
   "source": [
    "noun_adj_pairs = get_noun_adj_pair(['Potatoes were extremely well seasoned'])"
   ]
  },
  {
   "cell_type": "code",
   "execution_count": 102,
   "id": "3d8f0936",
   "metadata": {},
   "outputs": [
    {
     "data": {
      "text/plain": [
       "{}"
      ]
     },
     "execution_count": 102,
     "metadata": {},
     "output_type": "execute_result"
    }
   ],
   "source": [
    "noun_adj_pairs"
   ]
  },
  {
   "cell_type": "code",
   "execution_count": 95,
   "id": "4e1666a4",
   "metadata": {},
   "outputs": [],
   "source": [
    "noun_adj_pairs = get_noun_adj_pair(['The fresh mozzarella was fantastic and the pizzas were great'])"
   ]
  },
  {
   "cell_type": "code",
   "execution_count": 96,
   "id": "1deeb18f",
   "metadata": {},
   "outputs": [
    {
     "data": {
      "text/plain": [
       "{('mozzarella', 'fresh'): 1, ('mozzarella', 'fantastic'): 1}"
      ]
     },
     "execution_count": 96,
     "metadata": {},
     "output_type": "execute_result"
    }
   ],
   "source": [
    "noun_adj_pairs"
   ]
  },
  {
   "cell_type": "code",
   "execution_count": null,
   "id": "d65e89b9",
   "metadata": {},
   "outputs": [],
   "source": []
  },
  {
   "cell_type": "code",
   "execution_count": null,
   "id": "a40d360d",
   "metadata": {},
   "outputs": [],
   "source": []
  },
  {
   "cell_type": "code",
   "execution_count": null,
   "id": "a46b20d2",
   "metadata": {},
   "outputs": [],
   "source": []
  },
  {
   "cell_type": "code",
   "execution_count": null,
   "id": "3f45dd79",
   "metadata": {},
   "outputs": [],
   "source": []
  },
  {
   "cell_type": "code",
   "execution_count": null,
   "id": "0cf85f7a",
   "metadata": {},
   "outputs": [],
   "source": []
  },
  {
   "cell_type": "code",
   "execution_count": null,
   "id": "26f8ad65",
   "metadata": {},
   "outputs": [],
   "source": []
  },
  {
   "cell_type": "code",
   "execution_count": 55,
   "id": "950e7953",
   "metadata": {},
   "outputs": [
    {
     "name": "stdout",
     "output_type": "stream",
     "text": [
      "count before postprocessing 239\n",
      "count after postprocessing 238\n"
     ]
    }
   ],
   "source": [
    "print('count before postprocessing {}'.format(len(noun_adj_pairs)))\n",
    "noun_adj_pairs = postprocessing(noun_adj_pairs)\n",
    "noun_adj_pairs = sort_dict(noun_adj_pairs)\n",
    "print('count after postprocessing {}'.format(len(noun_adj_pairs)))"
   ]
  },
  {
   "cell_type": "code",
   "execution_count": 56,
   "id": "aec01c69",
   "metadata": {},
   "outputs": [
    {
     "data": {
      "text/html": [
       "<div>\n",
       "<style scoped>\n",
       "    .dataframe tbody tr th:only-of-type {\n",
       "        vertical-align: middle;\n",
       "    }\n",
       "\n",
       "    .dataframe tbody tr th {\n",
       "        vertical-align: top;\n",
       "    }\n",
       "\n",
       "    .dataframe thead th {\n",
       "        text-align: right;\n",
       "    }\n",
       "</style>\n",
       "<table border=\"1\" class=\"dataframe\">\n",
       "  <thead>\n",
       "    <tr style=\"text-align: right;\">\n",
       "      <th></th>\n",
       "      <th></th>\n",
       "      <th>count</th>\n",
       "    </tr>\n",
       "  </thead>\n",
       "  <tbody>\n",
       "    <tr>\n",
       "      <th>water</th>\n",
       "      <th>hot cold</th>\n",
       "      <td>3</td>\n",
       "    </tr>\n",
       "    <tr>\n",
       "      <th>order</th>\n",
       "      <th>wrong</th>\n",
       "      <td>2</td>\n",
       "    </tr>\n",
       "    <tr>\n",
       "      <th>people</th>\n",
       "      <th>asian</th>\n",
       "      <td>2</td>\n",
       "    </tr>\n",
       "    <tr>\n",
       "      <th>service</th>\n",
       "      <th>poor</th>\n",
       "      <td>2</td>\n",
       "    </tr>\n",
       "    <tr>\n",
       "      <th>food</th>\n",
       "      <th>cold</th>\n",
       "      <td>2</td>\n",
       "    </tr>\n",
       "    <tr>\n",
       "      <th>...</th>\n",
       "      <th>...</th>\n",
       "      <td>...</td>\n",
       "    </tr>\n",
       "    <tr>\n",
       "      <th>shift</th>\n",
       "      <th>1st 2nd</th>\n",
       "      <td>1</td>\n",
       "    </tr>\n",
       "    <tr>\n",
       "      <th>place</th>\n",
       "      <th>first</th>\n",
       "      <td>1</td>\n",
       "    </tr>\n",
       "    <tr>\n",
       "      <th rowspan=\"2\" valign=\"top\">time</th>\n",
       "      <th>first</th>\n",
       "      <td>1</td>\n",
       "    </tr>\n",
       "    <tr>\n",
       "      <th>certain</th>\n",
       "      <td>1</td>\n",
       "    </tr>\n",
       "    <tr>\n",
       "      <th>ass</th>\n",
       "      <th>half</th>\n",
       "      <td>1</td>\n",
       "    </tr>\n",
       "  </tbody>\n",
       "</table>\n",
       "<p>238 rows × 1 columns</p>\n",
       "</div>"
      ],
      "text/plain": [
       "                  count\n",
       "water   hot cold      3\n",
       "order   wrong         2\n",
       "people  asian         2\n",
       "service poor          2\n",
       "food    cold          2\n",
       "...                 ...\n",
       "shift   1st 2nd       1\n",
       "place   first         1\n",
       "time    first         1\n",
       "        certain       1\n",
       "ass     half          1\n",
       "\n",
       "[238 rows x 1 columns]"
      ]
     },
     "execution_count": 56,
     "metadata": {},
     "output_type": "execute_result"
    }
   ],
   "source": [
    "noun_adj_pairs_df = pd.DataFrame(noun_adj_pairs, index=['count']).transpose()\n",
    "noun_adj_pairs_df"
   ]
  },
  {
   "cell_type": "code",
   "execution_count": null,
   "id": "1160fa11",
   "metadata": {},
   "outputs": [],
   "source": [
    "# sort and get top 5\n",
    "# Coreference Resolution?"
   ]
  },
  {
   "cell_type": "code",
   "execution_count": 102,
   "id": "def54214",
   "metadata": {},
   "outputs": [],
   "source": [
    "reviews = extract_random_reviews_from_different_biz(2, 1, df)"
   ]
  },
  {
   "cell_type": "code",
   "execution_count": 107,
   "id": "fd778acc",
   "metadata": {},
   "outputs": [
    {
     "name": "stdout",
     "output_type": "stream",
     "text": [
      "{('time', 'same'): 1, ('wings', 'alright'): 1, ('wings', 'at best'): 1, ('napkins', 'more'): 1, ('credit card terminal', 'handheld'): 1, ('food', 'somewhere'): 1, ('service', 'somewhere'): 1, ('fees', 'extra'): 1, ('toenail', 'loose'): 1, ('stone massage', \"'\"): 1, ('stone massage', 'barely'): 1, ('legs', 'lower'): 1, ('lines', 'few'): 1, ('dollars', 'more'): 1, ('place', 'appalling'): 1}\n"
     ]
    }
   ],
   "source": [
    "print(get_noun_adj_pair(reviews))"
   ]
  },
  {
   "cell_type": "code",
   "execution_count": 109,
   "id": "da024aab",
   "metadata": {},
   "outputs": [
    {
     "name": "stdout",
     "output_type": "stream",
     "text": [
      "{1: [('time', 'same'), ('wings', 'alright'), ('wings', 'at best'), ('napkins', 'more'), ('credit card terminal', 'handheld'), ('food', 'somewhere'), ('service', 'somewhere')], 2: [('fees', 'extra'), ('toenail', 'loose'), ('stone massage', \"'\"), ('stone massage', 'barely'), ('legs', 'lower'), ('lines', 'few'), ('dollars', 'more'), ('place', 'appalling')]}\n"
     ]
    }
   ],
   "source": [
    "print(get_noun_adj_pair(reviews))"
   ]
  },
  {
   "cell_type": "code",
   "execution_count": 105,
   "id": "40e61edf",
   "metadata": {},
   "outputs": [
    {
     "name": "stdout",
     "output_type": "stream",
     "text": [
      "{('', 'more'): 1, ('', 'extra'): 1}\n"
     ]
    }
   ],
   "source": [
    "print(get_noun_adj_pair1(reviews))"
   ]
  },
  {
   "cell_type": "code",
   "execution_count": 80,
   "id": "e8e09dce",
   "metadata": {},
   "outputs": [
    {
     "data": {
      "text/plain": [
       "array(['eU_713ec6fTGNO4BegRaww', '3fw2X5bZYeW9xCz_zGhOHg',\n",
       "       '6lj2BJ4tJeu7db5asGHQ4w', 'XTzKRvWciP_BZ9imk8mmPQ',\n",
       "       'CDpoJiqgM04wqQTZ6QkTqQ', 'm7ommfJFalI47UksyX04Iw',\n",
       "       '6sATfFam9_q9uod0I2aCsg', 'SU56w479vUfFHsvmvQIf7A',\n",
       "       'CGUK3cd2gxp2q3KPY19Oog', 'vhIJ91MDgUuk4Cr9Kpj1Nw',\n",
       "       '8KmqWgL0UEdxJFwTZ_YZvQ', 'EgwGTDZ705TwudPJwAY0yQ',\n",
       "       'GdCRQU3VCh_x8fY84mbwYQ', 'qaPSbg690KaX5av6xsSV4Q',\n",
       "       '9mIm1ef-NVDQHFE39Faxxg', '9nHpqlu7be1466wdo_t5kQ',\n",
       "       'FStFa2esHFgsAjVzIGJcQA', 'Z66xO_B7trDah8F0PKwRqg',\n",
       "       'Nc7cqq5k0WZsVhu25QrmNQ'], dtype=object)"
      ]
     },
     "execution_count": 80,
     "metadata": {},
     "output_type": "execute_result"
    }
   ],
   "source": [
    "get_all_biz(df)"
   ]
  },
  {
   "cell_type": "code",
   "execution_count": 14,
   "id": "b8ef4e56",
   "metadata": {},
   "outputs": [
    {
     "data": {
      "text/html": [
       "<div>\n",
       "<style scoped>\n",
       "    .dataframe tbody tr th:only-of-type {\n",
       "        vertical-align: middle;\n",
       "    }\n",
       "\n",
       "    .dataframe tbody tr th {\n",
       "        vertical-align: top;\n",
       "    }\n",
       "\n",
       "    .dataframe thead th {\n",
       "        text-align: right;\n",
       "    }\n",
       "</style>\n",
       "<table border=\"1\" class=\"dataframe\">\n",
       "  <thead>\n",
       "    <tr style=\"text-align: right;\">\n",
       "      <th></th>\n",
       "      <th>review_id</th>\n",
       "      <th>user_id</th>\n",
       "      <th>business_id</th>\n",
       "      <th>stars</th>\n",
       "      <th>useful</th>\n",
       "      <th>funny</th>\n",
       "      <th>cool</th>\n",
       "      <th>text</th>\n",
       "      <th>date</th>\n",
       "    </tr>\n",
       "  </thead>\n",
       "  <tbody>\n",
       "    <tr>\n",
       "      <th>0</th>\n",
       "      <td>fdiNeiN_hoCxCMy2wTRW9g</td>\n",
       "      <td>w31MKYsNFMrjhWxxAb5wIw</td>\n",
       "      <td>eU_713ec6fTGNO4BegRaww</td>\n",
       "      <td>4</td>\n",
       "      <td>0</td>\n",
       "      <td>0</td>\n",
       "      <td>0</td>\n",
       "      <td>I'll be the first to admit that I was not exci...</td>\n",
       "      <td>2013-01-20 13:25:59</td>\n",
       "    </tr>\n",
       "    <tr>\n",
       "      <th>1</th>\n",
       "      <td>G7XHMxG0bx9oBJNECG4IFg</td>\n",
       "      <td>jlu4CztcSxrKx56ba1a5AQ</td>\n",
       "      <td>3fw2X5bZYeW9xCz_zGhOHg</td>\n",
       "      <td>3</td>\n",
       "      <td>5</td>\n",
       "      <td>4</td>\n",
       "      <td>5</td>\n",
       "      <td>Tracy dessert had a big name in Hong Kong and ...</td>\n",
       "      <td>2016-05-07 01:21:02</td>\n",
       "    </tr>\n",
       "    <tr>\n",
       "      <th>2</th>\n",
       "      <td>rEITo90tpyKmEfNDp3Ou3A</td>\n",
       "      <td>6Fz_nus_OG4gar721OKgZA</td>\n",
       "      <td>6lj2BJ4tJeu7db5asGHQ4w</td>\n",
       "      <td>5</td>\n",
       "      <td>0</td>\n",
       "      <td>0</td>\n",
       "      <td>0</td>\n",
       "      <td>We've been a huge Slim's fan since they opened...</td>\n",
       "      <td>2017-05-26 01:23:19</td>\n",
       "    </tr>\n",
       "    <tr>\n",
       "      <th>3</th>\n",
       "      <td>bjD0Dqn3k-fi00BXatrytg</td>\n",
       "      <td>1fi6x4tnJtlVWaJmoIO9XA</td>\n",
       "      <td>XTzKRvWciP_BZ9imk8mmPQ</td>\n",
       "      <td>1</td>\n",
       "      <td>5</td>\n",
       "      <td>1</td>\n",
       "      <td>0</td>\n",
       "      <td>I tried this place because my girls are away f...</td>\n",
       "      <td>2014-06-27 21:32:31</td>\n",
       "    </tr>\n",
       "    <tr>\n",
       "      <th>4</th>\n",
       "      <td>CelUWzp-GnJIiiV1mDUb-g</td>\n",
       "      <td>tFICmdLtwgFIRcwtlbYQOg</td>\n",
       "      <td>CDpoJiqgM04wqQTZ6QkTqQ</td>\n",
       "      <td>1</td>\n",
       "      <td>0</td>\n",
       "      <td>0</td>\n",
       "      <td>0</td>\n",
       "      <td>Love this place downtown but the Scottsdale lo...</td>\n",
       "      <td>2015-12-05 02:37:03</td>\n",
       "    </tr>\n",
       "  </tbody>\n",
       "</table>\n",
       "</div>"
      ],
      "text/plain": [
       "                review_id                 user_id             business_id  \\\n",
       "0  fdiNeiN_hoCxCMy2wTRW9g  w31MKYsNFMrjhWxxAb5wIw  eU_713ec6fTGNO4BegRaww   \n",
       "1  G7XHMxG0bx9oBJNECG4IFg  jlu4CztcSxrKx56ba1a5AQ  3fw2X5bZYeW9xCz_zGhOHg   \n",
       "2  rEITo90tpyKmEfNDp3Ou3A  6Fz_nus_OG4gar721OKgZA  6lj2BJ4tJeu7db5asGHQ4w   \n",
       "3  bjD0Dqn3k-fi00BXatrytg  1fi6x4tnJtlVWaJmoIO9XA  XTzKRvWciP_BZ9imk8mmPQ   \n",
       "4  CelUWzp-GnJIiiV1mDUb-g  tFICmdLtwgFIRcwtlbYQOg  CDpoJiqgM04wqQTZ6QkTqQ   \n",
       "\n",
       "   stars  useful  funny  cool  \\\n",
       "0      4       0      0     0   \n",
       "1      3       5      4     5   \n",
       "2      5       0      0     0   \n",
       "3      1       5      1     0   \n",
       "4      1       0      0     0   \n",
       "\n",
       "                                                text                date  \n",
       "0  I'll be the first to admit that I was not exci... 2013-01-20 13:25:59  \n",
       "1  Tracy dessert had a big name in Hong Kong and ... 2016-05-07 01:21:02  \n",
       "2  We've been a huge Slim's fan since they opened... 2017-05-26 01:23:19  \n",
       "3  I tried this place because my girls are away f... 2014-06-27 21:32:31  \n",
       "4  Love this place downtown but the Scottsdale lo... 2015-12-05 02:37:03  "
      ]
     },
     "execution_count": 14,
     "metadata": {},
     "output_type": "execute_result"
    }
   ],
   "source": [
    "df.head()"
   ]
  },
  {
   "cell_type": "code",
   "execution_count": 46,
   "id": "2fa9102e",
   "metadata": {},
   "outputs": [
    {
     "name": "stdout",
     "output_type": "stream",
     "text": [
      "6lj2BJ4tJeu7db5asGHQ4w\n"
     ]
    }
   ],
   "source": [
    "biz = df.iloc[[2]]\n",
    "print(biz['business_id'].values[0])"
   ]
  },
  {
   "cell_type": "code",
   "execution_count": 29,
   "id": "b00e4e5a",
   "metadata": {},
   "outputs": [
    {
     "data": {
      "text/plain": [
       "pandas.core.series.Series"
      ]
     },
     "execution_count": 29,
     "metadata": {},
     "output_type": "execute_result"
    }
   ],
   "source": [
    "type(df.iloc[[2]]['business_id'])"
   ]
  },
  {
   "cell_type": "code",
   "execution_count": null,
   "id": "ac626d32",
   "metadata": {},
   "outputs": [],
   "source": []
  }
 ],
 "metadata": {
  "kernelspec": {
   "display_name": "Python 3",
   "language": "python",
   "name": "python3"
  },
  "language_info": {
   "codemirror_mode": {
    "name": "ipython",
    "version": 3
   },
   "file_extension": ".py",
   "mimetype": "text/x-python",
   "name": "python",
   "nbconvert_exporter": "python",
   "pygments_lexer": "ipython3",
   "version": "3.9.5"
  }
 },
 "nbformat": 4,
 "nbformat_minor": 5
}
