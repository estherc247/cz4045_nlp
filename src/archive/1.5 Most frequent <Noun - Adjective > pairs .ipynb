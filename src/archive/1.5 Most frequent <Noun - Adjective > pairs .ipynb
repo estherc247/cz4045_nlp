{
 "cells": [
  {
   "cell_type": "markdown",
   "id": "f0afcb95",
   "metadata": {},
   "source": [
    "# Import libraries"
   ]
  },
  {
   "cell_type": "code",
   "execution_count": 26,
   "id": "1b144fd6",
   "metadata": {},
   "outputs": [],
   "source": [
    "import pandas as pd\n",
    "import spacy\n",
    "import en_core_web_sm\n",
    "import random\n",
    "from spacy import displacy"
   ]
  },
  {
   "cell_type": "code",
   "execution_count": 187,
   "id": "c43e395c",
   "metadata": {},
   "outputs": [],
   "source": [
    "# create directory for result\n",
    "from pathlib import Path\n",
    "Path(\"../result/\").mkdir(parents=True, exist_ok=True)"
   ]
  },
  {
   "cell_type": "markdown",
   "id": "e243a7bd",
   "metadata": {},
   "source": [
    "# Explore data"
   ]
  },
  {
   "cell_type": "code",
   "execution_count": 11,
   "id": "5469c08b",
   "metadata": {},
   "outputs": [],
   "source": [
    "df = pd.read_json('../data/reviewSelected100.json', lines=True, encoding = \"ISO-8859-1\")"
   ]
  },
  {
   "cell_type": "code",
   "execution_count": 12,
   "id": "a2e66d75",
   "metadata": {},
   "outputs": [
    {
     "data": {
      "text/html": [
       "<div>\n",
       "<style scoped>\n",
       "    .dataframe tbody tr th:only-of-type {\n",
       "        vertical-align: middle;\n",
       "    }\n",
       "\n",
       "    .dataframe tbody tr th {\n",
       "        vertical-align: top;\n",
       "    }\n",
       "\n",
       "    .dataframe thead th {\n",
       "        text-align: right;\n",
       "    }\n",
       "</style>\n",
       "<table border=\"1\" class=\"dataframe\">\n",
       "  <thead>\n",
       "    <tr style=\"text-align: right;\">\n",
       "      <th></th>\n",
       "      <th>stars</th>\n",
       "      <th>useful</th>\n",
       "      <th>funny</th>\n",
       "      <th>cool</th>\n",
       "    </tr>\n",
       "  </thead>\n",
       "  <tbody>\n",
       "    <tr>\n",
       "      <th>count</th>\n",
       "      <td>15300.000000</td>\n",
       "      <td>15300.000000</td>\n",
       "      <td>15300.000000</td>\n",
       "      <td>15300.000000</td>\n",
       "    </tr>\n",
       "    <tr>\n",
       "      <th>mean</th>\n",
       "      <td>3.646601</td>\n",
       "      <td>1.292745</td>\n",
       "      <td>0.430000</td>\n",
       "      <td>0.514575</td>\n",
       "    </tr>\n",
       "    <tr>\n",
       "      <th>std</th>\n",
       "      <td>1.455130</td>\n",
       "      <td>3.241261</td>\n",
       "      <td>1.866658</td>\n",
       "      <td>2.334050</td>\n",
       "    </tr>\n",
       "    <tr>\n",
       "      <th>min</th>\n",
       "      <td>1.000000</td>\n",
       "      <td>0.000000</td>\n",
       "      <td>0.000000</td>\n",
       "      <td>0.000000</td>\n",
       "    </tr>\n",
       "    <tr>\n",
       "      <th>25%</th>\n",
       "      <td>3.000000</td>\n",
       "      <td>0.000000</td>\n",
       "      <td>0.000000</td>\n",
       "      <td>0.000000</td>\n",
       "    </tr>\n",
       "    <tr>\n",
       "      <th>50%</th>\n",
       "      <td>4.000000</td>\n",
       "      <td>0.000000</td>\n",
       "      <td>0.000000</td>\n",
       "      <td>0.000000</td>\n",
       "    </tr>\n",
       "    <tr>\n",
       "      <th>75%</th>\n",
       "      <td>5.000000</td>\n",
       "      <td>1.000000</td>\n",
       "      <td>0.000000</td>\n",
       "      <td>0.000000</td>\n",
       "    </tr>\n",
       "    <tr>\n",
       "      <th>max</th>\n",
       "      <td>5.000000</td>\n",
       "      <td>191.000000</td>\n",
       "      <td>122.000000</td>\n",
       "      <td>180.000000</td>\n",
       "    </tr>\n",
       "  </tbody>\n",
       "</table>\n",
       "</div>"
      ],
      "text/plain": [
       "              stars        useful         funny          cool\n",
       "count  15300.000000  15300.000000  15300.000000  15300.000000\n",
       "mean       3.646601      1.292745      0.430000      0.514575\n",
       "std        1.455130      3.241261      1.866658      2.334050\n",
       "min        1.000000      0.000000      0.000000      0.000000\n",
       "25%        3.000000      0.000000      0.000000      0.000000\n",
       "50%        4.000000      0.000000      0.000000      0.000000\n",
       "75%        5.000000      1.000000      0.000000      0.000000\n",
       "max        5.000000    191.000000    122.000000    180.000000"
      ]
     },
     "execution_count": 12,
     "metadata": {},
     "output_type": "execute_result"
    }
   ],
   "source": [
    "df.describe()"
   ]
  },
  {
   "cell_type": "code",
   "execution_count": 13,
   "id": "4171253c",
   "metadata": {},
   "outputs": [
    {
     "data": {
      "text/html": [
       "<div>\n",
       "<style scoped>\n",
       "    .dataframe tbody tr th:only-of-type {\n",
       "        vertical-align: middle;\n",
       "    }\n",
       "\n",
       "    .dataframe tbody tr th {\n",
       "        vertical-align: top;\n",
       "    }\n",
       "\n",
       "    .dataframe thead th {\n",
       "        text-align: right;\n",
       "    }\n",
       "</style>\n",
       "<table border=\"1\" class=\"dataframe\">\n",
       "  <thead>\n",
       "    <tr style=\"text-align: right;\">\n",
       "      <th></th>\n",
       "      <th>review_id</th>\n",
       "      <th>user_id</th>\n",
       "      <th>business_id</th>\n",
       "      <th>stars</th>\n",
       "      <th>useful</th>\n",
       "      <th>funny</th>\n",
       "      <th>cool</th>\n",
       "      <th>text</th>\n",
       "      <th>date</th>\n",
       "    </tr>\n",
       "  </thead>\n",
       "  <tbody>\n",
       "    <tr>\n",
       "      <th>0</th>\n",
       "      <td>8aoJJdKEO3ypoZNszpPu7Q</td>\n",
       "      <td>bGgAL09pxLnV_FFgR4ZADg</td>\n",
       "      <td>ZBE-H_aUlicix_9vUGQPIQ</td>\n",
       "      <td>5</td>\n",
       "      <td>0</td>\n",
       "      <td>0</td>\n",
       "      <td>0</td>\n",
       "      <td>We had my Mother's Birthday Party here on 10/2...</td>\n",
       "      <td>2016-11-09 20:07:25</td>\n",
       "    </tr>\n",
       "    <tr>\n",
       "      <th>1</th>\n",
       "      <td>J5NOCLdhuhor7USRhtYZ8w</td>\n",
       "      <td>pFCb-1j6oI3TDjr26h2cJQ</td>\n",
       "      <td>e-YnECeZNt8ngm0tu4X9mQ</td>\n",
       "      <td>4</td>\n",
       "      <td>0</td>\n",
       "      <td>0</td>\n",
       "      <td>0</td>\n",
       "      <td>Good Korean grill near Eaton Centre. The marin...</td>\n",
       "      <td>2015-12-05 05:06:43</td>\n",
       "    </tr>\n",
       "    <tr>\n",
       "      <th>2</th>\n",
       "      <td>PXiLWAYRt3xnHaJ8MB4rzw</td>\n",
       "      <td>mEzc6LeTNiQgIVsq3poMbg</td>\n",
       "      <td>j7HO1YeMQGYo3KibMXZ5vg</td>\n",
       "      <td>5</td>\n",
       "      <td>2</td>\n",
       "      <td>1</td>\n",
       "      <td>3</td>\n",
       "      <td>Was recommended to try this place by few peopl...</td>\n",
       "      <td>2014-10-11 05:16:15</td>\n",
       "    </tr>\n",
       "    <tr>\n",
       "      <th>3</th>\n",
       "      <td>VrLarvxZYJm74yAqtpe9PQ</td>\n",
       "      <td>o-zUN2WEZgjQS7jnNsec0g</td>\n",
       "      <td>7e3PZzUpG5FYOTGt3O3ePA</td>\n",
       "      <td>3</td>\n",
       "      <td>0</td>\n",
       "      <td>0</td>\n",
       "      <td>0</td>\n",
       "      <td>Ambience: Would not expect something this nice...</td>\n",
       "      <td>2016-07-25 03:45:26</td>\n",
       "    </tr>\n",
       "    <tr>\n",
       "      <th>4</th>\n",
       "      <td>C1CUpidlVFprUCkApqzCmA</td>\n",
       "      <td>Wlx0iBXJvk4x0EeOt2Bz1Q</td>\n",
       "      <td>vuHzLZ7nAeT-EiecOkS5Og</td>\n",
       "      <td>1</td>\n",
       "      <td>11</td>\n",
       "      <td>0</td>\n",
       "      <td>3</td>\n",
       "      <td>Absolutely the WORST pool company that I have ...</td>\n",
       "      <td>2016-04-11 18:49:11</td>\n",
       "    </tr>\n",
       "  </tbody>\n",
       "</table>\n",
       "</div>"
      ],
      "text/plain": [
       "                review_id                 user_id             business_id  \\\n",
       "0  8aoJJdKEO3ypoZNszpPu7Q  bGgAL09pxLnV_FFgR4ZADg  ZBE-H_aUlicix_9vUGQPIQ   \n",
       "1  J5NOCLdhuhor7USRhtYZ8w  pFCb-1j6oI3TDjr26h2cJQ  e-YnECeZNt8ngm0tu4X9mQ   \n",
       "2  PXiLWAYRt3xnHaJ8MB4rzw  mEzc6LeTNiQgIVsq3poMbg  j7HO1YeMQGYo3KibMXZ5vg   \n",
       "3  VrLarvxZYJm74yAqtpe9PQ  o-zUN2WEZgjQS7jnNsec0g  7e3PZzUpG5FYOTGt3O3ePA   \n",
       "4  C1CUpidlVFprUCkApqzCmA  Wlx0iBXJvk4x0EeOt2Bz1Q  vuHzLZ7nAeT-EiecOkS5Og   \n",
       "\n",
       "   stars  useful  funny  cool  \\\n",
       "0      5       0      0     0   \n",
       "1      4       0      0     0   \n",
       "2      5       2      1     3   \n",
       "3      3       0      0     0   \n",
       "4      1      11      0     3   \n",
       "\n",
       "                                                text                date  \n",
       "0  We had my Mother's Birthday Party here on 10/2... 2016-11-09 20:07:25  \n",
       "1  Good Korean grill near Eaton Centre. The marin... 2015-12-05 05:06:43  \n",
       "2  Was recommended to try this place by few peopl... 2014-10-11 05:16:15  \n",
       "3  Ambience: Would not expect something this nice... 2016-07-25 03:45:26  \n",
       "4  Absolutely the WORST pool company that I have ... 2016-04-11 18:49:11  "
      ]
     },
     "execution_count": 13,
     "metadata": {},
     "output_type": "execute_result"
    }
   ],
   "source": [
    "df.head()"
   ]
  },
  {
   "cell_type": "markdown",
   "id": "3544ba95",
   "metadata": {},
   "source": [
    "# Implement extractor"
   ]
  },
  {
   "cell_type": "markdown",
   "id": "1e545508",
   "metadata": {},
   "source": [
    "Most frequent ⟨ Noun - Adjective ⟩ pairs for each rating. Each review has a “star” rating in the range of\n",
    "1 to 5. Randomly select 50 reviews (one from each business) of rating 1, extract the top-10 most frequent\n",
    "noun-adjective pairs from the sentences in these selected reviews. Example noun-adjective pairs are servicegreat,\n",
    "food-delicious, that appear in the same sentence. Do the same for 20 reviews of ratings 2, 3, 4, and 5,\n",
    "respectively. Discuss your results and limitations of your method."
   ]
  },
  {
   "cell_type": "markdown",
   "id": "81c6a34d",
   "metadata": {},
   "source": [
    "### Functions to get random 20 reviews from random business that have a certain rating"
   ]
  },
  {
   "cell_type": "code",
   "execution_count": 20,
   "id": "c4dce716",
   "metadata": {},
   "outputs": [],
   "source": [
    "# random 50 reviews (not the same biz) from rating 1\n",
    "# just get 50 random review, then if there is any other biz that overlap then find random again, repeat until all\n",
    "# review is from different biz (this)\n",
    "\n",
    "\n",
    "def get_all_biz(df):\n",
    "    biz = df['business_id'].unique()\n",
    "    sorted(biz)\n",
    "    return biz\n",
    "\n",
    "def get_random(df_len, seed=10086):\n",
    "    return random.randint(0,df_len)    \n",
    "\n",
    "def extract_random_reviews_from_different_biz(num_reviews, star_rating, df):\n",
    "    # filter star rating\n",
    "    filter_df = df.loc[df['stars'] == star_rating]\n",
    "    \n",
    "    # get random review\n",
    "    random_review = {}\n",
    "    while (len(random_review.keys()) < num_reviews):\n",
    "        random_index = get_random(len(filter_df)-1)\n",
    "        biz_name = filter_df.iloc[[random_index]]['business_id'].values[0]\n",
    "        if biz_name in random_review:\n",
    "            continue\n",
    "        else:\n",
    "            random_review[biz_name] = filter_df.iloc[[random_index]]['text'].values[0]\n",
    "            #filter_df = filter_df.drop([filter_df.index[random_index]])\n",
    "    \n",
    "    \n",
    "    # convert to list\n",
    "    return list(random_review.values())\n",
    "\n",
    "# descending\n",
    "def sort_dict(data_dict):\n",
    "    return {k: v for k, v in sorted(data_dict.items(), key=lambda item: item[1], reverse=True)}\n"
   ]
  },
  {
   "cell_type": "markdown",
   "id": "05f07934",
   "metadata": {},
   "source": [
    "### Function to extract adj-noun pair"
   ]
  },
  {
   "cell_type": "code",
   "execution_count": 4,
   "id": "c7d88909",
   "metadata": {},
   "outputs": [],
   "source": [
    "nlp = spacy.load('en_core_web_sm')"
   ]
  },
  {
   "cell_type": "code",
   "execution_count": 6,
   "id": "58754ac3",
   "metadata": {},
   "outputs": [],
   "source": [
    "def get_noun_adj_pair(reviews):\n",
    "    noun_adj_pair_dict = {}\n",
    "    for review in reviews:\n",
    "        doc = nlp(review)\n",
    "        for np in doc.noun_chunks: # np refers to noun phrases\n",
    "            np_adj = []\n",
    "            np_noun_only = []\n",
    "            extracted_np_adj_temp = []   # before adding to the noun_adj_pair_dict\n",
    "\n",
    "            # start extraction of noun adj pair\n",
    "\n",
    "            # adjective right before noun eg 'good food'\n",
    "            for token in np:\n",
    "                if token.pos_ in (\"ADV\",\"ADJ\",\"PART\"):\n",
    "                    extracted_np_adj_temp.append(token)\n",
    "                elif (token.pos_ in (\"NOUN\", \"PROPN\") and str(token) != 'one'):   # track those with noun/pronoun\n",
    "                    np_noun_only.append(token)\n",
    "            if len(extracted_np_adj_temp)>0:\n",
    "                np_adj.append(extracted_np_adj_temp)\n",
    "\n",
    "        \n",
    "            # sentences with auxiliary words such as \"food was good\"\n",
    "            extracted_np_adj_temp = []\n",
    "\n",
    "            # find \"was, were, is, are\"\n",
    "            for j in range(token.i+1,len(doc)): \n",
    "                if doc[j].pos_ in ('AUX'):\n",
    "                    aux_found = False\n",
    "                    neg_conj_found = False\n",
    "\n",
    "                    # find in the children of the aux\n",
    "                    for child in list(doc[j].children): \n",
    "                        if neg_conj_found == False:\n",
    "                            extracted_np_adj_temp = []\n",
    "                        else:\n",
    "                            neg_conj_found = False\n",
    "                        if child.pos_ in (\"PART\",\"CCONJ\"):\n",
    "                            neg_conj_found = True\n",
    "                        if (child.pos_ in (\"NOUN\",\"PROPN\") and str(child) != 'one') and (child in np):\n",
    "                            aux_found = True \n",
    "                            \n",
    "                        # find corresponding adjective for the noun\n",
    "                        if aux_found == True and child.pos_ in (\"ADJ\",\"ADV\",\"PART\"): # PART refers to negation\n",
    "                            for grandchild in child.children: # extracts the \"very\" in \"very happy atmosphere\"\n",
    "                                if grandchild.pos_ in (\"ADJ\",\"ADV\",\"PART\") and grandchild.i<child.i:\n",
    "                                    extracted_np_adj_temp.append(grandchild)\n",
    "                            extracted_np_adj_temp.append(child)\n",
    "                            if extracted_np_adj_temp not in np_adj:\n",
    "                                np_adj.append(extracted_np_adj_temp)\n",
    "\n",
    "            if (len(np_noun_only)!=0 and len(np_adj)!=0):\n",
    "                for extracted_np_adj_temp in np_adj:\n",
    "                    noun_adj_pair = (\" \".join([str(x).lower() for x in np_noun_only]),\" \".join([str(x).lower() for x in extracted_np_adj_temp]))\n",
    "                    if noun_adj_pair in noun_adj_pair_dict:\n",
    "                        noun_adj_pair_dict[noun_adj_pair] += 1\n",
    "                    else:\n",
    "                        noun_adj_pair_dict[noun_adj_pair] = 1\n",
    "                        \n",
    "    return noun_adj_pair_dict"
   ]
  },
  {
   "cell_type": "code",
   "execution_count": 72,
   "id": "0b82ce3c",
   "metadata": {},
   "outputs": [],
   "source": [
    "def preprocessing(reviews):\n",
    "    return [i.lower() for i in reviews]"
   ]
  },
  {
   "cell_type": "code",
   "execution_count": 43,
   "id": "c888b407",
   "metadata": {},
   "outputs": [],
   "source": [
    "def postprocessing(data_dict):\n",
    "    new_dict = {}\n",
    "    # k is tuple, (noun, adj)\n",
    "    for k,v in data_dict.items():\n",
    "#         print(k)\n",
    "        doc = nlp(k[0])\n",
    "        lemma = [token.lemma_.lower() for token in doc]\n",
    "        new_tuple = tuple([' '.join(lemma), k[1].lower()])\n",
    "#         print(new_tuple)\n",
    "        if new_tuple in new_dict:\n",
    "            new_dict[new_tuple] += v\n",
    "        else:\n",
    "            new_dict[new_tuple] = v\n",
    "    return new_dict\n",
    "        "
   ]
  },
  {
   "cell_type": "markdown",
   "id": "6f8b8c15",
   "metadata": {},
   "source": [
    "# Run on data"
   ]
  },
  {
   "cell_type": "code",
   "execution_count": 73,
   "id": "f3152305",
   "metadata": {},
   "outputs": [],
   "source": [
    "## Rating 1, 50 random data from different business\n",
    "\n",
    "def extract_adj_noun_pair(rating, num_review, df, top_n_most_frequent):\n",
    "    # get random reviews\n",
    "    random_reviews = extract_random_reviews_from_different_biz(num_review, rating, df)\n",
    "    \n",
    "    # preprocessing\n",
    "    random_reviews = preprocessing(random_reviews)\n",
    "    \n",
    "    # extract noun-adj pair\n",
    "    noun_adj_pairs = get_noun_adj_pair(random_reviews)\n",
    "    \n",
    "    # postprocessing\n",
    "    print('count before postprocessing {}'.format(len(noun_adj_pairs)))\n",
    "    noun_adj_pairs = postprocessing(noun_adj_pairs)\n",
    "    noun_adj_pairs = sort_dict(noun_adj_pairs)\n",
    "    print('count after postprocessing {}'.format(len(noun_adj_pairs)))\n",
    "    \n",
    "    # convert & return to dataframe\n",
    "    noun_adj_pairs_df = pd.DataFrame(noun_adj_pairs, index=['count']).transpose()\n",
    "    return noun_adj_pairs_df.head(10)"
   ]
  },
  {
   "cell_type": "markdown",
   "id": "f35f5b3f",
   "metadata": {},
   "source": [
    "## Rating 1, 50 random reviews"
   ]
  },
  {
   "cell_type": "code",
   "execution_count": 129,
   "id": "1157a7c0",
   "metadata": {},
   "outputs": [
    {
     "name": "stdout",
     "output_type": "stream",
     "text": [
      "count before postprocessing 298\n",
      "count after postprocessing 295\n"
     ]
    }
   ],
   "source": [
    "rating_1 = extract_adj_noun_pair(1, 50, df, 10)"
   ]
  },
  {
   "cell_type": "code",
   "execution_count": 130,
   "id": "7570ccd6",
   "metadata": {},
   "outputs": [
    {
     "data": {
      "text/html": [
       "<div>\n",
       "<style scoped>\n",
       "    .dataframe tbody tr th:only-of-type {\n",
       "        vertical-align: middle;\n",
       "    }\n",
       "\n",
       "    .dataframe tbody tr th {\n",
       "        vertical-align: top;\n",
       "    }\n",
       "\n",
       "    .dataframe thead th {\n",
       "        text-align: right;\n",
       "    }\n",
       "</style>\n",
       "<table border=\"1\" class=\"dataframe\">\n",
       "  <thead>\n",
       "    <tr style=\"text-align: right;\">\n",
       "      <th></th>\n",
       "      <th></th>\n",
       "      <th>count</th>\n",
       "    </tr>\n",
       "  </thead>\n",
       "  <tbody>\n",
       "    <tr>\n",
       "      <th>money</th>\n",
       "      <th>hard</th>\n",
       "      <td>3</td>\n",
       "    </tr>\n",
       "    <tr>\n",
       "      <th>service</th>\n",
       "      <th>horrible</th>\n",
       "      <td>3</td>\n",
       "    </tr>\n",
       "    <tr>\n",
       "      <th>tool</th>\n",
       "      <th>hot</th>\n",
       "      <td>3</td>\n",
       "    </tr>\n",
       "    <tr>\n",
       "      <th>place</th>\n",
       "      <th>other</th>\n",
       "      <td>3</td>\n",
       "    </tr>\n",
       "    <tr>\n",
       "      <th>time</th>\n",
       "      <th>long</th>\n",
       "      <td>2</td>\n",
       "    </tr>\n",
       "    <tr>\n",
       "      <th>service</th>\n",
       "      <th>bad</th>\n",
       "      <td>2</td>\n",
       "    </tr>\n",
       "    <tr>\n",
       "      <th>cook</th>\n",
       "      <th>new</th>\n",
       "      <td>2</td>\n",
       "    </tr>\n",
       "    <tr>\n",
       "      <th>wait</th>\n",
       "      <th>long</th>\n",
       "      <td>2</td>\n",
       "    </tr>\n",
       "    <tr>\n",
       "      <th>deal</th>\n",
       "      <th>big</th>\n",
       "      <td>2</td>\n",
       "    </tr>\n",
       "    <tr>\n",
       "      <th>information</th>\n",
       "      <th>personal</th>\n",
       "      <td>2</td>\n",
       "    </tr>\n",
       "  </tbody>\n",
       "</table>\n",
       "</div>"
      ],
      "text/plain": [
       "                      count\n",
       "money       hard          3\n",
       "service     horrible      3\n",
       "tool        hot           3\n",
       "place       other         3\n",
       "time        long          2\n",
       "service     bad           2\n",
       "cook        new           2\n",
       "wait        long          2\n",
       "deal        big           2\n",
       "information personal      2"
      ]
     },
     "execution_count": 130,
     "metadata": {},
     "output_type": "execute_result"
    }
   ],
   "source": [
    "rating_1"
   ]
  },
  {
   "cell_type": "code",
   "execution_count": 132,
   "id": "f5517197",
   "metadata": {},
   "outputs": [],
   "source": [
    "rating_1.to_csv('../result/rating_1_top_10_frequently_used.csv')"
   ]
  },
  {
   "cell_type": "markdown",
   "id": "2da0f802",
   "metadata": {},
   "source": [
    "## Rating 2, 20 random reviews"
   ]
  },
  {
   "cell_type": "code",
   "execution_count": 161,
   "id": "ae373b5a",
   "metadata": {},
   "outputs": [
    {
     "name": "stdout",
     "output_type": "stream",
     "text": [
      "count before postprocessing 163\n",
      "count after postprocessing 162\n"
     ]
    }
   ],
   "source": [
    "rating_2 = extract_adj_noun_pair(2, 20, df, 10)"
   ]
  },
  {
   "cell_type": "code",
   "execution_count": 162,
   "id": "ad99ce86",
   "metadata": {},
   "outputs": [
    {
     "data": {
      "text/html": [
       "<div>\n",
       "<style scoped>\n",
       "    .dataframe tbody tr th:only-of-type {\n",
       "        vertical-align: middle;\n",
       "    }\n",
       "\n",
       "    .dataframe tbody tr th {\n",
       "        vertical-align: top;\n",
       "    }\n",
       "\n",
       "    .dataframe thead th {\n",
       "        text-align: right;\n",
       "    }\n",
       "</style>\n",
       "<table border=\"1\" class=\"dataframe\">\n",
       "  <thead>\n",
       "    <tr style=\"text-align: right;\">\n",
       "      <th></th>\n",
       "      <th></th>\n",
       "      <th>count</th>\n",
       "    </tr>\n",
       "  </thead>\n",
       "  <tbody>\n",
       "    <tr>\n",
       "      <th>service</th>\n",
       "      <th>slow</th>\n",
       "      <td>2</td>\n",
       "    </tr>\n",
       "    <tr>\n",
       "      <th>meat sandwich</th>\n",
       "      <th>loose</th>\n",
       "      <td>2</td>\n",
       "    </tr>\n",
       "    <tr>\n",
       "      <th>part</th>\n",
       "      <th>best</th>\n",
       "      <td>2</td>\n",
       "    </tr>\n",
       "    <tr>\n",
       "      <th>restaurant</th>\n",
       "      <th>clean</th>\n",
       "      <td>2</td>\n",
       "    </tr>\n",
       "    <tr>\n",
       "      <th>dish</th>\n",
       "      <th>deep</th>\n",
       "      <td>2</td>\n",
       "    </tr>\n",
       "    <tr>\n",
       "      <th>food</th>\n",
       "      <th>vietnamese</th>\n",
       "      <td>1</td>\n",
       "    </tr>\n",
       "    <tr>\n",
       "      <th>curry soup basis</th>\n",
       "      <th>very flavourful</th>\n",
       "      <td>1</td>\n",
       "    </tr>\n",
       "    <tr>\n",
       "      <th>beef</th>\n",
       "      <th>impossible</th>\n",
       "      <td>1</td>\n",
       "    </tr>\n",
       "    <tr>\n",
       "      <th>time</th>\n",
       "      <th>absolute worse</th>\n",
       "      <td>1</td>\n",
       "    </tr>\n",
       "    <tr>\n",
       "      <th>soup curry</th>\n",
       "      <th>good</th>\n",
       "      <td>1</td>\n",
       "    </tr>\n",
       "  </tbody>\n",
       "</table>\n",
       "</div>"
      ],
      "text/plain": [
       "                                  count\n",
       "service          slow                 2\n",
       "meat sandwich    loose                2\n",
       "part             best                 2\n",
       "restaurant       clean                2\n",
       "dish             deep                 2\n",
       "food             vietnamese           1\n",
       "curry soup basis very flavourful      1\n",
       "beef             impossible           1\n",
       "time             absolute worse       1\n",
       "soup curry       good                 1"
      ]
     },
     "execution_count": 162,
     "metadata": {},
     "output_type": "execute_result"
    }
   ],
   "source": [
    "rating_2"
   ]
  },
  {
   "cell_type": "code",
   "execution_count": 163,
   "id": "ee15f09c",
   "metadata": {},
   "outputs": [],
   "source": [
    "rating_2.to_csv('../result/rating_2_top_10_frequently_used.csv')"
   ]
  },
  {
   "cell_type": "markdown",
   "id": "cd2d4802",
   "metadata": {},
   "source": [
    "## Rating 3, 20 random reviews"
   ]
  },
  {
   "cell_type": "code",
   "execution_count": 170,
   "id": "834e5ee9",
   "metadata": {},
   "outputs": [
    {
     "name": "stdout",
     "output_type": "stream",
     "text": [
      "count before postprocessing 116\n",
      "count after postprocessing 116\n"
     ]
    }
   ],
   "source": [
    "rating_3 = extract_adj_noun_pair(3, 20, df, 10)"
   ]
  },
  {
   "cell_type": "code",
   "execution_count": 171,
   "id": "10039653",
   "metadata": {},
   "outputs": [
    {
     "data": {
      "text/html": [
       "<div>\n",
       "<style scoped>\n",
       "    .dataframe tbody tr th:only-of-type {\n",
       "        vertical-align: middle;\n",
       "    }\n",
       "\n",
       "    .dataframe tbody tr th {\n",
       "        vertical-align: top;\n",
       "    }\n",
       "\n",
       "    .dataframe thead th {\n",
       "        text-align: right;\n",
       "    }\n",
       "</style>\n",
       "<table border=\"1\" class=\"dataframe\">\n",
       "  <thead>\n",
       "    <tr style=\"text-align: right;\">\n",
       "      <th></th>\n",
       "      <th></th>\n",
       "      <th>count</th>\n",
       "    </tr>\n",
       "  </thead>\n",
       "  <tbody>\n",
       "    <tr>\n",
       "      <th rowspan=\"2\" valign=\"top\">service</th>\n",
       "      <th>good</th>\n",
       "      <td>2</td>\n",
       "    </tr>\n",
       "    <tr>\n",
       "      <th>fast</th>\n",
       "      <td>2</td>\n",
       "    </tr>\n",
       "    <tr>\n",
       "      <th>restaurant</th>\n",
       "      <th>other</th>\n",
       "      <td>2</td>\n",
       "    </tr>\n",
       "    <tr>\n",
       "      <th>trio</th>\n",
       "      <th>awesome</th>\n",
       "      <td>2</td>\n",
       "    </tr>\n",
       "    <tr>\n",
       "      <th>food</th>\n",
       "      <th>average</th>\n",
       "      <td>2</td>\n",
       "    </tr>\n",
       "    <tr>\n",
       "      <th>pancake</th>\n",
       "      <th>good</th>\n",
       "      <td>1</td>\n",
       "    </tr>\n",
       "    <tr>\n",
       "      <th rowspan=\"2\" valign=\"top\">breakfast</th>\n",
       "      <th>fast</th>\n",
       "      <td>1</td>\n",
       "    </tr>\n",
       "    <tr>\n",
       "      <th>speedy</th>\n",
       "      <td>1</td>\n",
       "    </tr>\n",
       "    <tr>\n",
       "      <th>guy</th>\n",
       "      <th>great</th>\n",
       "      <td>1</td>\n",
       "    </tr>\n",
       "    <tr>\n",
       "      <th>wine sommelier</th>\n",
       "      <th>onsite</th>\n",
       "      <td>1</td>\n",
       "    </tr>\n",
       "  </tbody>\n",
       "</table>\n",
       "</div>"
      ],
      "text/plain": [
       "                        count\n",
       "service        good         2\n",
       "               fast         2\n",
       "restaurant     other        2\n",
       "trio           awesome      2\n",
       "food           average      2\n",
       "pancake        good         1\n",
       "breakfast      fast         1\n",
       "               speedy       1\n",
       "guy            great        1\n",
       "wine sommelier onsite       1"
      ]
     },
     "execution_count": 171,
     "metadata": {},
     "output_type": "execute_result"
    }
   ],
   "source": [
    "rating_3"
   ]
  },
  {
   "cell_type": "code",
   "execution_count": 172,
   "id": "345f82de",
   "metadata": {},
   "outputs": [],
   "source": [
    "rating_3.to_csv('../result/rating_3_top_10_frequently_used.csv')"
   ]
  },
  {
   "cell_type": "markdown",
   "id": "b2e43ae6",
   "metadata": {},
   "source": [
    "## Rating 4, 20 random reviews"
   ]
  },
  {
   "cell_type": "code",
   "execution_count": 175,
   "id": "ffbe13d5",
   "metadata": {},
   "outputs": [
    {
     "name": "stdout",
     "output_type": "stream",
     "text": [
      "count before postprocessing 124\n",
      "count after postprocessing 124\n"
     ]
    }
   ],
   "source": [
    "rating_4 = extract_adj_noun_pair(4, 20, df, 10)"
   ]
  },
  {
   "cell_type": "code",
   "execution_count": 176,
   "id": "ceddce8c",
   "metadata": {},
   "outputs": [
    {
     "data": {
      "text/html": [
       "<div>\n",
       "<style scoped>\n",
       "    .dataframe tbody tr th:only-of-type {\n",
       "        vertical-align: middle;\n",
       "    }\n",
       "\n",
       "    .dataframe tbody tr th {\n",
       "        vertical-align: top;\n",
       "    }\n",
       "\n",
       "    .dataframe thead th {\n",
       "        text-align: right;\n",
       "    }\n",
       "</style>\n",
       "<table border=\"1\" class=\"dataframe\">\n",
       "  <thead>\n",
       "    <tr style=\"text-align: right;\">\n",
       "      <th></th>\n",
       "      <th></th>\n",
       "      <th>count</th>\n",
       "    </tr>\n",
       "  </thead>\n",
       "  <tbody>\n",
       "    <tr>\n",
       "      <th>food</th>\n",
       "      <th>good</th>\n",
       "      <td>3</td>\n",
       "    </tr>\n",
       "    <tr>\n",
       "      <th>place</th>\n",
       "      <th>great</th>\n",
       "      <td>2</td>\n",
       "    </tr>\n",
       "    <tr>\n",
       "      <th>fudge</th>\n",
       "      <th>hot</th>\n",
       "      <td>2</td>\n",
       "    </tr>\n",
       "    <tr>\n",
       "      <th>place</th>\n",
       "      <th>good</th>\n",
       "      <td>2</td>\n",
       "    </tr>\n",
       "    <tr>\n",
       "      <th>strip mall</th>\n",
       "      <th>small</th>\n",
       "      <td>1</td>\n",
       "    </tr>\n",
       "    <tr>\n",
       "      <th>parking lot</th>\n",
       "      <th>small</th>\n",
       "      <td>1</td>\n",
       "    </tr>\n",
       "    <tr>\n",
       "      <th>monkey waffle</th>\n",
       "      <th>funky</th>\n",
       "      <td>1</td>\n",
       "    </tr>\n",
       "    <tr>\n",
       "      <th>waffle</th>\n",
       "      <th>terrific</th>\n",
       "      <td>1</td>\n",
       "    </tr>\n",
       "    <tr>\n",
       "      <th>edge</th>\n",
       "      <th>crisp</th>\n",
       "      <td>1</td>\n",
       "    </tr>\n",
       "    <tr>\n",
       "      <th>vehicle</th>\n",
       "      <th>excellent</th>\n",
       "      <td>1</td>\n",
       "    </tr>\n",
       "  </tbody>\n",
       "</table>\n",
       "</div>"
      ],
      "text/plain": [
       "                         count\n",
       "food          good           3\n",
       "place         great          2\n",
       "fudge         hot            2\n",
       "place         good           2\n",
       "strip mall    small          1\n",
       "parking lot   small          1\n",
       "monkey waffle funky          1\n",
       "waffle        terrific       1\n",
       "edge          crisp          1\n",
       "vehicle       excellent      1"
      ]
     },
     "execution_count": 176,
     "metadata": {},
     "output_type": "execute_result"
    }
   ],
   "source": [
    "rating_4"
   ]
  },
  {
   "cell_type": "code",
   "execution_count": 177,
   "id": "e4bcee16",
   "metadata": {},
   "outputs": [],
   "source": [
    "rating_4.to_csv('../result/rating_4_top_10_frequently_used.csv')"
   ]
  },
  {
   "cell_type": "markdown",
   "id": "fe33b989",
   "metadata": {},
   "source": [
    "## Rating 5, 20 random reviews"
   ]
  },
  {
   "cell_type": "code",
   "execution_count": 184,
   "id": "f57089c6",
   "metadata": {},
   "outputs": [
    {
     "name": "stdout",
     "output_type": "stream",
     "text": [
      "count before postprocessing 103\n",
      "count after postprocessing 103\n"
     ]
    }
   ],
   "source": [
    "rating_5 = extract_adj_noun_pair(5, 20, df, 10)"
   ]
  },
  {
   "cell_type": "code",
   "execution_count": 185,
   "id": "b8d9c0bb",
   "metadata": {},
   "outputs": [
    {
     "data": {
      "text/html": [
       "<div>\n",
       "<style scoped>\n",
       "    .dataframe tbody tr th:only-of-type {\n",
       "        vertical-align: middle;\n",
       "    }\n",
       "\n",
       "    .dataframe tbody tr th {\n",
       "        vertical-align: top;\n",
       "    }\n",
       "\n",
       "    .dataframe thead th {\n",
       "        text-align: right;\n",
       "    }\n",
       "</style>\n",
       "<table border=\"1\" class=\"dataframe\">\n",
       "  <thead>\n",
       "    <tr style=\"text-align: right;\">\n",
       "      <th></th>\n",
       "      <th></th>\n",
       "      <th>count</th>\n",
       "    </tr>\n",
       "  </thead>\n",
       "  <tbody>\n",
       "    <tr>\n",
       "      <th>food</th>\n",
       "      <th>great</th>\n",
       "      <td>2</td>\n",
       "    </tr>\n",
       "    <tr>\n",
       "      <th>staff</th>\n",
       "      <th>friendly</th>\n",
       "      <td>2</td>\n",
       "    </tr>\n",
       "    <tr>\n",
       "      <th>stuff</th>\n",
       "      <th>other</th>\n",
       "      <td>2</td>\n",
       "    </tr>\n",
       "    <tr>\n",
       "      <th>good</th>\n",
       "      <th>own</th>\n",
       "      <td>2</td>\n",
       "    </tr>\n",
       "    <tr>\n",
       "      <th>occasion</th>\n",
       "      <th>multiple</th>\n",
       "      <td>1</td>\n",
       "    </tr>\n",
       "    <tr>\n",
       "      <th>experience</th>\n",
       "      <th>good</th>\n",
       "      <td>1</td>\n",
       "    </tr>\n",
       "    <tr>\n",
       "      <th>vibe</th>\n",
       "      <th>great</th>\n",
       "      <td>1</td>\n",
       "    </tr>\n",
       "    <tr>\n",
       "      <th>place</th>\n",
       "      <th>favorite</th>\n",
       "      <td>1</td>\n",
       "    </tr>\n",
       "    <tr>\n",
       "      <th>service</th>\n",
       "      <th>always clean fast</th>\n",
       "      <td>1</td>\n",
       "    </tr>\n",
       "    <tr>\n",
       "      <th>food</th>\n",
       "      <th>delicious</th>\n",
       "      <td>1</td>\n",
       "    </tr>\n",
       "  </tbody>\n",
       "</table>\n",
       "</div>"
      ],
      "text/plain": [
       "                              count\n",
       "food       great                  2\n",
       "staff      friendly               2\n",
       "stuff      other                  2\n",
       "good       own                    2\n",
       "occasion   multiple               1\n",
       "experience good                   1\n",
       "vibe       great                  1\n",
       "place      favorite               1\n",
       "service    always clean fast      1\n",
       "food       delicious              1"
      ]
     },
     "execution_count": 185,
     "metadata": {},
     "output_type": "execute_result"
    }
   ],
   "source": [
    "rating_5"
   ]
  },
  {
   "cell_type": "code",
   "execution_count": 186,
   "id": "a4d3eede",
   "metadata": {},
   "outputs": [],
   "source": [
    "rating_5.to_csv('../result/rating_5_top_10_frequently_used.csv')"
   ]
  },
  {
   "cell_type": "markdown",
   "id": "66ed1f2e",
   "metadata": {},
   "source": [
    "## Testing extractor"
   ]
  },
  {
   "cell_type": "code",
   "execution_count": 80,
   "id": "9386fcdb",
   "metadata": {},
   "outputs": [],
   "source": [
    "noun_adj_pairs = get_noun_adj_pair(['Environment, and atmosphere was thoroughly enjoyable.'])"
   ]
  },
  {
   "cell_type": "code",
   "execution_count": 81,
   "id": "4b568baa",
   "metadata": {},
   "outputs": [
    {
     "data": {
      "text/plain": [
       "{('environment', 'thoroughly enjoyable'): 1,\n",
       " ('atmosphere', 'thoroughly enjoyable'): 1}"
      ]
     },
     "execution_count": 81,
     "metadata": {},
     "output_type": "execute_result"
    }
   ],
   "source": [
    "noun_adj_pairs"
   ]
  },
  {
   "cell_type": "code",
   "execution_count": 84,
   "id": "4db85159",
   "metadata": {},
   "outputs": [],
   "source": [
    "noun_adj_pairs = get_noun_adj_pair(['Quick and attentive service, despite being continuously busy.'])"
   ]
  },
  {
   "cell_type": "code",
   "execution_count": 85,
   "id": "9d867a33",
   "metadata": {},
   "outputs": [
    {
     "data": {
      "text/plain": [
       "{('service', 'attentive'): 1}"
      ]
     },
     "execution_count": 85,
     "metadata": {},
     "output_type": "execute_result"
    }
   ],
   "source": [
    "noun_adj_pairs"
   ]
  },
  {
   "cell_type": "code",
   "execution_count": 101,
   "id": "5af1bd64",
   "metadata": {},
   "outputs": [],
   "source": [
    "noun_adj_pairs = get_noun_adj_pair(['Potatoes were extremely well seasoned'])"
   ]
  },
  {
   "cell_type": "code",
   "execution_count": 102,
   "id": "9d476d99",
   "metadata": {},
   "outputs": [
    {
     "data": {
      "text/plain": [
       "{}"
      ]
     },
     "execution_count": 102,
     "metadata": {},
     "output_type": "execute_result"
    }
   ],
   "source": [
    "noun_adj_pairs"
   ]
  },
  {
   "cell_type": "code",
   "execution_count": 95,
   "id": "dcc20547",
   "metadata": {},
   "outputs": [],
   "source": [
    "noun_adj_pairs = get_noun_adj_pair(['The fresh mozzarella was fantastic and the pizzas were great'])"
   ]
  },
  {
   "cell_type": "code",
   "execution_count": 96,
   "id": "7291604a",
   "metadata": {},
   "outputs": [
    {
     "data": {
      "text/plain": [
       "{('mozzarella', 'fresh'): 1, ('mozzarella', 'fantastic'): 1}"
      ]
     },
     "execution_count": 96,
     "metadata": {},
     "output_type": "execute_result"
    }
   ],
   "source": [
    "noun_adj_pairs"
   ]
  }
 ],
 "metadata": {
  "kernelspec": {
   "display_name": "Python 3",
   "language": "python",
   "name": "python3"
  },
  "language_info": {
   "codemirror_mode": {
    "name": "ipython",
    "version": 3
   },
   "file_extension": ".py",
   "mimetype": "text/x-python",
   "name": "python",
   "nbconvert_exporter": "python",
   "pygments_lexer": "ipython3",
   "version": "3.9.5"
  }
 },
 "nbformat": 4,
 "nbformat_minor": 5
}
