{
 "cells": [
  {
   "cell_type": "code",
   "execution_count": 1,
   "metadata": {},
   "outputs": [
    {
     "name": "stderr",
     "output_type": "stream",
     "text": [
      "[nltk_data] Downloading package stopwords to\n",
      "[nltk_data]     C:\\Users\\aguga\\AppData\\Roaming\\nltk_data...\n",
      "[nltk_data]   Package stopwords is already up-to-date!\n",
      "[nltk_data] Downloading package wordnet to\n",
      "[nltk_data]     C:\\Users\\aguga\\AppData\\Roaming\\nltk_data...\n",
      "[nltk_data]   Package wordnet is already up-to-date!\n"
     ]
    }
   ],
   "source": [
    "import numpy as np\n",
    "import pandas as pd\n",
    "import json\n",
    "import nltk\n",
    "nltk.download(\"stopwords\") # add downloader for stopwords\n",
    "nltk.download(\"wordnet\") # add downloader for wordnet\n",
    "from nltk import word_tokenize\n",
    "from nltk.corpus import stopwords\n",
    "stop_words = stopwords.words('english')\n",
    "from nltk.stem import WordNetLemmatizer\n",
    "from sklearn.feature_extraction.text import CountVectorizer, TfidfVectorizer\n",
    "from sklearn.model_selection import train_test_split\n",
    "from nltk.tokenize import word_tokenize\n",
    "\n",
    "import tqdm\n",
    "from tensorflow.keras.preprocessing.sequence import pad_sequences\n",
    "from tensorflow.keras.preprocessing.text import Tokenizer\n",
    "from tensorflow.keras.layers import Embedding, LSTM, Dropout, Dense\n",
    "from tensorflow.keras.models import Sequential\n",
    "from tensorflow.keras.utils import to_categorical\n",
    "\n",
    "import tensorflow as tf\n",
    "tf.compat.v1.reset_default_graph()"
   ]
  },
  {
   "cell_type": "code",
   "execution_count": 2,
   "metadata": {},
   "outputs": [],
   "source": [
    "with open(\"reviewSelected100.json\", 'r') as read_file:\n",
    "    data = [json.loads(line) for line in read_file]"
   ]
  },
  {
   "cell_type": "code",
   "execution_count": 3,
   "metadata": {},
   "outputs": [
    {
     "data": {
      "text/html": [
       "<div>\n",
       "<style scoped>\n",
       "    .dataframe tbody tr th:only-of-type {\n",
       "        vertical-align: middle;\n",
       "    }\n",
       "\n",
       "    .dataframe tbody tr th {\n",
       "        vertical-align: top;\n",
       "    }\n",
       "\n",
       "    .dataframe thead th {\n",
       "        text-align: right;\n",
       "    }\n",
       "</style>\n",
       "<table border=\"1\" class=\"dataframe\">\n",
       "  <thead>\n",
       "    <tr style=\"text-align: right;\">\n",
       "      <th></th>\n",
       "      <th>Reviews</th>\n",
       "    </tr>\n",
       "  </thead>\n",
       "  <tbody>\n",
       "    <tr>\n",
       "      <th>0</th>\n",
       "      <td>We had my Mother's Birthday Party here on 10/2...</td>\n",
       "    </tr>\n",
       "    <tr>\n",
       "      <th>1</th>\n",
       "      <td>Good Korean grill near Eaton Centre. The marin...</td>\n",
       "    </tr>\n",
       "    <tr>\n",
       "      <th>2</th>\n",
       "      <td>Was recommended to try this place by few peopl...</td>\n",
       "    </tr>\n",
       "    <tr>\n",
       "      <th>3</th>\n",
       "      <td>Ambience: Would not expect something this nice...</td>\n",
       "    </tr>\n",
       "    <tr>\n",
       "      <th>4</th>\n",
       "      <td>Absolutely the WORST pool company that I have ...</td>\n",
       "    </tr>\n",
       "  </tbody>\n",
       "</table>\n",
       "</div>"
      ],
      "text/plain": [
       "                                             Reviews\n",
       "0  We had my Mother's Birthday Party here on 10/2...\n",
       "1  Good Korean grill near Eaton Centre. The marin...\n",
       "2  Was recommended to try this place by few peopl...\n",
       "3  Ambience: Would not expect something this nice...\n",
       "4  Absolutely the WORST pool company that I have ..."
      ]
     },
     "execution_count": 3,
     "metadata": {},
     "output_type": "execute_result"
    }
   ],
   "source": [
    "#Store all reviews in a Pandas DataFrame \n",
    "reviews = []\n",
    "for rev in range(len(data)):\n",
    "    reviews.append(data[rev]['text'])\n",
    "    \n",
    "rev_df = pd.DataFrame(reviews, columns = ['Reviews'])\n",
    "rev_df.head()"
   ]
  },
  {
   "cell_type": "code",
   "execution_count": 4,
   "metadata": {},
   "outputs": [],
   "source": [
    "#Clean data \n",
    "import re\n",
    "\n",
    "#1. Removes Punctuations\n",
    "def remove_punctuations(data):\n",
    "    punct_tag=re.compile(r'[^\\w\\s]')\n",
    "    data=punct_tag.sub(r'',data)\n",
    "    return data\n",
    "\n",
    "#2. Removes HTML syntaxesn(if reviews provide business links)\n",
    "def remove_html(data):\n",
    "    html_tag=re.compile(r'<.*?>')\n",
    "    data=html_tag.sub(r'',data)\n",
    "    return data\n",
    "\n",
    "#3. Removes URL data (if reviews provide business links)\n",
    "def remove_url(data):\n",
    "    url_clean= re.compile(r\"https://\\S+|www\\.\\S+\")\n",
    "    data=url_clean.sub(r'',data)\n",
    "    return data\n",
    "\n",
    "#4. Removes Emojis (if reviews contains expressions)\n",
    "def remove_emoji(data):\n",
    "    emoji_clean= re.compile(\"[\"\n",
    "                           u\"\\U0001F600-\\U0001F64F\"  # emoticons\n",
    "                           u\"\\U0001F300-\\U0001F5FF\"  # symbols & pictographs\n",
    "                           u\"\\U0001F680-\\U0001F6FF\"  # transport & map symbols\n",
    "                           u\"\\U0001F1E0-\\U0001F1FF\"  # flags (iOS)\n",
    "                           u\"\\U00002702-\\U000027B0\"\n",
    "                           u\"\\U000024C2-\\U0001F251\"\n",
    "                           \"]+\", flags=re.UNICODE)\n",
    "    data=emoji_clean.sub(r'',data)\n",
    "    url_clean= re.compile(r\"https://\\S+|www\\.\\S+\")\n",
    "    data=url_clean.sub(r'',data)\n",
    "    return data\n",
    "\n",
    "#5. Lemmatize\n",
    "def lemma_train(data):\n",
    "    lemmatizer=WordNetLemmatizer()\n",
    "    out_data=\"\"\n",
    "    for words in data:\n",
    "        out_data+= lemmatizer.lemmatize(words)\n",
    "    return out_data\n",
    "\n",
    "rev_df['Reviews']=rev_df['Reviews'].apply(lambda z: remove_punctuations(z))\n",
    "rev_df['Reviews']=rev_df['Reviews'].apply(lambda z: remove_html(z))\n",
    "rev_df['Reviews']=rev_df['Reviews'].apply(lambda z: remove_url(z))\n",
    "rev_df['Reviews']=rev_df['Reviews'].apply(lambda z: remove_emoji(z))\n",
    "rev_df['Reviews']=rev_df['Reviews'].apply(lambda z: lemma_train(z))"
   ]
  },
  {
   "cell_type": "code",
   "execution_count": 5,
   "metadata": {},
   "outputs": [
    {
     "data": {
      "text/html": [
       "<div>\n",
       "<style scoped>\n",
       "    .dataframe tbody tr th:only-of-type {\n",
       "        vertical-align: middle;\n",
       "    }\n",
       "\n",
       "    .dataframe tbody tr th {\n",
       "        vertical-align: top;\n",
       "    }\n",
       "\n",
       "    .dataframe thead th {\n",
       "        text-align: right;\n",
       "    }\n",
       "</style>\n",
       "<table border=\"1\" class=\"dataframe\">\n",
       "  <thead>\n",
       "    <tr style=\"text-align: right;\">\n",
       "      <th></th>\n",
       "      <th>Reviews</th>\n",
       "    </tr>\n",
       "  </thead>\n",
       "  <tbody>\n",
       "    <tr>\n",
       "      <th>0</th>\n",
       "      <td>We had my Mothers Birthday Party here on 10291...</td>\n",
       "    </tr>\n",
       "    <tr>\n",
       "      <th>1</th>\n",
       "      <td>Good Korean grill near Eaton Centre The marina...</td>\n",
       "    </tr>\n",
       "    <tr>\n",
       "      <th>2</th>\n",
       "      <td>Was recommended to try this place by few peopl...</td>\n",
       "    </tr>\n",
       "    <tr>\n",
       "      <th>3</th>\n",
       "      <td>Ambience Would not expect something this nice ...</td>\n",
       "    </tr>\n",
       "    <tr>\n",
       "      <th>4</th>\n",
       "      <td>Absolutely the WORST pool company that I have ...</td>\n",
       "    </tr>\n",
       "  </tbody>\n",
       "</table>\n",
       "</div>"
      ],
      "text/plain": [
       "                                             Reviews\n",
       "0  We had my Mothers Birthday Party here on 10291...\n",
       "1  Good Korean grill near Eaton Centre The marina...\n",
       "2  Was recommended to try this place by few peopl...\n",
       "3  Ambience Would not expect something this nice ...\n",
       "4  Absolutely the WORST pool company that I have ..."
      ]
     },
     "execution_count": 5,
     "metadata": {},
     "output_type": "execute_result"
    }
   ],
   "source": [
    "rev_df_clean = rev_df\n",
    "rev_df_clean.head()"
   ]
  },
  {
   "cell_type": "code",
   "execution_count": 6,
   "metadata": {},
   "outputs": [
    {
     "name": "stderr",
     "output_type": "stream",
     "text": [
      "[nltk_data] Downloading package vader_lexicon to\n",
      "[nltk_data]     C:\\Users\\aguga\\AppData\\Roaming\\nltk_data...\n",
      "[nltk_data]   Package vader_lexicon is already up-to-date!\n"
     ]
    }
   ],
   "source": [
    "#Feature Engineering \n",
    "\n",
    "'''\n",
    "Separate the reviews into positive and negative using nltk sentiment vader\n",
    "'''\n",
    "nltk.download('vader_lexicon')\n",
    "from nltk.sentiment.vader import SentimentIntensityAnalyzer\n",
    "nltk_sent = SentimentIntensityAnalyzer()\n",
    "\n",
    "rev_df_clean['ratings'] = rev_df_clean[\"Reviews\"].apply(lambda x: nltk_sent.polarity_scores(x))\n",
    "rev_df_new = pd.concat([rev_df_clean.drop(['ratings'], axis=1), rev_df_clean['ratings'].apply(pd.Series)], axis=1)"
   ]
  },
  {
   "cell_type": "code",
   "execution_count": 7,
   "metadata": {},
   "outputs": [
    {
     "data": {
      "text/html": [
       "<div>\n",
       "<style scoped>\n",
       "    .dataframe tbody tr th:only-of-type {\n",
       "        vertical-align: middle;\n",
       "    }\n",
       "\n",
       "    .dataframe tbody tr th {\n",
       "        vertical-align: top;\n",
       "    }\n",
       "\n",
       "    .dataframe thead th {\n",
       "        text-align: right;\n",
       "    }\n",
       "</style>\n",
       "<table border=\"1\" class=\"dataframe\">\n",
       "  <thead>\n",
       "    <tr style=\"text-align: right;\">\n",
       "      <th></th>\n",
       "      <th>Reviews</th>\n",
       "      <th>neg</th>\n",
       "      <th>neu</th>\n",
       "      <th>pos</th>\n",
       "      <th>compound</th>\n",
       "      <th>comp_rating</th>\n",
       "    </tr>\n",
       "  </thead>\n",
       "  <tbody>\n",
       "    <tr>\n",
       "      <th>0</th>\n",
       "      <td>We had my Mothers Birthday Party here on 10291...</td>\n",
       "      <td>0.000</td>\n",
       "      <td>0.592</td>\n",
       "      <td>0.408</td>\n",
       "      <td>0.9300</td>\n",
       "      <td>pos</td>\n",
       "    </tr>\n",
       "    <tr>\n",
       "      <th>1</th>\n",
       "      <td>Good Korean grill near Eaton Centre The marina...</td>\n",
       "      <td>0.055</td>\n",
       "      <td>0.736</td>\n",
       "      <td>0.208</td>\n",
       "      <td>0.9448</td>\n",
       "      <td>pos</td>\n",
       "    </tr>\n",
       "    <tr>\n",
       "      <th>2</th>\n",
       "      <td>Was recommended to try this place by few peopl...</td>\n",
       "      <td>0.006</td>\n",
       "      <td>0.687</td>\n",
       "      <td>0.307</td>\n",
       "      <td>0.9975</td>\n",
       "      <td>pos</td>\n",
       "    </tr>\n",
       "    <tr>\n",
       "      <th>3</th>\n",
       "      <td>Ambience Would not expect something this nice ...</td>\n",
       "      <td>0.094</td>\n",
       "      <td>0.759</td>\n",
       "      <td>0.148</td>\n",
       "      <td>0.8318</td>\n",
       "      <td>pos</td>\n",
       "    </tr>\n",
       "    <tr>\n",
       "      <th>4</th>\n",
       "      <td>Absolutely the WORST pool company that I have ...</td>\n",
       "      <td>0.090</td>\n",
       "      <td>0.885</td>\n",
       "      <td>0.026</td>\n",
       "      <td>-0.9402</td>\n",
       "      <td>neg</td>\n",
       "    </tr>\n",
       "  </tbody>\n",
       "</table>\n",
       "</div>"
      ],
      "text/plain": [
       "                                             Reviews    neg    neu    pos  \\\n",
       "0  We had my Mothers Birthday Party here on 10291...  0.000  0.592  0.408   \n",
       "1  Good Korean grill near Eaton Centre The marina...  0.055  0.736  0.208   \n",
       "2  Was recommended to try this place by few peopl...  0.006  0.687  0.307   \n",
       "3  Ambience Would not expect something this nice ...  0.094  0.759  0.148   \n",
       "4  Absolutely the WORST pool company that I have ...  0.090  0.885  0.026   \n",
       "\n",
       "   compound comp_rating  \n",
       "0    0.9300         pos  \n",
       "1    0.9448         pos  \n",
       "2    0.9975         pos  \n",
       "3    0.8318         pos  \n",
       "4   -0.9402         neg  "
      ]
     },
     "execution_count": 7,
     "metadata": {},
     "output_type": "execute_result"
    }
   ],
   "source": [
    "rev_df_new['comp_rating'] = rev_df_new['compound'].apply(lambda c: 'pos' if c >=0 else 'neg')\n",
    "\n",
    "rev_df_new.head()"
   ]
  },
  {
   "cell_type": "code",
   "execution_count": 8,
   "metadata": {},
   "outputs": [],
   "source": [
    "upd_df = rev_df_new.drop(columns=['neg','neu','pos','compound'])"
   ]
  },
  {
   "cell_type": "code",
   "execution_count": 9,
   "metadata": {},
   "outputs": [
    {
     "data": {
      "text/plain": [
       "(array([0, 0, 0, ..., 0, 0, 0], dtype=int64),\n",
       " Index(['pos', 'neg'], dtype='object'))"
      ]
     },
     "execution_count": 9,
     "metadata": {},
     "output_type": "execute_result"
    }
   ],
   "source": [
    "sentiment_label = upd_df[\"comp_rating\"].factorize()\n",
    "sentiment_label"
   ]
  },
  {
   "cell_type": "code",
   "execution_count": 11,
   "metadata": {},
   "outputs": [],
   "source": [
    "text_data = upd_df[\"Reviews\"]\n",
    "from keras.preprocessing.text import Tokenizer\n",
    "\n",
    "#Tokenization\n",
    "tokenizer = Tokenizer()\n",
    "tokenizer.fit_on_texts(text_data)\n",
    "encoded_text_data = tokenizer.texts_to_sequences(text_data)"
   ]
  },
  {
   "cell_type": "code",
   "execution_count": 12,
   "metadata": {},
   "outputs": [],
   "source": [
    "SEQUENCE_LENGTH = 200\n",
    "EMBEDDING_SIZE = 32\n",
    "TEST_SIZE = 0.25\n",
    "BATCH_SIZE = 32\n",
    "EPOCHS = 5"
   ]
  },
  {
   "cell_type": "code",
   "execution_count": 13,
   "metadata": {},
   "outputs": [],
   "source": [
    "#ensure all sentences are same size \n",
    "padded_text_data = pad_sequences(encoded_text_data, maxlen=200)\n"
   ]
  },
  {
   "cell_type": "code",
   "execution_count": 14,
   "metadata": {},
   "outputs": [],
   "source": [
    "from tensorflow.keras.layers import Embedding,SpatialDropout1D"
   ]
  },
  {
   "cell_type": "code",
   "execution_count": 19,
   "metadata": {},
   "outputs": [
    {
     "name": "stdout",
     "output_type": "stream",
     "text": [
      "Model: \"sequential_3\"\n",
      "_________________________________________________________________\n",
      "Layer (type)                 Output Shape              Param #   \n",
      "=================================================================\n",
      "embedding_3 (Embedding)      (None, 200, 32)           1140800   \n",
      "_________________________________________________________________\n",
      "spatial_dropout1d_2 (Spatial (None, 200, 32)           0         \n",
      "_________________________________________________________________\n",
      "lstm (LSTM)                  (None, 50)                16600     \n",
      "_________________________________________________________________\n",
      "dropout (Dropout)            (None, 50)                0         \n",
      "_________________________________________________________________\n",
      "dense (Dense)                (None, 1)                 51        \n",
      "=================================================================\n",
      "Total params: 1,157,451\n",
      "Trainable params: 1,157,451\n",
      "Non-trainable params: 0\n",
      "_________________________________________________________________\n"
     ]
    }
   ],
   "source": [
    "model = Sequential()\n",
    "model.add(Embedding(len(tokenizer.word_index)+1,\n",
    "          EMBEDDING_SIZE,\n",
    "          input_length=SEQUENCE_LENGTH))\n",
    "model.add(SpatialDropout1D(0.25))\n",
    "model.add(LSTM(50, dropout=0.5, recurrent_dropout=0.5))\n",
    "model.add(Dropout(0.2))\n",
    "model.add(Dense(1, activation=\"sigmoid\"))\n",
    "model.compile(optimizer=\"adam\", loss='binary_crossentropy',\n",
    "              metrics=[\"accuracy\"])\n",
    "model.summary()"
   ]
  },
  {
   "cell_type": "code",
   "execution_count": 20,
   "metadata": {},
   "outputs": [
    {
     "name": "stdout",
     "output_type": "stream",
     "text": [
      "Epoch 1/5\n",
      "383/383 [==============================] - 68s 171ms/step - loss: 0.3753 - accuracy: 0.8547 - val_loss: 0.2949 - val_accuracy: 0.8742\n",
      "Epoch 2/5\n",
      "383/383 [==============================] - 73s 191ms/step - loss: 0.2343 - accuracy: 0.9037 - val_loss: 0.2881 - val_accuracy: 0.8794\n",
      "Epoch 3/5\n",
      "383/383 [==============================] - 70s 183ms/step - loss: 0.1797 - accuracy: 0.9280 - val_loss: 0.2828 - val_accuracy: 0.8788\n",
      "Epoch 4/5\n",
      "383/383 [==============================] - 66s 173ms/step - loss: 0.1443 - accuracy: 0.9451 - val_loss: 0.3903 - val_accuracy: 0.8961\n",
      "Epoch 5/5\n",
      "383/383 [==============================] - 65s 170ms/step - loss: 0.1128 - accuracy: 0.9572 - val_loss: 0.3202 - val_accuracy: 0.8915\n"
     ]
    }
   ],
   "source": [
    "history = model.fit(padded_text_data,sentiment_label[0],validation_split=0.2,epochs=EPOCHS,batch_size=BATCH_SIZE)"
   ]
  },
  {
   "cell_type": "code",
   "execution_count": 21,
   "metadata": {},
   "outputs": [
    {
     "data": {
      "image/png": "[encoded data removed]",
      "text/plain": [
       "<Figure size 432x288 with 1 Axes>"
      ]
     },
     "metadata": {
      "needs_background": "light"
     },
     "output_type": "display_data"
    }
   ],
   "source": [
    "import matplotlib.pyplot as plt\n",
    "plt.plot(history.history['accuracy'], label='train') \n",
    "plt.plot(history.history['val_accuracy'], label='test') \n",
    "plt.title(\"Plot of model accuracy\")\n",
    "plt.xlabel(\"Epochs\")\n",
    "plt.ylabel(\"Accuracy\")\n",
    "plt.legend()\n",
    "plt.show()"
   ]
  },
  {
   "cell_type": "code",
   "execution_count": 22,
   "metadata": {},
   "outputs": [
    {
     "data": {
      "image/png": "[encoded data removed]",
      "text/plain": [
       "<Figure size 432x288 with 1 Axes>"
      ]
     },
     "metadata": {
      "needs_background": "light"
     },
     "output_type": "display_data"
    }
   ],
   "source": [
    "plt.plot(history.history['loss'], label='train') \n",
    "plt.plot(history.history['val_loss'], label='test') \n",
    "plt.title(\"Plot of model loss\")\n",
    "plt.xlabel(\"Epochs\")\n",
    "plt.ylabel(\"Loss\")\n",
    "plt.legend()\n",
    "plt.show()"
   ]
  },
  {
   "cell_type": "code",
   "execution_count": 24,
   "metadata": {},
   "outputs": [],
   "source": [
    "def get_predictions(text):\n",
    "    sequence = tokenizer.texts_to_sequences([text])\n",
    "    # pad the sequence\n",
    "    sequence = pad_sequences(sequence, maxlen=200)\n",
    "    # get the prediction\n",
    "    prediction = int(model.predict(sequence).round().item())\n",
    "    print(\"Predicted Label:\", sentiment_label[1][prediction])\n"
   ]
  },
  {
   "cell_type": "code",
   "execution_count": 25,
   "metadata": {},
   "outputs": [],
   "source": [
    "rev_text = \"I ordered this chair last week. The condition was really good. The support is comfortable for the back and the seat is strong\""
   ]
  },
  {
   "cell_type": "code",
   "execution_count": 26,
   "metadata": {},
   "outputs": [
    {
     "name": "stdout",
     "output_type": "stream",
     "text": [
      "Predicted Label: pos\n"
     ]
    }
   ],
   "source": [
    "get_predictions(rev_text)"
   ]
  },
  {
   "cell_type": "code",
   "execution_count": 27,
   "metadata": {},
   "outputs": [
    {
     "name": "stdout",
     "output_type": "stream",
     "text": [
      "Predicted Label: pos\n"
     ]
    }
   ],
   "source": [
    "neg_rev = \"Never again! The service was so slow and the food was not good.\"\n",
    "get_predictions(neg_rev)"
   ]
  },
  {
   "cell_type": "code",
   "execution_count": 28,
   "metadata": {},
   "outputs": [
    {
     "data": {
      "text/plain": [
       "14833    Purchase went fine They sold us a warranty say...\n",
       "8721     I cant believe this has happened again to me a...\n",
       "9122     In two years I have been there two times First...\n",
       "12575    This pizza is great And Im really happy we hav...\n",
       "2310     Very good barbeque  We had two combo plates  b...\n",
       "12039    Cute little place to grab a quick bite to eat ...\n",
       "10492    I really like this location My favourite is th...\n",
       "4755     I agree with jj b These guys are like hawks ju...\n",
       "10676    Came here for Summerlicious with 2 friends\\nOr...\n",
       "8900     Out of all the jack Astors that Ive been to th...\n",
       "6347     Selfserve frozen yogurt place with various top...\n",
       "8741     Crazy fun does not describe it hot people over...\n",
       "2744     Horrible horrible beef I ordered two combo pla...\n",
       "5363     Great service My tire was back ordered everywh...\n",
       "8674     We go semiregularly  maybe every couple of mon...\n",
       "12971    This was suppose to be such a good decision an...\n",
       "10597    I was served dirty plates and the most awkward...\n",
       "11326    Yummm I have been here before and it was okThi...\n",
       "13313    This place is great  I came here on a Thursday...\n",
       "3801     Had our work lunch here on this fine sunny Apr...\n",
       "Name: Reviews, dtype: object"
      ]
     },
     "execution_count": 28,
     "metadata": {},
     "output_type": "execute_result"
    }
   ],
   "source": [
    "sample_df = upd_df[\"Reviews\"].sample(n=20)\n",
    "sample_df"
   ]
  },
  {
   "cell_type": "code",
   "execution_count": 31,
   "metadata": {
    "scrolled": false
   },
   "outputs": [
    {
     "name": "stdout",
     "output_type": "stream",
     "text": [
      "Predicted Label: pos\n",
      "Purchase went fine They sold us a warranty saying how great the service plan is and that we would go directly through them They sure sold us a load of crap You call and they have you call someone else Then its a game of pass the buck If you dont like what one does that have you call the other Spencers takes zero accountability for the warranty they sold We are just salesmen Yeah sales men who sold us garbage 4 weeks to fix a fridge is completely unacceptable Spencers says appliance repair should have overnighted parts Appliance repair says theres nothing they can do Warranty people say oh well we cant schedule till we have parts and those take 10 business days So a week for first appt 10 business days for parts another week wait after they get parts to get another repair appt Meanwhile we have a fridge that doesnt work BUYER BEWARE   Will never buy there again\n",
      "-----------\n",
      "Predicted Label: pos\n",
      "I cant believe this has happened again to me and my son at this restaurant Im sick of these so called hostess who seat you at the kitchen because you are a white woman over the age of 50 and you have a white male who happens to be a little overweight I asked to be moved as the restaurant was not even half full wonder why and she flat out said NO One minute later another hostess seats a boy about 14 and man about 40 in a booth that I asked for Then they tell us there is no debit but we can use a credit card UMMM funny the same machine is used for both Well my friend as this restaurant is obviously prejudiced against white people Ill never go back to any Jack Astors again By the way theyve changed their menu and basically took all the good items off Oh Jack Astor train your so called hostesses to do their jobs instead of this and teach them that the customer comes first not a social conversation with each other\n",
      "-----------\n",
      "Predicted Label: pos\n",
      "In two years I have been there two times First time the wash was ok but took over an hour\n",
      "Went there yesterday The salesperson greeted me with Whats Up Asked if I wanted a wash or detail I said wash what do you recommend he said the ultimate package  When I went to ask him how much and what it included he had already went and imputed the order I looked up and saw it was 5000 and backed out AS I was leaving he looked at me as if Whats up\n",
      "To sum it up overly aggressive rude sales person long wait time and mediocre wash\n",
      "-----------\n",
      "Predicted Label: pos\n",
      "This pizza is great And Im really happy we have a place like this in south side now But I like dipping my pizza in ranch and I was really disappointed in theirs Its definitely just hidden valley squeezed into a container and sold for 50 other than that the pizza is really good especially for the price I just wish they had their own barstyle ranch\n",
      "-----------\n",
      "Predicted Label: pos\n",
      "Very good barbeque  We had two combo plates  brisket pulled pork sausage   Definatly satisfied the BBQ craving\n",
      "-----------\n",
      "Predicted Label: pos\n",
      "Cute little place to grab a quick bite to eat My boyfriend and I came here for lunch the other weekend It was his first time having banh mi and he ordered the grilled pork I ordered the vegetarian option My sandwich came with shredded sautéed carrots and strips of tofu in what seemed like it was cooked with curry paste It was very enjoyable We both also wanted bubble tea but the cashier at the time said they were out of bubbles so I ended up just getting an ice coffee slush My boyfriend ordered a yogurtbased drink with passionfruit jelly Although both were very good the next customer who ordered bubble tea was able to get tapioca in their drink I kind of wish the cashier would have given us the option to hold off a little longer and come out with our drinks Overall very good banh mi here\n",
      "-----------\n",
      "Predicted Label: pos\n",
      "I really like this location My favourite is the secret menu bao\n",
      "\n",
      "Staff is always nice and the keep the place clean\n",
      "\n",
      "Food is ready pretty fast\n",
      "\n",
      "Cheap fast simple and delicious\n",
      "-----------\n",
      "Predicted Label: pos\n",
      "I agree with jj b These guys are like hawks just waiting to come up and swoop up their prey \n",
      "I made the mistake of going here without my dad it at least a male figure to help me out and whatdya know The pretty much screwed me I have had nothing but problems with these guys    and I cant even begin to tell you the crap we are going through right now as our transmission has gone kaput The service techs try as they can to be nice and friendly which they are but still money hungry\n",
      "I really wish I could say I was happy with this place cuz I doo love mazda vehiclesbut honestly I would get out as fast as I could\n",
      "-----------\n",
      "Predicted Label: pos\n",
      "Came here for Summerlicious with 2 friends\n",
      "Ordered the veal lasagna with the fried cauliflower as a side\n",
      "\n",
      "I can honestly say that this meal was horrendousThe veal lasagna was  swimming in grease and the noodles were so overcooked that they were like mush Furthermore it was totally tasteless\n",
      "\n",
      "I cant even find words for how awful the cauliflower was It was certainly not fried It was boiled overcooked sitting in water and totally devoid of taste I would not serve this to a senior in a hospital\n",
      "\n",
      "Just returned from 10 days in the US where I ate fabulous food everywhere  fresh ingredients bursting with flavor We ate at a cool bistro in suburban Detroit that had the most delicious brussels sprouts  locally grown Ive ever eaten made with agave nectar and sharazi How can this be compared with the awful cauliflower of last night\n",
      "\n",
      "Toronto needs to learn a few lessons in good cuisine dont know how Joanne  Kates can think that this is even palatable food it was gross and this morning I even feel ill from all that grease\n",
      "Wake up Toronto\n",
      "-----------\n",
      "Predicted Label: neg\n",
      "Out of all the jack Astors that Ive been to this was the most shitty place Ive been to and its all thanks to one waitress I forgot her name thats how much I didnt care for her she was nice at first but then she messed up my order by bringing me my appetizer with my entree Like lets be real its an appetizer for a REASON Who eats appetizer with their meal Honestly its the first time I hear that If she wasnt sure if I wanted it with my meal she couldve ASKED but she didnt say anything and its not my job to tell her because its common sense that the appetizer must come BEFORE the meal Nevertheless after that she proceeds to tell me not to be rude with her when I WASNT I was just making a point and told her I dont need the appetizer now that the entree has arrived ALONG with the appetizer And to top it all off the rest of the night she didnt come back to my table to ask how everything was Moral of the story is if youre wrong just admit it and say sorry and do your job properly Ill NEVER go back to that Jack Astors Shitty service indeed\n",
      "-----------\n",
      "Predicted Label: pos\n",
      "Selfserve frozen yogurt place with various toppings bar\n",
      "\n",
      "42 cents per ounce watch those heavy toppings\n",
      "\n",
      "Grab a onesize cup and add your flavors and toppingsor place large cookie or brownie on the bottom\n",
      "\n",
      "Tastes pretty good like softserve ice cream available in different flavors\n",
      "\n",
      "Try the oatmeal cookie flavor then add raisins chocolate chips and other cookie related toppingsits like a creamy cookie in a cup\n",
      "\n",
      "Super clean place very simple  nice decorrelaxing\n",
      "\n",
      "Very friendly  helpful service\n",
      "\n",
      "Clean restroom\n",
      "\n",
      "Convenient parking right near Jenny Craigha ha\n",
      "-----------\n",
      "Predicted Label: pos\n",
      "Crazy fun does not describe it hot people overflow from other clubs into here I meet my drinking club here for meditation and book discussion NOT Come here Thursday thru Sunday\n",
      "-----------\n",
      "Predicted Label: pos\n",
      "Horrible horrible beef I ordered two combo plates and a large beef the beefs were 90 fat I would had demanded a refund if I wouldnt have lived so far away I loved this place in CA when I was growing up A coworker told me there was one in Vegas I was so happy I ordered our families food and took it home when I got home I was mortified we threw it out I still cant believe how disgusting the beef looked I tried to give it the benefit of the doubt but it was like chewing half cook fatty bacon do yourself a favor and skip this place 27 in the trash\n",
      "-----------\n",
      "Predicted Label: pos\n",
      "Great service My tire was back ordered everywhere  even online with other companies BMW M3 and Tyler tracked one down back east somewhere  when it would have been easy to just say there was nothing they could do Ive used Discount Tire for years and this is another reason why I wont go anywhere else\n",
      "-----------\n",
      "Predicted Label: pos\n",
      "We go semiregularly  maybe every couple of months Its not fancy not ridiculously expensive and they take reservations on weekends which is a nice touch  The food is reliable and the service is generally very good\n",
      "\n",
      "I just wish they could train their servers to know which table is which  I almost always get one stopping by to ask if weve ordered something only to find out it was the next table over or occasionally not even near ours  We once had them bring us an appetizer for someone else while we were eating dessert \n",
      "\n",
      "The free worlds best dad glass for Fathers Day was a nice touch  thank you\n",
      "-----------\n",
      "Predicted Label: pos\n",
      "This was suppose to be such a good decision and choice to come here and buy a car I bought a used car which was not really what I was looking for but Bill pretty much talked me into buying the car and once I get home I realize my headlight is out call the dealership immediately and let them know everyone I spoke to said bring it on on and we will take care of it so at this time I am a little suspicious and take to my mechanic who does a full inspection on it and finds out that not only my light is out but my suspension is bad Im livid they sold me a broken car and they are refusing to fix it Wont ever buy from here or recommend them to anyone \n",
      "\n",
      "I had to get corporate involved in order to even get any answers it should not have come to that or been this difficult to get answers I will be doing business elsewhere once all this is resolved I thank justin in the service department for his outstanding help and efforts and also the Corporate office of mazda for getting this all worked out\n",
      "-----------\n"
     ]
    },
    {
     "name": "stdout",
     "output_type": "stream",
     "text": [
      "Predicted Label: neg\n",
      "I was served dirty plates and the most awkward cup of green tea ever  a plastic cup full of large leaves with a bit of hot waterwhen I complainedof course no one spoke english This place sucks\n",
      "-----------\n",
      "Predicted Label: pos\n",
      "Yummm I have been here before and it was okThis time omg the bahn mi is so goodthe bread toasted the veggies crunchy and freshI was quite hungry so this hit the spot seriouslyThey have premade noodle dishes and snacks in the front as wellCheapyummy food\n",
      "-----------\n",
      "Predicted Label: pos\n",
      "This place is great  I came here on a Thursday to get a mani pedi before my wedding and they were able to see me right away and they did a great job   The pricing was a little high but the place is very clean so I didnt mind paying a little bit more  Also the aestheticians were very friendly  This place also has a ton of different colors and was able to recreate the picture that I had shown them indicating the look I was going for  They also offered water which I declined and opted for champagne instead \n",
      "\n",
      "I had a bad experience on my second visit however  The person helping was very rushed and didnt ask me what I thought about them  At the end of it all my nails looks thick and very unnatural \n",
      "\n",
      "They were able to able to redeem themselves however on my third visit  The aesthetician immediately noticed that the nails were not done correctly and was able to fix them  He was very nice ensuring that i liked everything he did along the way\n",
      "\n",
      "As this place is so close to my place I will gladly continue to come back here I am also looking forward to trying the other services they offer such as facials and waxing  I believe they also have a loyalty program that I will be looking into on my next visit\n",
      "-----------\n",
      "Predicted Label: pos\n",
      "Had our work lunch here on this fine sunny April Wednesday  Recommended by our south Indian coworker  If you are coming from down from 401 the building is a bit angle to the south on your left side behind a parking lot try not to miss it P  \n",
      "\n",
      "I had high hopes  I knew south Indian cuisine would be super Spicy  But was hoping to have some variety of other non spicy dishes  options  Unfortunately even the fried rice where mildly spicy   I had the butter chicken it looks dry and actually over cooked  Even on the second batch So sad  definitely for 1299pp Id have expected more\n",
      "\n",
      "Highlight of the visit \n",
      "CoWorker ordered us a paper dosa each  Its like a thin crepe made with rice coconut and etc  The dipping sauce was yogurt ish and very tasty   \n",
      "\n",
      "Food Taste 25\n",
      "Food Presentation 35\n",
      "Kitchen Delivery Speed NA5  its a buffet  the paper dosa took a few mins\n",
      "Service 15  no one came to grab our dirty  finished plates  \n",
      "Ambiance 45  nice quiet place to have some chats with friends  coworkers\n",
      "Fun Factor 25\n",
      "-----------\n"
     ]
    }
   ],
   "source": [
    "for text in sample_df:\n",
    "    get_predictions(text)\n",
    "    print(text)\n",
    "    print(\"-----------\")"
   ]
  },
  {
   "cell_type": "code",
   "execution_count": null,
   "metadata": {},
   "outputs": [],
   "source": []
  }
 ],
 "metadata": {
  "kernelspec": {
   "display_name": "Python 3",
   "language": "python",
   "name": "python3"
  },
  "language_info": {
   "codemirror_mode": {
    "name": "ipython",
    "version": 3
   },
   "file_extension": ".py",
   "mimetype": "text/x-python",
   "name": "python",
   "nbconvert_exporter": "python",
   "pygments_lexer": "ipython3",
   "version": "3.8.3"
  }
 },
 "nbformat": 4,
 "nbformat_minor": 4
}
