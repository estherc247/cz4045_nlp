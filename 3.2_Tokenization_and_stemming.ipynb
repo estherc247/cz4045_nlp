{
  "nbformat": 4,
  "nbformat_minor": 0,
  "metadata": {
    "kernelspec": {
      "display_name": "Python 3",
      "language": "python",
      "name": "python3"
    },
    "language_info": {
      "codemirror_mode": {
        "name": "ipython",
        "version": 3
      },
      "file_extension": ".py",
      "mimetype": "text/x-python",
      "name": "python",
      "nbconvert_exporter": "python",
      "pygments_lexer": "ipython3",
      "version": "3.8.5"
    },
    "colab": {
      "name": "3.2 Tokenization and stemming.ipynb",
      "provenance": []
    }
  },
  "cells": [
    {
      "cell_type": "markdown",
      "metadata": {
        "id": "FAqMG0je-GYd"
      },
      "source": [
        "### 3.2 Dataset Analysis [60m]\n",
        "\n",
        "#### Tokenization and Stemming"
      ]
    },
    {
      "cell_type": "code",
      "metadata": {
        "id": "jxILde_M-GYe",
        "outputId": "0bae4175-01e6-4449-e19a-270552b44903"
      },
      "source": [
        "import json\n",
        "import random\n",
        "\n",
        "import pandas as pd\n",
        "import numpy as np\n",
        "\n",
        "#NLTK packages\n",
        "from nltk.corpus import stopwords\n",
        "from nltk.tokenize import word_tokenize\n",
        "from nltk.stem import WordNetLemmatizer\n",
        "from nltk import ngrams\n",
        "from nltk.stem import PorterStemmer\n",
        "from nltk import FreqDist\n",
        "from sklearn.feature_extraction.stop_words import ENGLISH_STOP_WORDS\n",
        "\n",
        "#Utils\n",
        "import matplotlib.pyplot as plt\n",
        "from random import randint\n",
        "from random import choice"
      ],
      "execution_count": null,
      "outputs": [
        {
          "name": "stderr",
          "output_type": "stream",
          "text": [
            "/opt/anaconda3/lib/python3.8/site-packages/sklearn/utils/deprecation.py:143: FutureWarning: The sklearn.feature_extraction.stop_words module is  deprecated in version 0.22 and will be removed in version 0.24. The corresponding classes / functions should instead be imported from sklearn.feature_extraction.text. Anything that cannot be imported from sklearn.feature_extraction.text is now part of the private API.\n",
            "  warnings.warn(message, FutureWarning)\n"
          ]
        }
      ]
    },
    {
      "cell_type": "code",
      "metadata": {
        "id": "u9JxYvcA-GYl"
      },
      "source": [
        "with open(\"reviewSelected100.json\", 'r') as read_file:\n",
        "    data = [json.loads(line) for line in read_file]"
      ],
      "execution_count": null,
      "outputs": []
    },
    {
      "cell_type": "code",
      "metadata": {
        "id": "Z0iJ1z27-GYm"
      },
      "source": [
        "#---------------- Check Business Data ----------------------\n",
        "'''\n",
        "Total number of reviews = 15300\n",
        "Total number of business types = 153\n",
        "Each business has 100 reviews\n",
        "'''\n",
        "biz_type = []\n",
        "all_biz = []\n",
        "no_of_reviews = len(data)\n",
        "for i in range(no_of_reviews):\n",
        "    b = data[i]['business_id']\n",
        "    biz_type.append(b)\n",
        "    \n",
        "#Store unique business IDs in a list\n",
        "uniq_biz_type = []\n",
        "for i in biz_type:\n",
        "    if i not in uniq_biz_type:\n",
        "        uniq_biz_type.append(i)\n",
        "\n",
        "no_biz_type = len(uniq_biz_type)"
      ],
      "execution_count": null,
      "outputs": []
    },
    {
      "cell_type": "code",
      "metadata": {
        "id": "h2XHBLZf-GYn"
      },
      "source": [
        "def random_biz_select(no_of_reviews, no_biz_type, data):\n",
        "    #1. Randomly select a business b1 from the dataset\n",
        "    b1 = uniq_biz_type[randint(0, no_biz_type)] #everytime the code runs a new business_id is chosen\n",
        "\n",
        "    #2. Extract all reviews for b1 and create a small dataset B1\n",
        "    B1 = {\"small_dataset\": []}\n",
        "    count = 0\n",
        "    for i in range(no_of_reviews):\n",
        "        if data[i]['business_id'] == b1:\n",
        "            count +=1 #must be 100 on every run\n",
        "            B1['small_dataset'].append(data[i])\n",
        "            \n",
        "    #Print Business Information \n",
        "    print(\"------ Business ------\")\n",
        "    print(\"Business ID: \" + str(b1))\n",
        "\n",
        "    #Consolidated 100 reviews of a randomly chosen business ID\n",
        "    return B1"
      ],
      "execution_count": null,
      "outputs": []
    },
    {
      "cell_type": "code",
      "metadata": {
        "id": "-iDIRgm5-GYo"
      },
      "source": [
        "#Stopwords \n",
        "yelp_stop_words = set(stopwords.words('english')+ list(ENGLISH_STOP_WORDS))"
      ],
      "execution_count": null,
      "outputs": []
    },
    {
      "cell_type": "code",
      "metadata": {
        "id": "W80Pk9IE-GYq"
      },
      "source": [
        "#Word frequency before stemming\n",
        "from nltk import FreqDist\n",
        "\n",
        "def word_freq(biz_data, disp_count):\n",
        "    all_reviews = ''\n",
        "    for i in range(len(biz_data['small_dataset'])):\n",
        "        all_reviews += biz_data['small_dataset'][i]['text']\n",
        "\n",
        "    lowercase_review = all_reviews.lower()\n",
        "    word_tokens = word_tokenize(lowercase_review)\n",
        "\n",
        "    tokens = list()\n",
        "    for word in word_tokens:\n",
        "        if word.isalpha() and word not in yelp_stop_words:\n",
        "            tokens.append(word)\n",
        "\n",
        "    token_dist = FreqDist(tokens)\n",
        "    dist = pd.DataFrame(token_dist.most_common(disp_count),columns=['Word', 'Frequency'])\n",
        "\n",
        "    return tokens, dist"
      ],
      "execution_count": null,
      "outputs": []
    },
    {
      "cell_type": "code",
      "metadata": {
        "id": "HFbvh9OD-GYu"
      },
      "source": [
        "#Word frequency after stemming\n",
        "from nltk.stem import PorterStemmer\n",
        "\n",
        "def stem_porter(tokens, disp_count):\n",
        "    porter = PorterStemmer()\n",
        "    stem_word =[porter.stem(word) for word in tokens]\n",
        "    stem_word_dist = FreqDist(stem_word)\n",
        "    stem_dist = pd.DataFrame(stem_word_dist.most_common(disp_count),columns=['Word', 'Frequency'])\n",
        "\n",
        "    return stem_word, stem_dist"
      ],
      "execution_count": null,
      "outputs": []
    },
    {
      "cell_type": "code",
      "metadata": {
        "id": "nuB_51M8-GYv"
      },
      "source": [
        "# Function for display two tables side by side\n",
        "from IPython.display import display_html\n",
        "from itertools import chain,cycle\n",
        "def display_side_by_side(*args,titles=cycle([''])):\n",
        "    html_str=''\n",
        "    for df,title in zip(args, chain(titles,cycle(['</br>'])) ):\n",
        "        html_str+='<th style=\"text-align:center\"><td style=\"vertical-align:top\">'\n",
        "        html_str+=f'<h2>{title}</h2>'\n",
        "        html_str+=df.to_html().replace('table','table style=\"display:inline\"')\n",
        "        html_str+='</td></th>'\n",
        "    display_html(html_str,raw=True)"
      ],
      "execution_count": null,
      "outputs": []
    },
    {
      "cell_type": "code",
      "metadata": {
        "id": "kD6-_1BE-GYw",
        "outputId": "367651aa-6714-4c36-c753-fd9f71437ba2"
      },
      "source": [
        "#First randomly extracted business review \n",
        "biz_data = random_biz_select(no_of_reviews, no_biz_type, data)"
      ],
      "execution_count": null,
      "outputs": [
        {
          "name": "stdout",
          "output_type": "stream",
          "text": [
            "------ Business ------\n",
            "Business ID: l07ctcrDMV--TYwe3uzebQ\n"
          ]
        }
      ]
    },
    {
      "cell_type": "code",
      "metadata": {
        "id": "qsCpGvy8-GYy"
      },
      "source": [
        "#Number of words to display in dataframe \n",
        "disp_count = 10\n",
        "#Before stemming \n",
        "tokens, dist = word_freq(biz_data, disp_count)\n",
        "#After stemming using porter\n",
        "stem_word, stem_dist = stem_porter(tokens, disp_count)"
      ],
      "execution_count": null,
      "outputs": []
    },
    {
      "cell_type": "markdown",
      "metadata": {
        "id": "6fOHWw1F-GYz"
      },
      "source": [
        "### Graph representation of an increase in word length after stemming"
      ]
    },
    {
      "cell_type": "code",
      "metadata": {
        "id": "9Ph4_KNp-GYz"
      },
      "source": [
        "def add_count(no, dict_):\n",
        "    if dict_.get(no) == None:\n",
        "        dict_[no] = 1\n",
        "    else:\n",
        "        dict_[no] += 1"
      ],
      "execution_count": null,
      "outputs": []
    },
    {
      "cell_type": "code",
      "metadata": {
        "scrolled": true,
        "id": "GJqgZSow-GY0",
        "outputId": "688deae6-aa25-47d1-89c4-0978df58ae35"
      },
      "source": [
        "word_length = {}\n",
        "for word in tokens:\n",
        "    if len(word)<10:\n",
        "        add_count(len(word), word_length)\n",
        "word_df = pd.DataFrame(list(word_length.items()),columns = ['Letter Count','Frequency']) \n",
        "word_df = word_df.sort_values(by=['Letter Count'])\n",
        "word_df"
      ],
      "execution_count": null,
      "outputs": [
        {
          "data": {
            "text/html": [
              "<div>\n",
              "<style scoped>\n",
              "    .dataframe tbody tr th:only-of-type {\n",
              "        vertical-align: middle;\n",
              "    }\n",
              "\n",
              "    .dataframe tbody tr th {\n",
              "        vertical-align: top;\n",
              "    }\n",
              "\n",
              "    .dataframe thead th {\n",
              "        text-align: right;\n",
              "    }\n",
              "</style>\n",
              "<table border=\"1\" class=\"dataframe\">\n",
              "  <thead>\n",
              "    <tr style=\"text-align: right;\">\n",
              "      <th></th>\n",
              "      <th>Letter Count</th>\n",
              "      <th>Frequency</th>\n",
              "    </tr>\n",
              "  </thead>\n",
              "  <tbody>\n",
              "    <tr>\n",
              "      <th>8</th>\n",
              "      <td>1</td>\n",
              "      <td>7</td>\n",
              "    </tr>\n",
              "    <tr>\n",
              "      <th>7</th>\n",
              "      <td>2</td>\n",
              "      <td>79</td>\n",
              "    </tr>\n",
              "    <tr>\n",
              "      <th>4</th>\n",
              "      <td>3</td>\n",
              "      <td>413</td>\n",
              "    </tr>\n",
              "    <tr>\n",
              "      <th>0</th>\n",
              "      <td>4</td>\n",
              "      <td>1304</td>\n",
              "    </tr>\n",
              "    <tr>\n",
              "      <th>1</th>\n",
              "      <td>5</td>\n",
              "      <td>993</td>\n",
              "    </tr>\n",
              "    <tr>\n",
              "      <th>2</th>\n",
              "      <td>6</td>\n",
              "      <td>920</td>\n",
              "    </tr>\n",
              "    <tr>\n",
              "      <th>3</th>\n",
              "      <td>7</td>\n",
              "      <td>687</td>\n",
              "    </tr>\n",
              "    <tr>\n",
              "      <th>5</th>\n",
              "      <td>8</td>\n",
              "      <td>297</td>\n",
              "    </tr>\n",
              "    <tr>\n",
              "      <th>6</th>\n",
              "      <td>9</td>\n",
              "      <td>205</td>\n",
              "    </tr>\n",
              "  </tbody>\n",
              "</table>\n",
              "</div>"
            ],
            "text/plain": [
              "   Letter Count  Frequency\n",
              "8             1          7\n",
              "7             2         79\n",
              "4             3        413\n",
              "0             4       1304\n",
              "1             5        993\n",
              "2             6        920\n",
              "3             7        687\n",
              "5             8        297\n",
              "6             9        205"
            ]
          },
          "execution_count": 70,
          "metadata": {},
          "output_type": "execute_result"
        }
      ]
    },
    {
      "cell_type": "code",
      "metadata": {
        "id": "tfOwwU5C-GY1",
        "outputId": "7f346897-0b30-4bc4-c014-db460b516466"
      },
      "source": [
        "s_word_length = {}\n",
        "for s_word in stem_word:\n",
        "    if len(s_word)<10:\n",
        "        add_count(len(s_word), s_word_length)\n",
        "s_word_df = pd.DataFrame(list(s_word_length.items()),columns = ['Letter Count','Frequency']) \n",
        "s_word_df = s_word_df.sort_values(by=['Letter Count'])\n",
        "s_word_df"
      ],
      "execution_count": null,
      "outputs": [
        {
          "data": {
            "text/html": [
              "<div>\n",
              "<style scoped>\n",
              "    .dataframe tbody tr th:only-of-type {\n",
              "        vertical-align: middle;\n",
              "    }\n",
              "\n",
              "    .dataframe tbody tr th {\n",
              "        vertical-align: top;\n",
              "    }\n",
              "\n",
              "    .dataframe thead th {\n",
              "        text-align: right;\n",
              "    }\n",
              "</style>\n",
              "<table border=\"1\" class=\"dataframe\">\n",
              "  <thead>\n",
              "    <tr style=\"text-align: right;\">\n",
              "      <th></th>\n",
              "      <th>Letter Count</th>\n",
              "      <th>Frequency</th>\n",
              "    </tr>\n",
              "  </thead>\n",
              "  <tbody>\n",
              "    <tr>\n",
              "      <th>8</th>\n",
              "      <td>1</td>\n",
              "      <td>7</td>\n",
              "    </tr>\n",
              "    <tr>\n",
              "      <th>7</th>\n",
              "      <td>2</td>\n",
              "      <td>97</td>\n",
              "    </tr>\n",
              "    <tr>\n",
              "      <th>4</th>\n",
              "      <td>3</td>\n",
              "      <td>559</td>\n",
              "    </tr>\n",
              "    <tr>\n",
              "      <th>0</th>\n",
              "      <td>4</td>\n",
              "      <td>1866</td>\n",
              "    </tr>\n",
              "    <tr>\n",
              "      <th>1</th>\n",
              "      <td>5</td>\n",
              "      <td>1097</td>\n",
              "    </tr>\n",
              "    <tr>\n",
              "      <th>2</th>\n",
              "      <td>6</td>\n",
              "      <td>910</td>\n",
              "    </tr>\n",
              "    <tr>\n",
              "      <th>3</th>\n",
              "      <td>7</td>\n",
              "      <td>449</td>\n",
              "    </tr>\n",
              "    <tr>\n",
              "      <th>5</th>\n",
              "      <td>8</td>\n",
              "      <td>126</td>\n",
              "    </tr>\n",
              "    <tr>\n",
              "      <th>6</th>\n",
              "      <td>9</td>\n",
              "      <td>70</td>\n",
              "    </tr>\n",
              "  </tbody>\n",
              "</table>\n",
              "</div>"
            ],
            "text/plain": [
              "   Letter Count  Frequency\n",
              "8             1          7\n",
              "7             2         97\n",
              "4             3        559\n",
              "0             4       1866\n",
              "1             5       1097\n",
              "2             6        910\n",
              "3             7        449\n",
              "5             8        126\n",
              "6             9         70"
            ]
          },
          "execution_count": 71,
          "metadata": {},
          "output_type": "execute_result"
        }
      ]
    },
    {
      "cell_type": "code",
      "metadata": {
        "id": "i6n4uht5-GY2",
        "outputId": "5d5c7199-5853-4d65-90f4-ec86f3e0cab3"
      },
      "source": [
        "plt.plot(word_df['Letter Count'], word_df['Frequency'], label='before stemming')\n",
        "plt.plot(s_word_df['Letter Count'], s_word_df['Frequency'], label='after stemming')\n",
        "plt.title(\"Plot of Length of word and Frequency of appearance\")\n",
        "plt.legend()"
      ],
      "execution_count": null,
      "outputs": [
        {
          "data": {
            "text/plain": [
              "<matplotlib.legend.Legend at 0x7fe2212ee400>"
            ]
          },
          "execution_count": 79,
          "metadata": {},
          "output_type": "execute_result"
        },
        {
          "data": {
            "image/png": "[encoded data removed]",
            "text/plain": [
              "<Figure size 432x288 with 1 Axes>"
            ]
          },
          "metadata": {
            "needs_background": "light"
          },
          "output_type": "display_data"
        }
      ]
    },
    {
      "cell_type": "code",
      "metadata": {
        "id": "ytchiouk-GY2",
        "outputId": "84d8a677-46f1-4f55-8fb0-e7944b30b77c"
      },
      "source": [
        "display_side_by_side(dist, stem_dist, titles=['Before Stemming','After Stemming'])"
      ],
      "execution_count": null,
      "outputs": [
        {
          "data": {
            "text/html": [
              "<th style=\"text-align:center\"><td style=\"vertical-align:top\"><h2>Before Stemming</h2><table style=\"display:inline\" border=\"1\" class=\"dataframe\">\n",
              "  <thead>\n",
              "    <tr style=\"text-align: right;\">\n",
              "      <th></th>\n",
              "      <th>Word</th>\n",
              "      <th>Frequency</th>\n",
              "    </tr>\n",
              "  </thead>\n",
              "  <tbody>\n",
              "    <tr>\n",
              "      <th>0</th>\n",
              "      <td>korean</td>\n",
              "      <td>94</td>\n",
              "    </tr>\n",
              "    <tr>\n",
              "      <th>1</th>\n",
              "      <td>food</td>\n",
              "      <td>88</td>\n",
              "    </tr>\n",
              "    <tr>\n",
              "      <th>2</th>\n",
              "      <td>good</td>\n",
              "      <td>80</td>\n",
              "    </tr>\n",
              "    <tr>\n",
              "      <th>3</th>\n",
              "      <td>place</td>\n",
              "      <td>79</td>\n",
              "    </tr>\n",
              "    <tr>\n",
              "      <th>4</th>\n",
              "      <td>dishes</td>\n",
              "      <td>58</td>\n",
              "    </tr>\n",
              "    <tr>\n",
              "      <th>5</th>\n",
              "      <td>service</td>\n",
              "      <td>57</td>\n",
              "    </tr>\n",
              "    <tr>\n",
              "      <th>6</th>\n",
              "      <td>soup</td>\n",
              "      <td>52</td>\n",
              "    </tr>\n",
              "    <tr>\n",
              "      <th>7</th>\n",
              "      <td>restaurant</td>\n",
              "      <td>46</td>\n",
              "    </tr>\n",
              "    <tr>\n",
              "      <th>8</th>\n",
              "      <td>table style=\"display:inline\"</td>\n",
              "      <td>45</td>\n",
              "    </tr>\n",
              "    <tr>\n",
              "      <th>9</th>\n",
              "      <td>like</td>\n",
              "      <td>41</td>\n",
              "    </tr>\n",
              "  </tbody>\n",
              "</table style=\"display:inline\"></td></th><th style=\"text-align:center\"><td style=\"vertical-align:top\"><h2>After Stemming</h2><table style=\"display:inline\" border=\"1\" class=\"dataframe\">\n",
              "  <thead>\n",
              "    <tr style=\"text-align: right;\">\n",
              "      <th></th>\n",
              "      <th>Word</th>\n",
              "      <th>Frequency</th>\n",
              "    </tr>\n",
              "  </thead>\n",
              "  <tbody>\n",
              "    <tr>\n",
              "      <th>0</th>\n",
              "      <td>place</td>\n",
              "      <td>102</td>\n",
              "    </tr>\n",
              "    <tr>\n",
              "      <th>1</th>\n",
              "      <td>korean</td>\n",
              "      <td>95</td>\n",
              "    </tr>\n",
              "    <tr>\n",
              "      <th>2</th>\n",
              "      <td>food</td>\n",
              "      <td>94</td>\n",
              "    </tr>\n",
              "    <tr>\n",
              "      <th>3</th>\n",
              "      <td>good</td>\n",
              "      <td>81</td>\n",
              "    </tr>\n",
              "    <tr>\n",
              "      <th>4</th>\n",
              "      <td>dish</td>\n",
              "      <td>72</td>\n",
              "    </tr>\n",
              "    <tr>\n",
              "      <th>5</th>\n",
              "      <td>restaur</td>\n",
              "      <td>65</td>\n",
              "    </tr>\n",
              "    <tr>\n",
              "      <th>6</th>\n",
              "      <td>order</td>\n",
              "      <td>62</td>\n",
              "    </tr>\n",
              "    <tr>\n",
              "      <th>7</th>\n",
              "      <td>tabl</td>\n",
              "      <td>60</td>\n",
              "    </tr>\n",
              "    <tr>\n",
              "      <th>8</th>\n",
              "      <td>servic</td>\n",
              "      <td>59</td>\n",
              "    </tr>\n",
              "    <tr>\n",
              "      <th>9</th>\n",
              "      <td>soup</td>\n",
              "      <td>59</td>\n",
              "    </tr>\n",
              "  </tbody>\n",
              "</table style=\"display:inline\"></td></th>"
            ]
          },
          "metadata": {},
          "output_type": "display_data"
        }
      ]
    },
    {
      "cell_type": "code",
      "metadata": {
        "id": "DIiNvq7B-GY3",
        "outputId": "45c00f46-2c64-4137-eec1-88d52c0fc375"
      },
      "source": [
        "#Repeat the process for a new business type. \n",
        "biz_data = random_biz_select(no_of_reviews, no_biz_type, data)"
      ],
      "execution_count": null,
      "outputs": [
        {
          "name": "stdout",
          "output_type": "stream",
          "text": [
            "------ Business ------\n",
            "Business ID: IzcL0KZPKqMbjoIaCmClog\n"
          ]
        }
      ]
    },
    {
      "cell_type": "code",
      "metadata": {
        "id": "S2pdj8J1-GY3"
      },
      "source": [
        "disp_count = 10\n",
        "#Before stemming \n",
        "tokens, dist = word_freq(biz_data, disp_count)\n",
        "#After stemming using porter\n",
        "stem_word, stem_dist = stem_porter(tokens, disp_count)"
      ],
      "execution_count": null,
      "outputs": []
    },
    {
      "cell_type": "code",
      "metadata": {
        "id": "5JlUnkgI-GY4",
        "outputId": "6a230fca-6843-4b52-bcdd-c7a70c528cf8"
      },
      "source": [
        "display_side_by_side(dist, stem_dist, titles=['Before Stemming','After Stemming'])"
      ],
      "execution_count": null,
      "outputs": [
        {
          "data": {
            "text/html": [
              "<th style=\"text-align:center\"><td style=\"vertical-align:top\"><h2>Before Stemming</h2><table style=\"display:inline\" border=\"1\" class=\"dataframe\">\n",
              "  <thead>\n",
              "    <tr style=\"text-align: right;\">\n",
              "      <th></th>\n",
              "      <th>Word</th>\n",
              "      <th>Frequency</th>\n",
              "    </tr>\n",
              "  </thead>\n",
              "  <tbody>\n",
              "    <tr>\n",
              "      <th>0</th>\n",
              "      <td>range</td>\n",
              "      <td>172</td>\n",
              "    </tr>\n",
              "    <tr>\n",
              "      <th>1</th>\n",
              "      <td>shooting</td>\n",
              "      <td>110</td>\n",
              "    </tr>\n",
              "    <tr>\n",
              "      <th>2</th>\n",
              "      <td>time</td>\n",
              "      <td>60</td>\n",
              "    </tr>\n",
              "    <tr>\n",
              "      <th>3</th>\n",
              "      <td>place</td>\n",
              "      <td>58</td>\n",
              "    </tr>\n",
              "    <tr>\n",
              "      <th>4</th>\n",
              "      <td>safety</td>\n",
              "      <td>48</td>\n",
              "    </tr>\n",
              "    <tr>\n",
              "      <th>5</th>\n",
              "      <td>great</td>\n",
              "      <td>47</td>\n",
              "    </tr>\n",
              "    <tr>\n",
              "      <th>6</th>\n",
              "      <td>like</td>\n",
              "      <td>46</td>\n",
              "    </tr>\n",
              "    <tr>\n",
              "      <th>7</th>\n",
              "      <td>people</td>\n",
              "      <td>43</td>\n",
              "    </tr>\n",
              "    <tr>\n",
              "      <th>8</th>\n",
              "      <td>shoot</td>\n",
              "      <td>42</td>\n",
              "    </tr>\n",
              "    <tr>\n",
              "      <th>9</th>\n",
              "      <td>targets</td>\n",
              "      <td>28</td>\n",
              "    </tr>\n",
              "  </tbody>\n",
              "</table style=\"display:inline\"></td></th><th style=\"text-align:center\"><td style=\"vertical-align:top\"><h2>After Stemming</h2><table style=\"display:inline\" border=\"1\" class=\"dataframe\">\n",
              "  <thead>\n",
              "    <tr style=\"text-align: right;\">\n",
              "      <th></th>\n",
              "      <th>Word</th>\n",
              "      <th>Frequency</th>\n",
              "    </tr>\n",
              "  </thead>\n",
              "  <tbody>\n",
              "    <tr>\n",
              "      <th>0</th>\n",
              "      <td>rang</td>\n",
              "      <td>190</td>\n",
              "    </tr>\n",
              "    <tr>\n",
              "      <th>1</th>\n",
              "      <td>shoot</td>\n",
              "      <td>152</td>\n",
              "    </tr>\n",
              "    <tr>\n",
              "      <th>2</th>\n",
              "      <td>time</td>\n",
              "      <td>79</td>\n",
              "    </tr>\n",
              "    <tr>\n",
              "      <th>3</th>\n",
              "      <td>place</td>\n",
              "      <td>62</td>\n",
              "    </tr>\n",
              "    <tr>\n",
              "      <th>4</th>\n",
              "      <td>target</td>\n",
              "      <td>54</td>\n",
              "    </tr>\n",
              "    <tr>\n",
              "      <th>5</th>\n",
              "      <td>like</td>\n",
              "      <td>52</td>\n",
              "    </tr>\n",
              "    <tr>\n",
              "      <th>6</th>\n",
              "      <td>safeti</td>\n",
              "      <td>48</td>\n",
              "    </tr>\n",
              "    <tr>\n",
              "      <th>7</th>\n",
              "      <td>great</td>\n",
              "      <td>47</td>\n",
              "    </tr>\n",
              "    <tr>\n",
              "      <th>8</th>\n",
              "      <td>peopl</td>\n",
              "      <td>43</td>\n",
              "    </tr>\n",
              "    <tr>\n",
              "      <th>9</th>\n",
              "      <td>gun</td>\n",
              "      <td>42</td>\n",
              "    </tr>\n",
              "  </tbody>\n",
              "</table style=\"display:inline\"></td></th>"
            ]
          },
          "metadata": {},
          "output_type": "display_data"
        }
      ]
    },
    {
      "cell_type": "code",
      "metadata": {
        "id": "cjbB37CB-GY4"
      },
      "source": [
        "word_length_2 = {}\n",
        "for word in tokens:\n",
        "    if len(word)<10:\n",
        "        add_count(len(word), word_length_2)\n",
        "word_df_2 = pd.DataFrame(list(word_length_2.items()),columns = ['Letter Count','Frequency']) \n",
        "word_df_2 = word_df_2.sort_values(by=['Letter Count'])\n",
        "\n",
        "\n",
        "s_word_length_2 = {}\n",
        "for s_word in stem_word:\n",
        "    if len(s_word)<10:\n",
        "        add_count(len(s_word), s_word_length_2)\n",
        "s_word_df_2 = pd.DataFrame(list(s_word_length_2.items()),columns = ['Letter Count','Frequency']) \n",
        "s_word_df_2 = s_word_df_2.sort_values(by=['Letter Count'])"
      ],
      "execution_count": null,
      "outputs": []
    },
    {
      "cell_type": "code",
      "metadata": {
        "id": "kDUNGQX5-GY5",
        "outputId": "bc3b1942-b527-427f-950e-efcefca6974d"
      },
      "source": [
        "plt.plot(word_df_2['Letter Count'], word_df_2['Frequency'], label='before stemming')\n",
        "plt.plot(s_word_df_2['Letter Count'], s_word_df_2['Frequency'], label='after stemming')\n",
        "plt.title(\"Plot of Length of word and Frequency of appearance\")\n",
        "plt.legend()"
      ],
      "execution_count": null,
      "outputs": [
        {
          "data": {
            "text/plain": [
              "<matplotlib.legend.Legend at 0x7fe2214fef70>"
            ]
          },
          "execution_count": 81,
          "metadata": {},
          "output_type": "execute_result"
        },
        {
          "data": {
            "image/png": "[encoded data removed]",
            "text/plain": [
              "<Figure size 432x288 with 1 Axes>"
            ]
          },
          "metadata": {
            "needs_background": "light"
          },
          "output_type": "display_data"
        }
      ]
    },
    {
      "cell_type": "markdown",
      "metadata": {
        "id": "Z4MCvkW3-GY6"
      },
      "source": [
        "### Conclusion\n",
        "\n",
        "Generally, by analysing the graphs plotted we notice that there is a gradual decrease in the number of long words. Furthermore, there is a sharp increase in the frequency of length of words in the range 3-5. Longer words tend to reduce more compared to shorter words. \n",
        "\n",
        "In addition, according to the comparison tables printed for stemming, the accuracy of stemming is not always 100% as non english words are produced. "
      ]
    },
    {
      "cell_type": "code",
      "metadata": {
        "id": "drUgigbW-GY6"
      },
      "source": [
        ""
      ],
      "execution_count": null,
      "outputs": []
    }
  ]
}