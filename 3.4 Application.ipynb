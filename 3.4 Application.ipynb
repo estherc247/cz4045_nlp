{
 "cells": [
  {
   "cell_type": "code",
   "execution_count": 1,
   "metadata": {},
   "outputs": [],
   "source": [
    "import numpy as np\n",
    "import pandas as pd\n",
    "import json\n",
    "import nltk\n",
    "from nltk import word_tokenize\n",
    "from nltk.stem import WordNetLemmatizer\n",
    "from nltk.sentiment.vader import SentimentIntensityAnalyzer\n",
    "from sklearn.feature_extraction.text import CountVectorizer, TfidfVectorizer\n",
    "from sklearn.model_selection import train_test_split\n",
    "from nltk.tokenize import word_tokenize\n",
    "\n",
    "import tqdm\n",
    "from tensorflow.keras.preprocessing.sequence import pad_sequences\n",
    "from tensorflow.keras.preprocessing.text import Tokenizer\n",
    "from tensorflow.keras.layers import Embedding, LSTM, Dropout, Dense\n",
    "from tensorflow.keras.layers import SpatialDropout1D\n",
    "from tensorflow.keras.models import Sequential\n",
    "from tensorflow.keras.utils import to_categorical\n",
    "\n",
    "#Regular Expression\n",
    "import re\n",
    "\n",
    "import tensorflow as tf\n",
    "tf.compat.v1.reset_default_graph()"
   ]
  },
  {
   "cell_type": "code",
   "execution_count": 2,
   "metadata": {},
   "outputs": [],
   "source": [
    "with open(\"reviewSelected100.json\", 'r') as read_file:\n",
    "    data = [json.loads(line) for line in read_file]"
   ]
  },
  {
   "cell_type": "code",
   "execution_count": 3,
   "metadata": {},
   "outputs": [
    {
     "data": {
      "text/html": [
       "<div>\n",
       "<style scoped>\n",
       "    .dataframe tbody tr th:only-of-type {\n",
       "        vertical-align: middle;\n",
       "    }\n",
       "\n",
       "    .dataframe tbody tr th {\n",
       "        vertical-align: top;\n",
       "    }\n",
       "\n",
       "    .dataframe thead th {\n",
       "        text-align: right;\n",
       "    }\n",
       "</style>\n",
       "<table border=\"1\" class=\"dataframe\">\n",
       "  <thead>\n",
       "    <tr style=\"text-align: right;\">\n",
       "      <th></th>\n",
       "      <th>Reviews</th>\n",
       "    </tr>\n",
       "  </thead>\n",
       "  <tbody>\n",
       "    <tr>\n",
       "      <th>0</th>\n",
       "      <td>We had my Mother's Birthday Party here on 10/2...</td>\n",
       "    </tr>\n",
       "    <tr>\n",
       "      <th>1</th>\n",
       "      <td>Good Korean grill near Eaton Centre. The marin...</td>\n",
       "    </tr>\n",
       "    <tr>\n",
       "      <th>2</th>\n",
       "      <td>Was recommended to try this place by few peopl...</td>\n",
       "    </tr>\n",
       "    <tr>\n",
       "      <th>3</th>\n",
       "      <td>Ambience: Would not expect something this nice...</td>\n",
       "    </tr>\n",
       "    <tr>\n",
       "      <th>4</th>\n",
       "      <td>Absolutely the WORST pool company that I have ...</td>\n",
       "    </tr>\n",
       "  </tbody>\n",
       "</table>\n",
       "</div>"
      ],
      "text/plain": [
       "                                             Reviews\n",
       "0  We had my Mother's Birthday Party here on 10/2...\n",
       "1  Good Korean grill near Eaton Centre. The marin...\n",
       "2  Was recommended to try this place by few peopl...\n",
       "3  Ambience: Would not expect something this nice...\n",
       "4  Absolutely the WORST pool company that I have ..."
      ]
     },
     "execution_count": 3,
     "metadata": {},
     "output_type": "execute_result"
    }
   ],
   "source": [
    "#Store all reviews in a Pandas DataFrame \n",
    "reviews = []\n",
    "for rev in range(len(data)):\n",
    "    reviews.append(data[rev]['text'])\n",
    "    \n",
    "rev_df = pd.DataFrame(reviews, columns = ['Reviews'])\n",
    "rev_df.head()"
   ]
  },
  {
   "cell_type": "code",
   "execution_count": 4,
   "metadata": {},
   "outputs": [],
   "source": [
    "#Clean data \n",
    "import re\n",
    "\n",
    "#1. Removes Punctuations\n",
    "def remove_punctuations(data):\n",
    "    punct_tag=re.compile(r'[^\\w\\s]')\n",
    "    data=punct_tag.sub(r'',data)\n",
    "    return data\n",
    "\n",
    "#2. Removes HTML syntaxesn(if reviews provide business links)\n",
    "def remove_html(data):\n",
    "    html_tag=re.compile(r'<.*?>')\n",
    "    data=html_tag.sub(r'',data)\n",
    "    return data\n",
    "\n",
    "#3. Removes URL data (if reviews provide business links)\n",
    "def remove_url(data):\n",
    "    url_clean= re.compile(r\"https://\\S+|www\\.\\S+\")\n",
    "    data=url_clean.sub(r'',data)\n",
    "    return data\n",
    "\n",
    "#4. Removes Emojis (if reviews contains expressions)\n",
    "def remove_emoji(data):\n",
    "    emoji_clean= re.compile(\"[\"\n",
    "                           u\"\\U0001F600-\\U0001F64F\"  # emoticons\n",
    "                           u\"\\U0001F300-\\U0001F5FF\"  # symbols & pictographs\n",
    "                           u\"\\U0001F680-\\U0001F6FF\"  # transport & map symbols\n",
    "                           u\"\\U0001F1E0-\\U0001F1FF\"  # flags (iOS)\n",
    "                           u\"\\U00002702-\\U000027B0\"\n",
    "                           u\"\\U000024C2-\\U0001F251\"\n",
    "                           \"]+\", flags=re.UNICODE)\n",
    "    data=emoji_clean.sub(r'',data)\n",
    "    url_clean= re.compile(r\"https://\\S+|www\\.\\S+\")\n",
    "    data=url_clean.sub(r'',data)\n",
    "    return data\n",
    "\n",
    "#5. Lemmatize\n",
    "def lemma_train(data):\n",
    "    lemmatizer=WordNetLemmatizer()\n",
    "    out_data=\"\"\n",
    "    for words in data:\n",
    "        out_data+= lemmatizer.lemmatize(words)\n",
    "    return out_data\n",
    "\n",
    "rev_df['Reviews']=rev_df['Reviews'].apply(lambda z: remove_punctuations(z))\n",
    "rev_df['Reviews']=rev_df['Reviews'].apply(lambda z: remove_html(z))\n",
    "rev_df['Reviews']=rev_df['Reviews'].apply(lambda z: remove_url(z))\n",
    "rev_df['Reviews']=rev_df['Reviews'].apply(lambda z: remove_emoji(z))\n",
    "rev_df['Reviews']=rev_df['Reviews'].apply(lambda z: lemma_train(z))"
   ]
  },
  {
   "cell_type": "code",
   "execution_count": 5,
   "metadata": {},
   "outputs": [
    {
     "data": {
      "text/html": [
       "<div>\n",
       "<style scoped>\n",
       "    .dataframe tbody tr th:only-of-type {\n",
       "        vertical-align: middle;\n",
       "    }\n",
       "\n",
       "    .dataframe tbody tr th {\n",
       "        vertical-align: top;\n",
       "    }\n",
       "\n",
       "    .dataframe thead th {\n",
       "        text-align: right;\n",
       "    }\n",
       "</style>\n",
       "<table border=\"1\" class=\"dataframe\">\n",
       "  <thead>\n",
       "    <tr style=\"text-align: right;\">\n",
       "      <th></th>\n",
       "      <th>Reviews</th>\n",
       "    </tr>\n",
       "  </thead>\n",
       "  <tbody>\n",
       "    <tr>\n",
       "      <th>0</th>\n",
       "      <td>We had my Mothers Birthday Party here on 10291...</td>\n",
       "    </tr>\n",
       "    <tr>\n",
       "      <th>1</th>\n",
       "      <td>Good Korean grill near Eaton Centre The marina...</td>\n",
       "    </tr>\n",
       "    <tr>\n",
       "      <th>2</th>\n",
       "      <td>Was recommended to try this place by few peopl...</td>\n",
       "    </tr>\n",
       "    <tr>\n",
       "      <th>3</th>\n",
       "      <td>Ambience Would not expect something this nice ...</td>\n",
       "    </tr>\n",
       "    <tr>\n",
       "      <th>4</th>\n",
       "      <td>Absolutely the WORST pool company that I have ...</td>\n",
       "    </tr>\n",
       "  </tbody>\n",
       "</table>\n",
       "</div>"
      ],
      "text/plain": [
       "                                             Reviews\n",
       "0  We had my Mothers Birthday Party here on 10291...\n",
       "1  Good Korean grill near Eaton Centre The marina...\n",
       "2  Was recommended to try this place by few peopl...\n",
       "3  Ambience Would not expect something this nice ...\n",
       "4  Absolutely the WORST pool company that I have ..."
      ]
     },
     "execution_count": 5,
     "metadata": {},
     "output_type": "execute_result"
    }
   ],
   "source": [
    "rev_df_clean = rev_df\n",
    "rev_df_clean.head()"
   ]
  },
  {
   "cell_type": "code",
   "execution_count": 6,
   "metadata": {},
   "outputs": [
    {
     "name": "stderr",
     "output_type": "stream",
     "text": [
      "[nltk_data] Downloading package vader_lexicon to\n",
      "[nltk_data]     C:\\Users\\aguga\\AppData\\Roaming\\nltk_data...\n",
      "[nltk_data]   Package vader_lexicon is already up-to-date!\n"
     ]
    }
   ],
   "source": [
    "#Feature Engineering \n",
    "\n",
    "'''\n",
    "Separate the reviews into positive and negative using nltk sentiment vader\n",
    "'''\n",
    "nltk.download('vader_lexicon')\n",
    "from nltk.sentiment.vader import SentimentIntensityAnalyzer\n",
    "nltk_sent = SentimentIntensityAnalyzer()\n",
    "\n",
    "rev_df_clean['ratings'] = rev_df_clean[\"Reviews\"].apply(lambda x: nltk_sent.polarity_scores(x))\n",
    "rev_df_new = pd.concat([rev_df_clean.drop(['ratings'], axis=1), rev_df_clean['ratings'].apply(pd.Series)], axis=1)"
   ]
  },
  {
   "cell_type": "code",
   "execution_count": 7,
   "metadata": {},
   "outputs": [
    {
     "data": {
      "text/html": [
       "<div>\n",
       "<style scoped>\n",
       "    .dataframe tbody tr th:only-of-type {\n",
       "        vertical-align: middle;\n",
       "    }\n",
       "\n",
       "    .dataframe tbody tr th {\n",
       "        vertical-align: top;\n",
       "    }\n",
       "\n",
       "    .dataframe thead th {\n",
       "        text-align: right;\n",
       "    }\n",
       "</style>\n",
       "<table border=\"1\" class=\"dataframe\">\n",
       "  <thead>\n",
       "    <tr style=\"text-align: right;\">\n",
       "      <th></th>\n",
       "      <th>Reviews</th>\n",
       "      <th>neg</th>\n",
       "      <th>neu</th>\n",
       "      <th>pos</th>\n",
       "      <th>compound</th>\n",
       "      <th>comp_rating</th>\n",
       "    </tr>\n",
       "  </thead>\n",
       "  <tbody>\n",
       "    <tr>\n",
       "      <th>0</th>\n",
       "      <td>We had my Mothers Birthday Party here on 10291...</td>\n",
       "      <td>0.000</td>\n",
       "      <td>0.592</td>\n",
       "      <td>0.408</td>\n",
       "      <td>0.9300</td>\n",
       "      <td>pos</td>\n",
       "    </tr>\n",
       "    <tr>\n",
       "      <th>1</th>\n",
       "      <td>Good Korean grill near Eaton Centre The marina...</td>\n",
       "      <td>0.055</td>\n",
       "      <td>0.736</td>\n",
       "      <td>0.208</td>\n",
       "      <td>0.9448</td>\n",
       "      <td>pos</td>\n",
       "    </tr>\n",
       "    <tr>\n",
       "      <th>2</th>\n",
       "      <td>Was recommended to try this place by few peopl...</td>\n",
       "      <td>0.006</td>\n",
       "      <td>0.687</td>\n",
       "      <td>0.307</td>\n",
       "      <td>0.9975</td>\n",
       "      <td>pos</td>\n",
       "    </tr>\n",
       "    <tr>\n",
       "      <th>3</th>\n",
       "      <td>Ambience Would not expect something this nice ...</td>\n",
       "      <td>0.094</td>\n",
       "      <td>0.759</td>\n",
       "      <td>0.148</td>\n",
       "      <td>0.8318</td>\n",
       "      <td>pos</td>\n",
       "    </tr>\n",
       "    <tr>\n",
       "      <th>4</th>\n",
       "      <td>Absolutely the WORST pool company that I have ...</td>\n",
       "      <td>0.090</td>\n",
       "      <td>0.885</td>\n",
       "      <td>0.026</td>\n",
       "      <td>-0.9402</td>\n",
       "      <td>neg</td>\n",
       "    </tr>\n",
       "  </tbody>\n",
       "</table>\n",
       "</div>"
      ],
      "text/plain": [
       "                                             Reviews    neg    neu    pos  \\\n",
       "0  We had my Mothers Birthday Party here on 10291...  0.000  0.592  0.408   \n",
       "1  Good Korean grill near Eaton Centre The marina...  0.055  0.736  0.208   \n",
       "2  Was recommended to try this place by few peopl...  0.006  0.687  0.307   \n",
       "3  Ambience Would not expect something this nice ...  0.094  0.759  0.148   \n",
       "4  Absolutely the WORST pool company that I have ...  0.090  0.885  0.026   \n",
       "\n",
       "   compound comp_rating  \n",
       "0    0.9300         pos  \n",
       "1    0.9448         pos  \n",
       "2    0.9975         pos  \n",
       "3    0.8318         pos  \n",
       "4   -0.9402         neg  "
      ]
     },
     "execution_count": 7,
     "metadata": {},
     "output_type": "execute_result"
    }
   ],
   "source": [
    "rev_df_new['comp_rating'] = rev_df_new['compound'].apply(lambda c: 'pos' if c >=0 else 'neg')\n",
    "\n",
    "rev_df_new.head()"
   ]
  },
  {
   "cell_type": "code",
   "execution_count": 8,
   "metadata": {},
   "outputs": [],
   "source": [
    "upd_df = rev_df_new.drop(columns=['neg','neu','pos','compound'])"
   ]
  },
  {
   "cell_type": "code",
   "execution_count": 9,
   "metadata": {},
   "outputs": [
    {
     "data": {
      "text/plain": [
       "(array([0, 0, 0, ..., 0, 0, 0], dtype=int64),\n",
       " Index(['pos', 'neg'], dtype='object'))"
      ]
     },
     "execution_count": 9,
     "metadata": {},
     "output_type": "execute_result"
    }
   ],
   "source": [
    "sentiment_label = upd_df[\"comp_rating\"].factorize()\n",
    "sentiment_label"
   ]
  },
  {
   "cell_type": "code",
   "execution_count": 10,
   "metadata": {},
   "outputs": [],
   "source": [
    "text_data = upd_df[\"Reviews\"]\n",
    "\n",
    "#Tokenization\n",
    "tokenizer = Tokenizer()\n",
    "tokenizer.fit_on_texts(text_data)\n",
    "encoded_text_data = tokenizer.texts_to_sequences(text_data)"
   ]
  },
  {
   "cell_type": "code",
   "execution_count": 11,
   "metadata": {},
   "outputs": [],
   "source": [
    "SEQUENCE_LENGTH = 200\n",
    "EMBEDDING_SIZE = 32\n",
    "TEST_SIZE = 0.25\n",
    "BATCH_SIZE = 32\n",
    "EPOCHS = 5"
   ]
  },
  {
   "cell_type": "code",
   "execution_count": 12,
   "metadata": {},
   "outputs": [],
   "source": [
    "#ensure all sentences are same size \n",
    "padded_text_data = pad_sequences(encoded_text_data, maxlen=200)"
   ]
  },
  {
   "cell_type": "code",
   "execution_count": 13,
   "metadata": {},
   "outputs": [],
   "source": [
    "#Early stopping \n",
    "early_stopping = tf.keras.callbacks.EarlyStopping(monitor='val_loss', mode = 'min')"
   ]
  },
  {
   "cell_type": "code",
   "execution_count": 14,
   "metadata": {},
   "outputs": [
    {
     "name": "stdout",
     "output_type": "stream",
     "text": [
      "Model: \"sequential\"\n",
      "_________________________________________________________________\n",
      "Layer (type)                 Output Shape              Param #   \n",
      "=================================================================\n",
      "embedding (Embedding)        (None, 200, 32)           1140800   \n",
      "_________________________________________________________________\n",
      "spatial_dropout1d (SpatialDr (None, 200, 32)           0         \n",
      "_________________________________________________________________\n",
      "lstm (LSTM)                  (None, 128)               82432     \n",
      "_________________________________________________________________\n",
      "dropout (Dropout)            (None, 128)               0         \n",
      "_________________________________________________________________\n",
      "dense (Dense)                (None, 1)                 129       \n",
      "=================================================================\n",
      "Total params: 1,223,361\n",
      "Trainable params: 1,223,361\n",
      "Non-trainable params: 0\n",
      "_________________________________________________________________\n"
     ]
    }
   ],
   "source": [
    "model = Sequential()\n",
    "model.add(Embedding(len(tokenizer.word_index)+1,\n",
    "          EMBEDDING_SIZE,\n",
    "          input_length=SEQUENCE_LENGTH))\n",
    "model.add(SpatialDropout1D(0.25))\n",
    "model.add(LSTM(128, dropout=0.5, recurrent_dropout=0.2))\n",
    "model.add(Dropout(0.3))\n",
    "model.add(Dense(1, activation=\"sigmoid\"))\n",
    "model.compile(optimizer=\"adam\", loss='binary_crossentropy',\n",
    "              metrics=[\"accuracy\"])\n",
    "model.summary()"
   ]
  },
  {
   "cell_type": "code",
   "execution_count": 15,
   "metadata": {},
   "outputs": [
    {
     "name": "stdout",
     "output_type": "stream",
     "text": [
      "Epoch 1/5\n",
      "383/383 [==============================] - 105s 268ms/step - loss: 0.3676 - accuracy: 0.8560 - val_loss: 0.2781 - val_accuracy: 0.8667\n"
     ]
    }
   ],
   "source": [
    "history = model.fit(padded_text_data,sentiment_label[0],validation_split=0.2,epochs=EPOCHS,batch_size=BATCH_SIZE, callbacks=[early_stopping])"
   ]
  },
  {
   "cell_type": "code",
   "execution_count": 16,
   "metadata": {},
   "outputs": [
    {
     "name": "stdout",
     "output_type": "stream",
     "text": [
      "Mean Accuracy: 86.66666746139526%\n"
     ]
    }
   ],
   "source": [
    "#Mean accuracy \n",
    "mean_acc = np.mean(history.history['val_accuracy'])\n",
    "print(\"Mean Accuracy: \"+ str(mean_acc*100) +\"%\")"
   ]
  },
  {
   "cell_type": "code",
   "execution_count": 17,
   "metadata": {},
   "outputs": [
    {
     "data": {
      "image/png": "[encoded data removed]",
      "text/plain": [
       "<Figure size 432x288 with 1 Axes>"
      ]
     },
     "metadata": {
      "needs_background": "light"
     },
     "output_type": "display_data"
    }
   ],
   "source": [
    "import matplotlib.pyplot as plt\n",
    "plt.plot(history.history['accuracy'], label='train') \n",
    "plt.plot(history.history['val_accuracy'], label='test') \n",
    "plt.title(\"Plot of model accuracy\")\n",
    "plt.xlabel(\"Epochs\")\n",
    "plt.ylabel(\"Accuracy\")\n",
    "plt.legend()\n",
    "plt.show()"
   ]
  },
  {
   "cell_type": "code",
   "execution_count": 18,
   "metadata": {},
   "outputs": [
    {
     "data": {
      "image/png": "[encoded data removed]",
      "text/plain": [
       "<Figure size 432x288 with 1 Axes>"
      ]
     },
     "metadata": {
      "needs_background": "light"
     },
     "output_type": "display_data"
    }
   ],
   "source": [
    "plt.plot(history.history['loss'], label='train') \n",
    "plt.plot(history.history['val_loss'], label='test') \n",
    "plt.title(\"Plot of model loss\")\n",
    "plt.xlabel(\"Epochs\")\n",
    "plt.ylabel(\"Loss\")\n",
    "plt.legend()\n",
    "plt.show()"
   ]
  },
  {
   "cell_type": "code",
   "execution_count": 19,
   "metadata": {},
   "outputs": [],
   "source": [
    "#Get text predictions\n",
    "def get_predictions(text):\n",
    "    sequence = tokenizer.texts_to_sequences([text])\n",
    "    # pad the sequence\n",
    "    sequence = pad_sequences(sequence, maxlen=200)\n",
    "    prediction = int(model.predict(sequence).round().item())\n",
    "    print(\"Predicted Label:\", sentiment_label[1][prediction])"
   ]
  },
  {
   "cell_type": "code",
   "execution_count": 20,
   "metadata": {},
   "outputs": [],
   "source": [
    "rev_text = \"I ordered this chair last week. The condition was really good. The support is comfortable for the back and the seat is strong\""
   ]
  },
  {
   "cell_type": "code",
   "execution_count": 21,
   "metadata": {},
   "outputs": [
    {
     "name": "stdout",
     "output_type": "stream",
     "text": [
      "Predicted Label: pos\n"
     ]
    }
   ],
   "source": [
    "get_predictions(rev_text)"
   ]
  },
  {
   "cell_type": "code",
   "execution_count": 22,
   "metadata": {},
   "outputs": [
    {
     "name": "stdout",
     "output_type": "stream",
     "text": [
      "Predicted Label: neg\n"
     ]
    }
   ],
   "source": [
    "neg_rev = \"Never again! The service was so slow and the food was not good.\"\n",
    "get_predictions(neg_rev)"
   ]
  },
  {
   "cell_type": "markdown",
   "metadata": {},
   "source": [
    "#### Testing Model Performance\n",
    "\n",
    "Sample 20 reviews from the Yelp Dataset and apply the model in"
   ]
  },
  {
   "cell_type": "code",
   "execution_count": 23,
   "metadata": {},
   "outputs": [
    {
     "data": {
      "text/plain": [
       "8801     The hotel service was outstanding and we reall...\n",
       "3267     Very impressed with our experience at Mayworth...\n",
       "5015     I come here for one thing\\n\\n\\nThe grilled chi...\n",
       "5316     In a half empty restaurant we were told that e...\n",
       "2761     Good home made style burger Dont be alarmed by...\n",
       "5326     Awesome mom and pop shop Recommend to me by my...\n",
       "6064     Yummy eat em ups thanks hot food great people ...\n",
       "9679     So I have had a hatehate relationship with Big...\n",
       "3908     This place is utterly disturbing The fact that...\n",
       "6518     Was excited to try this place based on reviews...\n",
       "13189    I love it here yet hate to come if that makes ...\n",
       "11252    This was my wifes  I first time doing a detoxi...\n",
       "8976     Let me start off by saying that they just lost...\n",
       "12014    We just bought a new Mazda 6 and had a very fa...\n",
       "10159    Came get after a futsal tournament at nearby l...\n",
       "6062     Loving this place I came across by chance a fe...\n",
       "2589     I love this place This is one of the very few ...\n",
       "14084    I went here the first time to discover it clos...\n",
       "1244     A few coworkers suggested this place to take m...\n",
       "857      Tried Kauai cafe for the first time Would have...\n",
       "Name: Reviews, dtype: object"
      ]
     },
     "execution_count": 23,
     "metadata": {},
     "output_type": "execute_result"
    }
   ],
   "source": [
    "sample_df = upd_df[\"Reviews\"].sample(n=20)\n",
    "sample_df"
   ]
  },
  {
   "cell_type": "code",
   "execution_count": 24,
   "metadata": {
    "scrolled": true
   },
   "outputs": [
    {
     "name": "stdout",
     "output_type": "stream",
     "text": [
      "The hotel service was outstanding and we really enjoyed our experience  It is a unique property that was a bank that was converted to a hotel  We really enjoyed our dinner in the restaurant and the fitness center is well equipped I would definitely suggest checking out the bank vault in the basement that has been converted to a cocktail lounge  The property also is dog friendly\n",
      "Predicted Label: pos\n",
      "Actual Label: pos\n",
      "-----------\n",
      "Very impressed with our experience at Mayworth Public House Courteous service delicious food and solid prices Any place my wife can get fish tacos and I can get a burger is a winner Everything came just as we ordered it and we both enjoyed a piece of delicious cheesecake for dessert for 599 Cool that they have a brunch menu as well Well definitely be back for a second go around\n",
      "Predicted Label: pos\n",
      "Actual Label: pos\n",
      "-----------\n",
      "I come here for one thing\n",
      "\n",
      "\n",
      "The grilled chicken chimichangas with the red sauce on the side so i can use it for dipping  I cannot tell you what is all in it but the grilled chicken alone is fantastic Do i love the price for all of thisI guess  Its not a stellar deal or anything but its like a once a month or every other month thing for me  I love that the place gives you chips and salsa before your meal but i usually like to wait for my actual meal so i am not absurdly full from stuffing my face before hand  \n",
      "Believe me Chimichangas are not good later on so you have to have an appetite on you for sure\n",
      "\n",
      "Horchata is okay Not my favorite either seems too watery in my opinion I love it when horchata is more on the creamy slightly sweeter side rather than watery and kind of sweet  One guy that works here knows my friend who is hooked to this place and got me started so when we walk through he already knows  The girl who cannot do her makeup for the life of her on the other hand is a different story\n",
      "Predicted Label: pos\n",
      "Actual Label: pos\n",
      "-----------\n",
      "In a half empty restaurant we were told that even though we could be seated it would probably be at least 30 minutes before we would be served because they only have 6 waffle makers How does a WAFFLE restaurant only have the capacity to make 6 waffles at a time when thats essentially the only thing they serve  That might get you through on a Tuesday but Saturday morning during brunch time youre basically turning away customers who will never come back given the plethora of options\n",
      "Predicted Label: pos\n",
      "Actual Label: neg\n",
      "-----------\n",
      "Good home made style burger Dont be alarmed by the size of the place and if there are no seats when you walk in Pattied are grilled fresh so by the time you burger is ready somebody wwould have finished thier meal It is a tad pricey though\n",
      "\n",
      "Now I am fan buttery goodness but the fries were a bit too greasy If I had to guess the were refried\n",
      "\n",
      "I would give them another chance and get thier daily special Speacial is buy one burger get one free and they have different burger on special each day of the week \n",
      "\n",
      "If take two goes well Ill update my review\n",
      "Predicted Label: pos\n",
      "Actual Label: pos\n",
      "-----------\n",
      "Awesome mom and pop shop Recommend to me by my very favorite hotel concierge Angelica \n",
      "Wonderful food Not just because of the large portions but because the food is spectacular I had the verde pork with the homemade tortillas beans and rice Enough for two meals by the way \n",
      "Great place for lunch or dinner if you are a true Foodie \n",
      "Predicted Label: pos\n",
      "Actual Label: pos\n",
      "-----------\n",
      "Yummy eat em ups thanks hot food great people who very assertive and showed much more care than most places Highly recommended\n",
      "Predicted Label: pos\n",
      "Actual Label: pos\n",
      "-----------\n",
      "So I have had a hatehate relationship with Big Cheese ever since it opened I had tried them a number of times just on the fly as well as post drinks and honestly they never came anywhere close to making me happy \n",
      "\n",
      "Friends really wanted to stop in on Saturday night and I acquiesced to their request Got a large classic to share between 4 of us More than enough food for sure For the first time they managed not to over cook the fries so they didnt taste slightly burned or maybe they just have a new batch of oil on Plus the gravy was actually thick and just salty MASSIVE improvement on the last time I was in there\n",
      "\n",
      "They did ok on Saturday night but honestly not sure I will ever go again myself based on previous experiences which were all mediocare at best\n",
      "\n",
      "Shout out to the 2 ladies working the cash register who were polite friendly and chatty while we waited Was great to see some smiling faces come midnight when you stop for food\n",
      "Predicted Label: pos\n",
      "Actual Label: pos\n",
      "-----------\n",
      "This place is utterly disturbing The fact that I paid almost 7 for the beef curry with pancake roti and received one piece of beef in a bowl smaller than my cup and a small piece of pancake is almost insulting Impossible to see why I paid that that much for something so little\n",
      "Predicted Label: pos\n",
      "Actual Label: neg\n",
      "-----------\n",
      "Was excited to try this place based on reviews Was told the patio was full without hostess even checking Half of the patio was empty which we saw when walking in from the parking lot Ive worked good service and could understand if wait staff coverage was thin but as we waited 15 min for someone to seat us I noticed there were only 4 tables seated inside and about 8 waiters running aroundso no problem with coverage This is lousy service and I wouldnt give my money to place like this Never going back and would not recommend to anyone unless you want to me made to feel that you arent allowed to go here If I could give less than 1 star I sure would\n",
      "Predicted Label: pos\n",
      "Actual Label: neg\n",
      "-----------\n",
      "I love it here yet hate to come if that makes sense Lovely staff that is super sweet Their online portal makes it easy to book an appointment with usual openings within a day or so out Our Vet is Dr White who gives you half super model half super hero Shes patient and appears to treat her techs well You are given your price breakdown before services which is a very nice touch My Smokey was having itching issues and she treated him well The staff will also call with follow up to ensure your babies are well\n",
      "Predicted Label: pos\n",
      "Actual Label: pos\n",
      "-----------\n",
      "This was my wifes  I first time doing a detoxification of ion and colonic Let me tell you it was scary  do to it being are first time The staff was so nice and helpful  We felt welcome right as we walked in  Very nice staff professional  informative step by step I have always had problems going to the restroom and felt miserable  After the colonic I feel wonderful The rooms are  very clean and comfortable environment This is where we will comeback too next time in Vegas LIVE GREAT FEEL GREAT\n",
      "Predicted Label: pos\n",
      "Actual Label: pos\n",
      "-----------\n",
      "Let me start off by saying that they just lost a potential HUGE corporate client due to their overly sexualized and tacky decor\n",
      "   This is not a place to bring families\n",
      "   This is not a place to put up any business clients or anyone you would actually like to make eye contact with in the future\n",
      "\n",
      "   This IS a good place if you want to play out a 50 Shades of Gray fantasy\n",
      "\n",
      "What is so terrible about the room Well the art on the walls leaves something to be desired inspirational wall art includes silhouettes of naked women with a red blood looking liquid surrounding themyeah really classy Also the shower is IN the bedroom I was sharing the room with my wife so privacy wasnt an issue however if I was sharing the room with say my sister or friend I would be mortified to take a shower which is mostly seethrough\n",
      "\n",
      "Horrible decor aside the bed wasnt all that comfy water glasses did not have plastic or anything else on it to prove that it was clean and there wasnt a coffee machine in the room Our room was kind of tucked away but we still heard a good amount of hallway noise doors unlocking and closing\n",
      "Predicted Label: pos\n",
      "Actual Label: pos\n",
      "-----------\n",
      "We just bought a new Mazda 6 and had a very fast and relatively painless process Thanks to Bill Lohmeyer for helping make the process easy and accommodating to our travel schedule since we had to come from out of town In my opinion we got a great deal that beat all the other valley Mazda dealerships and they were so much easier to work with over the phone\n",
      "Predicted Label: pos\n",
      "Actual Label: pos\n",
      "-----------\n",
      "Came get after a futsal tournament at nearby laroche college  Saturday night prime time and they handled a party of 22 with a minimal wait The staff was spectacular  and the food was fantastic  Huge party with burgers  salads pasta and kids meals everybody raved about the taste and the portions were spot on for this hungry crew   Kudos to NPL  A true  gem  on the north hills \n"
     ]
    },
    {
     "name": "stdout",
     "output_type": "stream",
     "text": [
      "Predicted Label: pos\n",
      "Actual Label: pos\n",
      "-----------\n",
      "Loving this place I came across by chance a few months ago  very small place hidden in a shopping center  great carnitas  tripas and tortas  Good service  I usually order for pick up and they get my order just right  Lots of flavor and great prices\n",
      "Predicted Label: pos\n",
      "Actual Label: pos\n",
      "-----------\n",
      "I love this place This is one of the very few places I can find a great steakburger Being from Illinois this is where I go when Im craving SteaknShake since there are none in AZ\n",
      "Predicted Label: pos\n",
      "Actual Label: pos\n",
      "-----------\n",
      "I went here the first time to discover it closed for repairs  I visited it later and it wasnt too busy  Service is good  Thought it was fast food but its sitdown  Wasnt a fan of the fries but the burger was ok\n",
      "Predicted Label: pos\n",
      "Actual Label: pos\n",
      "-----------\n",
      "A few coworkers suggested this place to take my boyfriend out for a surprise and Im glad I did It was a different experience for him since he has never enjoyed the concept of paying to cook your own meal We both had AYCE BBQ which included\n",
      "1 Pork\n",
      "2 Beef\n",
      "3 Chicken\n",
      "4 Beef Ribs\n",
      "5 Ox Tongue\n",
      "6 Ox Liver\n",
      "7 Salmon\n",
      "8 Squid\n",
      "9 Fish fillet\n",
      "10 Sausage \n",
      "\n",
      " and there was free bonuses that came along with the AYCE kimchi radish potato beef soup broth only rice and few others Also their fountain drinks comes with free refills bonus\n",
      "\n",
      "We kept it simple and only ordered the pork beef chicken beef ribs and sausage The quality of these meats were amazing My favorite was the beef ribs Mmmmm delicious The staff was super friendly however slightly slow On multiple occasions we had to get up to get the waiters attention the restaurant has a currently flow of customers which is def a GOOD sign overall we had a good timeexperience and more than likely well go back again soon\n",
      "Predicted Label: pos\n",
      "Actual Label: pos\n",
      "-----------\n",
      "Tried Kauai cafe for the first time Would have given them 4 stars if we didnt order the poke The poke was on the daily special so we thought wed give it a try They give a pretty good amount for the price but it was not fresh at all It had a pretty fishy taste and you could tell it had been previously frozen or something \n",
      "\n",
      "We also ordered the bbq mixed plate which came with char siu chicken teri beef and kalbi I was totally looking forward to trying the char siu chicken and was totally happy with it It was the best part of the plate in my opinion We will definitely go back to try other things Im drooling over everyones pictures of the Lau Lau and lomi\n",
      "Predicted Label: pos\n",
      "Actual Label: pos\n",
      "-----------\n"
     ]
    }
   ],
   "source": [
    "for i in range(len(sample_df)):\n",
    "    print(sample_df.values[i])\n",
    "    get_predictions(sample_df.values[i])\n",
    "    print(\"Actual Label: \" + str(upd_df['comp_rating'][sample_df.index[i]]))\n",
    "    print(\"-----------\")"
   ]
  }
 ],
 "metadata": {
  "kernelspec": {
   "display_name": "Python 3",
   "language": "python",
   "name": "python3"
  },
  "language_info": {
   "codemirror_mode": {
    "name": "ipython",
    "version": 3
   },
   "file_extension": ".py",
   "mimetype": "text/x-python",
   "name": "python",
   "nbconvert_exporter": "python",
   "pygments_lexer": "ipython3",
   "version": "3.8.3"
  }
 },
 "nbformat": 4,
 "nbformat_minor": 4
}
